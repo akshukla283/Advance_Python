{
 "cells": [
  {
   "cell_type": "markdown",
   "id": "25685edd",
   "metadata": {},
   "source": [
    "### Polymorphism in Python\n",
    "\n",
    "`Polymorphism means the ability to represent an object in many forms using a single interface. Polymorphism is derived from two different words poly which means many, morphs means many forms.`\n",
    "\n",
    "\n",
    "`Polymorphism in Python allows us to use the operators, methods, constructors in different forms and perform overloading and overriding on them. `\n",
    "\n",
    "#### The different types of polymorphism are:-\n",
    "\n",
    "#### . Overloading\n",
    "#### . Overriding\n",
    "\n",
    "\n",
    "\n",
    "### Overloading in Python\n",
    "\n",
    "`Based on the values we pass if an object changes its behavior and returns a different outcome then it is known as overloading.` Thus we can use the same operator or method for different purposes.\n",
    "\n",
    "#### Overloading in Python is of three types:-\n",
    "\n",
    "\n",
    "1. * Operator Overloading\n",
    "2. * Method Overloading\n",
    "3. * Constructor Overloading\n",
    "\n",
    "\n",
    "### 1. Operator Overloading\n",
    "\n",
    "`If we can use the same operator for multiple purposes then it is known as Operator Overloading.` * Python does support Operator Overloading.\n",
    "\n",
    "`For example, we can perform operator overloading on the “+” operator. If we pass two numbers then the “+” operator returns the result of addition performed between the numbers.\n",
    "\n",
    "The same operator if we pass two strings then it concatenates them and returns the result as a single string.`"
   ]
  },
  {
   "cell_type": "code",
   "execution_count": 2,
   "id": "f9c7d482",
   "metadata": {},
   "outputs": [
    {
     "data": {
      "text/plain": [
       "8"
      ]
     },
     "execution_count": 2,
     "metadata": {},
     "output_type": "execute_result"
    }
   ],
   "source": [
    "## Addition Operator \"+\"\n",
    "\n",
    "3 + 5 "
   ]
  },
  {
   "cell_type": "code",
   "execution_count": 3,
   "id": "cb635474",
   "metadata": {},
   "outputs": [
    {
     "data": {
      "text/plain": [
       "'Pythontutorial'"
      ]
     },
     "execution_count": 3,
     "metadata": {},
     "output_type": "execute_result"
    }
   ],
   "source": [
    "# Concatenate Operator \"+\"\n",
    "\n",
    "\"Python\" + \"tutorial\""
   ]
  },
  {
   "cell_type": "markdown",
   "id": "9bf7784f",
   "metadata": {},
   "source": [
    "Similarly, If we pass the multiplication operator( * ) between two numbers then it returns the product of the multiplication.\n",
    "\n",
    "The same ” * ” operator if we pass it between an integer and a string then it performs the string repetition operation."
   ]
  },
  {
   "cell_type": "code",
   "execution_count": 4,
   "id": "9258bfd9",
   "metadata": {},
   "outputs": [
    {
     "data": {
      "text/plain": [
       "20"
      ]
     },
     "execution_count": 4,
     "metadata": {},
     "output_type": "execute_result"
    }
   ],
   "source": [
    "# multiplication Operator \" * \"\n",
    "\n",
    "4 * 5"
   ]
  },
  {
   "cell_type": "code",
   "execution_count": 5,
   "id": "4c84dac5",
   "metadata": {},
   "outputs": [
    {
     "data": {
      "text/plain": [
       "'PythonPythonPython'"
      ]
     },
     "execution_count": 5,
     "metadata": {},
     "output_type": "execute_result"
    }
   ],
   "source": [
    "# String Repetition Operator\n",
    "\n",
    "3 * \"Python\"\n"
   ]
  },
  {
   "cell_type": "markdown",
   "id": "a53b28d6",
   "metadata": {},
   "source": [
    "Operator Overloading is making an operator perform some action other than an existing option. Python does support Operator Overloading.\n",
    "\n",
    "\n",
    "`The main usage of Operator Overloading in Python is we can also make the operator perform a particular task irrespective of the arguments that we pass to it.`"
   ]
  },
  {
   "cell_type": "code",
   "execution_count": 6,
   "id": "d349b776",
   "metadata": {},
   "outputs": [
    {
     "data": {
      "text/plain": [
       "6"
      ]
     },
     "execution_count": 6,
     "metadata": {},
     "output_type": "execute_result"
    }
   ],
   "source": [
    "## * is overloaded\n",
    "3 * 2 "
   ]
  },
  {
   "cell_type": "code",
   "execution_count": 7,
   "id": "594b8318",
   "metadata": {},
   "outputs": [
    {
     "data": {
      "text/plain": [
       "'hhh'"
      ]
     },
     "execution_count": 7,
     "metadata": {},
     "output_type": "execute_result"
    }
   ],
   "source": [
    "\"h\" * 3"
   ]
  },
  {
   "cell_type": "markdown",
   "id": "0e711bc0",
   "metadata": {},
   "source": [
    "For this, we need to define the magic method of the operator.\n",
    "\n",
    "\n",
    "`Basically when we use the “+” operator then based on the arguments we pass, the behavior of the operator changes. This is because the “+” operator calls the magic method of the argument we pass.`\n",
    "\n",
    "`If the argument class has the magic method for the “+” operator then it performs the assigned task, else it returns an error.`"
   ]
  },
  {
   "cell_type": "code",
   "execution_count": 8,
   "id": "20950e43",
   "metadata": {},
   "outputs": [
    {
     "data": {
      "text/plain": [
       "8"
      ]
     },
     "execution_count": 8,
     "metadata": {},
     "output_type": "execute_result"
    }
   ],
   "source": [
    "# Addition Operator \"+\"\n",
    "\n",
    "3 + 5   "
   ]
  },
  {
   "cell_type": "markdown",
   "id": "6708fd73",
   "metadata": {},
   "source": [
    "`Here, we are passing 3 and 5 as arguments to the “+” operator. Since 3 and 5 are integers internally the “+” operator checks whether there is a magic method __add__() for 3( <class 'int'> ) and 5( <class 'int'> ). The int class magic method __add__() comes as in-built it performs the addition operation without throwing any error.`"
   ]
  },
  {
   "cell_type": "code",
   "execution_count": 9,
   "id": "1ac0735b",
   "metadata": {},
   "outputs": [
    {
     "name": "stdout",
     "output_type": "stream",
     "text": [
      "<class 'int'> <class 'int'>\n",
      "{'__repr__': <slot wrapper '__repr__' of 'int' objects>, '__hash__': <slot wrapper '__hash__' of 'int' objects>, '__getattribute__': <slot wrapper '__getattribute__' of 'int' objects>, '__lt__': <slot wrapper '__lt__' of 'int' objects>, '__le__': <slot wrapper '__le__' of 'int' objects>, '__eq__': <slot wrapper '__eq__' of 'int' objects>, '__ne__': <slot wrapper '__ne__' of 'int' objects>, '__gt__': <slot wrapper '__gt__' of 'int' objects>, '__ge__': <slot wrapper '__ge__' of 'int' objects>, '__add__': <slot wrapper '__add__' of 'int' objects>, '__radd__': <slot wrapper '__radd__' of 'int' objects>, '__sub__': <slot wrapper '__sub__' of 'int' objects>, '__rsub__': <slot wrapper '__rsub__' of 'int' objects>, '__mul__': <slot wrapper '__mul__' of 'int' objects>, '__rmul__': <slot wrapper '__rmul__' of 'int' objects>, '__mod__': <slot wrapper '__mod__' of 'int' objects>, '__rmod__': <slot wrapper '__rmod__' of 'int' objects>, '__divmod__': <slot wrapper '__divmod__' of 'int' objects>, '__rdivmod__': <slot wrapper '__rdivmod__' of 'int' objects>, '__pow__': <slot wrapper '__pow__' of 'int' objects>, '__rpow__': <slot wrapper '__rpow__' of 'int' objects>, '__neg__': <slot wrapper '__neg__' of 'int' objects>, '__pos__': <slot wrapper '__pos__' of 'int' objects>, '__abs__': <slot wrapper '__abs__' of 'int' objects>, '__bool__': <slot wrapper '__bool__' of 'int' objects>, '__invert__': <slot wrapper '__invert__' of 'int' objects>, '__lshift__': <slot wrapper '__lshift__' of 'int' objects>, '__rlshift__': <slot wrapper '__rlshift__' of 'int' objects>, '__rshift__': <slot wrapper '__rshift__' of 'int' objects>, '__rrshift__': <slot wrapper '__rrshift__' of 'int' objects>, '__and__': <slot wrapper '__and__' of 'int' objects>, '__rand__': <slot wrapper '__rand__' of 'int' objects>, '__xor__': <slot wrapper '__xor__' of 'int' objects>, '__rxor__': <slot wrapper '__rxor__' of 'int' objects>, '__or__': <slot wrapper '__or__' of 'int' objects>, '__ror__': <slot wrapper '__ror__' of 'int' objects>, '__int__': <slot wrapper '__int__' of 'int' objects>, '__float__': <slot wrapper '__float__' of 'int' objects>, '__floordiv__': <slot wrapper '__floordiv__' of 'int' objects>, '__rfloordiv__': <slot wrapper '__rfloordiv__' of 'int' objects>, '__truediv__': <slot wrapper '__truediv__' of 'int' objects>, '__rtruediv__': <slot wrapper '__rtruediv__' of 'int' objects>, '__index__': <slot wrapper '__index__' of 'int' objects>, '__new__': <built-in method __new__ of type object at 0x00007FF9F6299FD0>, 'conjugate': <method 'conjugate' of 'int' objects>, 'bit_length': <method 'bit_length' of 'int' objects>, 'to_bytes': <method 'to_bytes' of 'int' objects>, 'from_bytes': <method 'from_bytes' of 'int' objects>, 'as_integer_ratio': <method 'as_integer_ratio' of 'int' objects>, '__trunc__': <method '__trunc__' of 'int' objects>, '__floor__': <method '__floor__' of 'int' objects>, '__ceil__': <method '__ceil__' of 'int' objects>, '__round__': <method '__round__' of 'int' objects>, '__getnewargs__': <method '__getnewargs__' of 'int' objects>, '__format__': <method '__format__' of 'int' objects>, '__sizeof__': <method '__sizeof__' of 'int' objects>, 'real': <attribute 'real' of 'int' objects>, 'imag': <attribute 'imag' of 'int' objects>, 'numerator': <attribute 'numerator' of 'int' objects>, 'denominator': <attribute 'denominator' of 'int' objects>, '__doc__': \"int([x]) -> integer\\nint(x, base=10) -> integer\\n\\nConvert a number or string to an integer, or return 0 if no arguments\\nare given.  If x is a number, return x.__int__().  For floating point\\nnumbers, this truncates towards zero.\\n\\nIf x is not a number or if base is given, then x must be a string,\\nbytes, or bytearray instance representing an integer literal in the\\ngiven base.  The literal can be preceded by '+' or '-' and be surrounded\\nby whitespace.  The base defaults to 10.  Valid bases are 0 and 2-36.\\nBase 0 means to interpret the base from the string as an integer literal.\\n>>> int('0b100', base=0)\\n4\"}\n"
     ]
    }
   ],
   "source": [
    "# Addition Operator \"+\"\n",
    "\n",
    "print(type(3), type(5))\n",
    "\n",
    "# __dict__ returns members of int class\n",
    "print(int.__dict__)"
   ]
  },
  {
   "cell_type": "code",
   "execution_count": null,
   "id": "da40291c",
   "metadata": {},
   "outputs": [],
   "source": [
    "# # Output\n",
    "# <class 'int'>\n",
    "# mappingproxy(\n",
    "#  {'__abs__': <slot wrapper '__abs__' of 'int' objects>,\n",
    "#  '__add__': <slot wrapper '__add__' of 'int' objects>,\n",
    "#  '__and__': <slot wrapper '__and__' of 'int' objects>,\n",
    "#  ---\n",
    "#  ----\n",
    "# })"
   ]
  },
  {
   "cell_type": "markdown",
   "id": "d23da385",
   "metadata": {},
   "source": [
    "`In the same way, we can define a __add__() magic method for an object and add two or more objects of a class and return the addition result.`\n",
    "\n",
    "`Overloading “+” operator with two objects\n",
    "In the below example, we are adding two objects salary and bonus to calculate the Total_income. But since the salary and bonus are not integers as they are two objects, python returns an error.`"
   ]
  },
  {
   "cell_type": "code",
   "execution_count": 10,
   "id": "96fc7b37",
   "metadata": {},
   "outputs": [
    {
     "ename": "NameError",
     "evalue": "name 'salary' is not defined",
     "output_type": "error",
     "traceback": [
      "\u001b[1;31m---------------------------------------------------------------------------\u001b[0m",
      "\u001b[1;31mNameError\u001b[0m                                 Traceback (most recent call last)",
      "Input \u001b[1;32mIn [10]\u001b[0m, in \u001b[0;36m<cell line: 1>\u001b[1;34m()\u001b[0m\n\u001b[1;32m----> 1\u001b[0m \u001b[38;5;28mprint\u001b[39m(\u001b[43msalary\u001b[49m \u001b[38;5;241m+\u001b[39m bonus)\n",
      "\u001b[1;31mNameError\u001b[0m: name 'salary' is not defined"
     ]
    }
   ],
   "source": [
    "print(salary + bonus) "
   ]
  },
  {
   "cell_type": "markdown",
   "id": "2a19f591",
   "metadata": {},
   "source": [
    "`We need to define a magic method in the class of the first argument we have passed which is salary. Because, when the “+” operator is used it looks for the magic method( __add__() ) in the class of the first argument( “salary” ).`\n",
    "\n",
    "`Since we need to add salary and bonus objects we pass two reference variables self_1 and self_2. self_1 points to the salary object which has an income value of 10000, and self_2 points to the bonus object which has an income value of 5000. And finally, we return the result.`"
   ]
  },
  {
   "cell_type": "code",
   "execution_count": 11,
   "id": "72bb90fa",
   "metadata": {},
   "outputs": [
    {
     "name": "stdout",
     "output_type": "stream",
     "text": [
      "15000\n"
     ]
    }
   ],
   "source": [
    "class employee:\n",
    "    def __init__(self, income):\n",
    "        self.income = income\n",
    "    def __add__(self_1, self_2):\n",
    "        Total_income = self_1.income + self_2.income\n",
    "        return Total_income\n",
    "\n",
    "salary = employee(10000)\n",
    "bonus = employee(5000)\n",
    "print(salary + bonus) "
   ]
  },
  {
   "cell_type": "markdown",
   "id": "31d3fabb",
   "metadata": {},
   "source": [
    "### Overloading “*” operator with two objects\n",
    "\n",
    "`In this section, we try to overload the multiplication operator( * ) with two objects. Basically, the * operator can act like a multiplication or string repetition operator. But to multiply two objects we need to define the magic method of the first object that we are passing.`\n",
    "\n",
    "`The magic method of the * operator is __mul__(). We need to define __mul__() inside the class of first object that we are passing.`\n",
    "\n",
    "Since we need to multiply fuel and price objects we pass two reference variables self_1 and self_2. The self_1 points to the fuel object which has a fuel_litres of 20, and self_2 points to the price object which has a fuel_price of 5000. And finally, we return the result as the total amount."
   ]
  },
  {
   "cell_type": "code",
   "execution_count": 14,
   "id": "eea2d054",
   "metadata": {},
   "outputs": [
    {
     "name": "stdout",
     "output_type": "stream",
     "text": [
      "2000 /-\n"
     ]
    }
   ],
   "source": [
    "class car:\n",
    "    def __init__(self, fuel_litres):\n",
    "        \n",
    "        self.fuel_litres = fuel_litres\n",
    "    def __mul__(self_1, self_2):\n",
    "        Total_Amount = self_1.fuel_litres * self_2.fuel_price\n",
    "        return Total_Amount\n",
    "    \n",
    "class fuel_price:\n",
    "    def __init__(self, fuel_price):\n",
    "        self.fuel_price = fuel_price \n",
    "\n",
    "\n",
    "fuel = car(20)\n",
    "price = fuel_price(100)\n",
    "print(fuel * price, \"/-\") "
   ]
  },
  {
   "cell_type": "markdown",
   "id": "83d88ed5",
   "metadata": {},
   "source": [
    "\n",
    "### Note:-\n",
    "\n",
    "`fuel * price and price * fuel are not the same. To calculate price * fuel we need to define the __mul__() method in the price class. Because the * operator looks for the magic method in the class of the first argument that we have passed.`"
   ]
  },
  {
   "cell_type": "code",
   "execution_count": 21,
   "id": "c7492397",
   "metadata": {},
   "outputs": [
    {
     "name": "stdout",
     "output_type": "stream",
     "text": [
      "Remaining tank volume : 80 /-litre\n"
     ]
    }
   ],
   "source": [
    "class Tank_capacity:\n",
    "    def __init__(self, Tank_capacity):\n",
    "        self.Tank_capacity = Tank_capacity\n",
    "        \n",
    "        \n",
    "    def __sub__(self_1, self_2):\n",
    "        Total_Amount = self_1.Tank_capacity - self_2.fuel_litres\n",
    "        return Total_Amount\n",
    "    \n",
    "class fuel_litres:\n",
    "    def __init__(self, fuel_litres):\n",
    "        self.fuel_litres = fuel_litres\n",
    "\n",
    "\n",
    "filled_fuel = car(20)\n",
    "tank= Tank_capacity(100)\n",
    "print(\"Remaining tank volume :\", tank - filled_fuel, \"/-litre\") "
   ]
  },
  {
   "cell_type": "code",
   "execution_count": null,
   "id": "9abcdfd8",
   "metadata": {},
   "outputs": [],
   "source": []
  },
  {
   "cell_type": "code",
   "execution_count": 23,
   "id": "c206e8f3",
   "metadata": {},
   "outputs": [
    {
     "name": "stdout",
     "output_type": "stream",
     "text": [
      "2000 /-\n"
     ]
    }
   ],
   "source": [
    "class car:\n",
    "    def __init__(self, fuel_litres):\n",
    "        \n",
    "        self.fuel_litres = fuel_litres\n",
    "    def __mul__(self_1, self_2):\n",
    "        Total_Amount = self_1.fuel_litres * self_2.price\n",
    "        return Total_Amount\n",
    "    \n",
    "class fuel_price:\n",
    "    def __init__(self, price):\n",
    "        self.price = price \n",
    "\n",
    "\n",
    "fuel = car(20)\n",
    "price = fuel_price(100)\n",
    "print(fuel * price, \"/-\") "
   ]
  },
  {
   "cell_type": "markdown",
   "id": "486e3473",
   "metadata": {},
   "source": [
    "#### `__str__() method`\n",
    "\n",
    "`The object contains the members of the class. The object reference is used to point to the object of the class and using the object reference we access the members it has stored in it.`\n",
    "\n",
    "`If we try to print the object reference the values returned will be in a string format which contains the memory address of the location in which the object is stored.`"
   ]
  },
  {
   "cell_type": "code",
   "execution_count": 29,
   "id": "7b7aeb72",
   "metadata": {},
   "outputs": [
    {
     "name": "stdout",
     "output_type": "stream",
     "text": [
      "<__main__.car object at 0x000001D9BA19E310>\n"
     ]
    }
   ],
   "source": [
    "class car:\n",
    "    def __init__(self, fuel_litres, fuel_price):\n",
    "        self.fuel_price = fuel_price\n",
    "        self.fuel_litres = fuel_litres\n",
    "        \n",
    "        \n",
    "obj = car(20, 100)\n",
    "print(obj)"
   ]
  },
  {
   "cell_type": "markdown",
   "id": "c9887494",
   "metadata": {},
   "source": [
    "But to print the values present in the object this is not needed. This is the reason we need to define a method that can print the values present in the object.\n",
    "\n",
    "`Basically, when we print the object_reference of an object then the internally __str__() method is called.` So if we define this method explicitly from our side then the values stored in an object can be returned."
   ]
  },
  {
   "cell_type": "code",
   "execution_count": 30,
   "id": "c5bf74d2",
   "metadata": {},
   "outputs": [
    {
     "name": "stdout",
     "output_type": "stream",
     "text": [
      "Fuel price: 100 \n",
      "Fuel litres: 20\n"
     ]
    }
   ],
   "source": [
    "class car:\n",
    "    def __init__(self, fuel_litres, fuel_price):\n",
    "        self.fuel_price = fuel_price\n",
    "        self.fuel_litres = fuel_litres\n",
    "    \n",
    "    def __str__(self):\n",
    "        return f\"Fuel price: {self.fuel_price} \\nFuel litres: {self.fuel_litres}\"\n",
    "    \n",
    "    \n",
    "obj = car(20, 100)\n",
    "print(obj)"
   ]
  },
  {
   "cell_type": "markdown",
   "id": "33c934dd",
   "metadata": {},
   "source": [
    "#### 2. Method Overloading\n",
    "\n",
    "`If there are two or more methods in a class with the same name but a different number of arguments then it is known as Method overloading`. \n",
    "\n",
    "#### Note : \n",
    "`In Python, Method Overloading is not supported.\n",
    "`\n",
    "\n",
    "Even though method overloading is not supported in Python, `if we try to declare multiple methods with the same name but different arguments then the bottom-most or last method is considered and executed.`\n",
    "\n",
    "In the below example, even though we are overloading the method with multiple arguments the bottom-most method is considered as m1() and is executed."
   ]
  },
  {
   "cell_type": "code",
   "execution_count": 32,
   "id": "7353cd2b",
   "metadata": {},
   "outputs": [
    {
     "name": "stdout",
     "output_type": "stream",
     "text": [
      "Fourth method\n"
     ]
    }
   ],
   "source": [
    "class Employee:\n",
    "    def m1(self):\n",
    "        print(\"First method\")\n",
    "    def m1(self, b):\n",
    "        print(\"Second method\")\n",
    "    def m1(self, c, d):\n",
    "        print(\"Third method\")\n",
    "        \n",
    "    def m1(self):\n",
    "        print(\"Fourth method\")\n",
    "        \n",
    "        \n",
    "obj = Employee()\n",
    "\n",
    "obj.m1()"
   ]
  },
  {
   "cell_type": "markdown",
   "id": "2f0523a0",
   "metadata": {},
   "source": [
    "`The reason behind this is that Python is a Dynamically Typed Language. Basically dynamically typed languages do not support method overloading. Dynamically typed means in python, we don’t explicitly determine the data type of the variable.`"
   ]
  },
  {
   "cell_type": "markdown",
   "id": "b7ef1026",
   "metadata": {},
   "source": [
    "Instead of declaring multiple methods with a different number of arguments each time, we use the variable argument concept. These variable arguments are stored in a tuple and can be accessed by iterating over a for loop."
   ]
  },
  {
   "cell_type": "code",
   "execution_count": 33,
   "id": "04a9c73c",
   "metadata": {},
   "outputs": [
    {
     "name": "stdout",
     "output_type": "stream",
     "text": [
      "hello\n",
      "20\n",
      "python\n"
     ]
    }
   ],
   "source": [
    "class employee:\n",
    "    \n",
    "    def m1(self, *a):\n",
    "        for i in a:\n",
    "            print(i)\n",
    "            \n",
    "            \n",
    "obj = employee()\n",
    "obj.m1(\"hello\", 20, \"python\")"
   ]
  },
  {
   "cell_type": "markdown",
   "id": "651a64b2",
   "metadata": {},
   "source": [
    "### 3. Constructor Overloading\n",
    "\n",
    "\n",
    "`If we define more than one constructor with the same name but with different arguments then it is known as constructor overloading.`\n",
    "\n",
    "#### Note :\n",
    "`Python does not support constructor overloading.`\n",
    "\n",
    "Similar to method overloading, python also doesn’t support constructor overloading due to dynamic typing. In case if we try to declare multiple constructors with the same name but variable arguments, then the bottom-most constructor is considered."
   ]
  },
  {
   "cell_type": "code",
   "execution_count": 34,
   "id": "a6017903",
   "metadata": {},
   "outputs": [],
   "source": [
    "class employee:\n",
    "    def __init__(self):\n",
    "        print(\"constructor_1\")\n",
    "        \n",
    "    def __init__(self, a, b):\n",
    "        print(\"constructor_2\")\n",
    "        \n",
    "        "
   ]
  },
  {
   "cell_type": "code",
   "execution_count": 36,
   "id": "aad832c8",
   "metadata": {},
   "outputs": [
    {
     "name": "stdout",
     "output_type": "stream",
     "text": [
      "constructor_2\n"
     ]
    }
   ],
   "source": [
    "obj = employee(2,3)"
   ]
  },
  {
   "cell_type": "markdown",
   "id": "e6c063bb",
   "metadata": {},
   "source": [
    "`Instead of declaring multiple constructors with a different number of arguments each time, we use the variable argument concept. These variable arguments are stored in a tuple and can be accessed by iterating over a for loop.`"
   ]
  },
  {
   "cell_type": "code",
   "execution_count": 37,
   "id": "e5388329",
   "metadata": {},
   "outputs": [
    {
     "name": "stdout",
     "output_type": "stream",
     "text": [
      "constructor method\n",
      "constructor method\n"
     ]
    }
   ],
   "source": [
    "class employee:\n",
    "    def __init__(self, *a):\n",
    "        print(\"constructor method\")\n",
    "obj = employee(20, 30, 50, 60)\n",
    "obj = employee(\"hello\", 20, \"python\")"
   ]
  },
  {
   "cell_type": "markdown",
   "id": "6646523f",
   "metadata": {},
   "source": [
    "### Overriding in Python\n",
    "\n",
    "`In inheritance, the child class can access all the members of the parent class. But if the child class is not satisfied by the features of the parent class then it can re-define few members and use them. This is known as overriding.`\n",
    "\n",
    "`In Python, we can override methods and constructors.`"
   ]
  },
  {
   "cell_type": "markdown",
   "id": "6e9bed9b",
   "metadata": {},
   "source": [
    "### Method Overriding in Python\n",
    "\n",
    "`To override a method in the parent class we need to redefine the same method in the child class. So when the method is called from the object of the child class the new method will be called due to Method Resolution Order(MRO).`\n",
    "\n",
    "In the below example, class A is inherited by class B. But in class B we are overriding the method() by redefining it. Now if we call the method(), the child class method is called because it is overriding the method in the parent class."
   ]
  },
  {
   "cell_type": "code",
   "execution_count": 38,
   "id": "984ac6d8",
   "metadata": {},
   "outputs": [
    {
     "name": "stdout",
     "output_type": "stream",
     "text": [
      "Class A method overrided\n",
      "new features added\n"
     ]
    }
   ],
   "source": [
    "\n",
    "class A:\n",
    "    def method(self):\n",
    "        print(\"Class A method\")\n",
    "class B(A):\n",
    "    def method(self):\n",
    "        print(\"Class A method overrided\")\n",
    "        print(\"new features added\")\n",
    "\n",
    "obj = B()\n",
    "obj.method()\n"
   ]
  },
  {
   "cell_type": "markdown",
   "id": "35bbc4d1",
   "metadata": {},
   "source": [
    "### Note:\n",
    "\n",
    "`If we still want to use the parent class method then we can use super() function to load the method into child class and make use of both the methods.`"
   ]
  },
  {
   "cell_type": "code",
   "execution_count": 39,
   "id": "7b34a726",
   "metadata": {},
   "outputs": [
    {
     "name": "stdout",
     "output_type": "stream",
     "text": [
      "Class A method\n",
      "Class A method overrided\n",
      "new features added\n"
     ]
    }
   ],
   "source": [
    "class A:\n",
    "    def method(self):\n",
    "        print(\"Class A method\")\n",
    "class B(A):\n",
    "    def method(self):\n",
    "        super().method()\n",
    "        print(\"Class A method overrided\")\n",
    "        print(\"new features added\")\n",
    "\n",
    "obj = B()\n",
    "obj.method()\n"
   ]
  },
  {
   "cell_type": "markdown",
   "id": "181aed6d",
   "metadata": {},
   "source": [
    "### Constructor Overriding in Python\n",
    "\n",
    "`To override a constructor in the parent class we need to redefine the same constructor in the child class. So when the constructor is called during the object creation of the child class it overrides the method in the parent class.`\n",
    "\n",
    "`In the below example, class A is inherited by class B. But in class B we are overriding the __init__() by redefining it. Now if we create the object of the child class, the new constructor will be executed by overriding the constructor in the parent class.`"
   ]
  },
  {
   "cell_type": "code",
   "execution_count": 40,
   "id": "a684112d",
   "metadata": {},
   "outputs": [
    {
     "name": "stdout",
     "output_type": "stream",
     "text": [
      "Constructor override\n",
      "new features added\n"
     ]
    }
   ],
   "source": [
    "class A:\n",
    "    def __init__(self):\n",
    "        print(\"Class A\")\n",
    "        \n",
    "class B(A):\n",
    "    def __init__(self):\n",
    "        print(\"Constructor override\")\n",
    "        print(\"new features added\")\n",
    "        \n",
    "obj = B()"
   ]
  },
  {
   "cell_type": "markdown",
   "id": "8600c64d",
   "metadata": {},
   "source": [
    "#### Note : \n",
    "\n",
    "`Similarly, If we still want to use the parent class constructor then we can use super() function to load the constructor into child class and make use of both constructors.`"
   ]
  },
  {
   "cell_type": "code",
   "execution_count": 42,
   "id": "67633c3c",
   "metadata": {},
   "outputs": [
    {
     "name": "stdout",
     "output_type": "stream",
     "text": [
      "Class A\n",
      "Constructor override\n",
      "new features added\n"
     ]
    }
   ],
   "source": [
    "class A:\n",
    "    def __init__(self):\n",
    "        print(\"Class A\")\n",
    "        \n",
    "class B(A):\n",
    "    def __init__(self):\n",
    "        super().__init__()\n",
    "        print(\"Constructor override\")\n",
    "        print(\"new features added\")\n",
    "\n",
    "obj = B()\n",
    "\n"
   ]
  },
  {
   "cell_type": "code",
   "execution_count": null,
   "id": "8830b20d",
   "metadata": {},
   "outputs": [],
   "source": []
  }
 ],
 "metadata": {
  "kernelspec": {
   "display_name": "Python 3 (ipykernel)",
   "language": "python",
   "name": "python3"
  },
  "language_info": {
   "codemirror_mode": {
    "name": "ipython",
    "version": 3
   },
   "file_extension": ".py",
   "mimetype": "text/x-python",
   "name": "python",
   "nbconvert_exporter": "python",
   "pygments_lexer": "ipython3",
   "version": "3.9.7"
  }
 },
 "nbformat": 4,
 "nbformat_minor": 5
}
