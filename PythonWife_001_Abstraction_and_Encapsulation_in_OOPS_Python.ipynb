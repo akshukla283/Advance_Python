{
 "cells": [
  {
   "cell_type": "markdown",
   "id": "a75f43b9",
   "metadata": {},
   "source": [
    "### Abstraction in Python\n",
    "\n",
    "`Abstraction means partial implementation of functionality. In Abstraction, we can define a function without complete functionality in a class so that it can be defined completely in its child class.`\n",
    "\n",
    "\n",
    "Using abstraction we can provide code reusability and reduce the complexity of the code. Abstraction also provides more security.\n",
    "\n",
    "In Python, we can implement abstraction using abstract classes and abstract methods, where both of them are inherited from the abstract base class module( abc ).\n",
    "\n",
    "\n",
    "Let’s check how to declare an abstract method, abstract class, and the properties associated with them.\n",
    "\n",
    "### abstract method\n",
    "\n",
    "`A method is known as the abstract method if it’s declared but without proper implementation. Such types of methods are known as abstract methods.`\n",
    "\n",
    "Child classes are responsible to provide an implementation of the parent class abstract methods.\n",
    "\n",
    "\n",
    "In Python, we declare the abstract method by using the `@abstractmethod` decorator. This decorator is present in `abc module` so we need to import it.\n",
    "\n",
    "In the below example, the method `m1` is an abstract method in the parent class. We are declaring the` m1` as an abstract method using the `@abstractmethod` decorator."
   ]
  },
  {
   "cell_type": "code",
   "execution_count": 1,
   "id": "b802a87d",
   "metadata": {},
   "outputs": [],
   "source": [
    "from abc import abstractmethod\n",
    "\n",
    "class Parent:\n",
    "    @abstractmethod\n",
    "    def m1(self):\n",
    "        pass"
   ]
  },
  {
   "cell_type": "markdown",
   "id": "afcc1bed",
   "metadata": {},
   "source": [
    "Since the abstract method `m1` is partially implemented in the parent class, the child class that inherits the parent class is responsible for complete declaration."
   ]
  },
  {
   "cell_type": "code",
   "execution_count": 2,
   "id": "256aabfc",
   "metadata": {},
   "outputs": [],
   "source": [
    "from abc import abstractmethod\n",
    "\n",
    "class Parent:\n",
    "    \n",
    "    @abstractmethod\n",
    "    def m1(self):\n",
    "        pass\n",
    "    \n",
    "class Child(Parent):\n",
    "    def m1(self):\n",
    "        pass\n",
    "        \n",
    "# obj = Child()\n",
    "# obj.m1()"
   ]
  },
  {
   "cell_type": "code",
   "execution_count": 4,
   "id": "44fccf02",
   "metadata": {},
   "outputs": [
    {
     "name": "stdout",
     "output_type": "stream",
     "text": [
      "Hi, Welcome\n"
     ]
    }
   ],
   "source": [
    "from abc import abstractmethod\n",
    "\n",
    "class Parent:\n",
    "    \n",
    "    @abstractmethod\n",
    "    def m1(self):\n",
    "        pass\n",
    "    \n",
    "class Child(Parent):\n",
    "    def m1(self):\n",
    "        print(\"Hi, Welcome\")\n",
    "        \n",
    "obj = Child()\n",
    "obj.m1()"
   ]
  },
  {
   "cell_type": "markdown",
   "id": "c3c29b5f",
   "metadata": {},
   "source": [
    "### abstract class\n",
    "\n",
    "`If the class is partially implemented and is inherited from the ABC class then such type of partially implemented class is known as the abstract class. abstract classes may have one or more abstract methods in them.`"
   ]
  },
  {
   "cell_type": "code",
   "execution_count": 5,
   "id": "3ba16c75",
   "metadata": {},
   "outputs": [
    {
     "name": "stdout",
     "output_type": "stream",
     "text": [
      "Hi\n"
     ]
    }
   ],
   "source": [
    "from abc import ABC, abstractmethod\n",
    "\n",
    "class Parent(ABC):\n",
    "    @abstractmethod\n",
    "    def m1(self):\n",
    "        pass\n",
    "    \n",
    "    \n",
    "class Child(Parent):\n",
    "    def m1(self):\n",
    "        print(\"Hi\")\n",
    "        \n",
    "obj = Child()\n",
    "obj.m1()"
   ]
  },
  {
   "cell_type": "markdown",
   "id": "83a9a32b",
   "metadata": {},
   "source": [
    "### Important conclusions about abstract class and abstract method\n",
    "\n",
    "\n",
    "`If an abstract class contains an abstract method then object or instantiation of the class is not possible because it has not completed implementation.`\n",
    "\n",
    "But if the abstract class has no abstract method then it can be instantiated.\n",
    "\n",
    "In the below example, the `parent` class is an abstract class and has an abstract method in it. This means it’s not completely implemented.\n",
    "\n",
    "So such classes cannot be instantiated. If we try to create an object for this class it returns an error."
   ]
  },
  {
   "cell_type": "code",
   "execution_count": 8,
   "id": "c34e5629",
   "metadata": {},
   "outputs": [
    {
     "ename": "TypeError",
     "evalue": "Can't instantiate abstract class Parent with abstract method m1",
     "output_type": "error",
     "traceback": [
      "\u001b[1;31m---------------------------------------------------------------------------\u001b[0m",
      "\u001b[1;31mTypeError\u001b[0m                                 Traceback (most recent call last)",
      "Input \u001b[1;32mIn [8]\u001b[0m, in \u001b[0;36m<cell line: 9>\u001b[1;34m()\u001b[0m\n\u001b[0;32m      5\u001b[0m     \u001b[38;5;129m@abstractmethod\u001b[39m\n\u001b[0;32m      6\u001b[0m     \u001b[38;5;28;01mdef\u001b[39;00m \u001b[38;5;21mm1\u001b[39m(\u001b[38;5;28mself\u001b[39m):\n\u001b[0;32m      7\u001b[0m         \u001b[38;5;28;01mpass\u001b[39;00m\n\u001b[1;32m----> 9\u001b[0m obj \u001b[38;5;241m=\u001b[39m \u001b[43mParent\u001b[49m\u001b[43m(\u001b[49m\u001b[43m)\u001b[49m\n",
      "\u001b[1;31mTypeError\u001b[0m: Can't instantiate abstract class Parent with abstract method m1"
     ]
    }
   ],
   "source": [
    "from abc import ABC, abstractmethod\n",
    "\n",
    "class Parent(ABC):\n",
    "    \n",
    "    @abstractmethod\n",
    "    def m1(self):\n",
    "        pass\n",
    "    \n",
    "obj = Parent()"
   ]
  },
  {
   "cell_type": "markdown",
   "id": "36789817",
   "metadata": {},
   "source": [
    "In the below example, the parent class is an abstract class but has no abstract method in it. Such classes can be instantiated."
   ]
  },
  {
   "cell_type": "code",
   "execution_count": 9,
   "id": "55662f39",
   "metadata": {},
   "outputs": [],
   "source": [
    "from abc import ABC, abstractmethod\n",
    "\n",
    "class Parent(ABC):\n",
    "    \n",
    "    pass\n",
    "\n",
    "obj = Parent()"
   ]
  },
  {
   "cell_type": "markdown",
   "id": "0c6a1df7",
   "metadata": {},
   "source": [
    "`If an abstract class has an abstract method and the child class that inherits the parent abstract class has to definitely implement all the abstract methods that are in the parent class. If we don’t implement all these abstract methods then it returns TypeError.`\n",
    "\n",
    "#### Note:- \n",
    "\n",
    "An abstract class with an abstract method provides guidelines to implement methods for a child class.\n",
    "\n",
    "In the below example, the parent class is an abstract class and has abstract methods` m1, m2` in it. The `child` class that inherits the `parent` class has to definitely implement the abstract methods `m1 and m2`."
   ]
  },
  {
   "cell_type": "code",
   "execution_count": 1,
   "id": "14569627",
   "metadata": {},
   "outputs": [
    {
     "name": "stdout",
     "output_type": "stream",
     "text": [
      "hi\n",
      "Hello\n"
     ]
    }
   ],
   "source": [
    "from abc import ABC, abstractmethod\n",
    "\n",
    "class Parent(ABC):\n",
    "    \n",
    "    @abstractmethod\n",
    "    def m1(self):\n",
    "        pass\n",
    "    \n",
    "    @abstractmethod\n",
    "    def m2(self):\n",
    "        pass\n",
    "    \n",
    "class Child(Parent):\n",
    "    def m1(self):\n",
    "        print('hi')\n",
    "        \n",
    "    def m2(self):\n",
    "        print(\"Hello\")\n",
    "        \n",
    "        \n",
    "        \n",
    "obj = Child()\n",
    "\n",
    "obj.m1()\n",
    "obj.m2()\n"
   ]
  },
  {
   "cell_type": "markdown",
   "id": "7eaf8bfb",
   "metadata": {},
   "source": [
    "If we don’t implement the abstract methods of an abstract class then python returns `TypeError.`"
   ]
  },
  {
   "cell_type": "code",
   "execution_count": 2,
   "id": "8afc396b",
   "metadata": {},
   "outputs": [
    {
     "ename": "TypeError",
     "evalue": "Can't instantiate abstract class child with abstract method m1",
     "output_type": "error",
     "traceback": [
      "\u001b[1;31m---------------------------------------------------------------------------\u001b[0m",
      "\u001b[1;31mTypeError\u001b[0m                                 Traceback (most recent call last)",
      "Input \u001b[1;32mIn [2]\u001b[0m, in \u001b[0;36m<cell line: 14>\u001b[1;34m()\u001b[0m\n\u001b[0;32m     10\u001b[0m     \u001b[38;5;28;01mdef\u001b[39;00m \u001b[38;5;21mfunc\u001b[39m(\u001b[38;5;28mself\u001b[39m):\n\u001b[0;32m     11\u001b[0m         \u001b[38;5;28mprint\u001b[39m(\u001b[38;5;124m\"\u001b[39m\u001b[38;5;124mhi\u001b[39m\u001b[38;5;124m\"\u001b[39m)\n\u001b[1;32m---> 14\u001b[0m obj \u001b[38;5;241m=\u001b[39m \u001b[43mchild\u001b[49m\u001b[43m(\u001b[49m\u001b[43m)\u001b[49m\n\u001b[0;32m     15\u001b[0m obj\u001b[38;5;241m.\u001b[39mfunc()\n",
      "\u001b[1;31mTypeError\u001b[0m: Can't instantiate abstract class child with abstract method m1"
     ]
    }
   ],
   "source": [
    "from abc import abstractmethod\n",
    "\n",
    "class parent(ABC):\n",
    "    @abstractmethod\n",
    "    def m1(self):\n",
    "        pass\n",
    "    \n",
    "    \n",
    "class child(parent):\n",
    "    def func(self):\n",
    "        print(\"hi\")\n",
    "\n",
    "\n",
    "obj = child()\n",
    "obj.func()"
   ]
  },
  {
   "cell_type": "markdown",
   "id": "1239bf85",
   "metadata": {},
   "source": [
    "`But if the parent class is not an abstract class but has abstract methods then the child class does not have to definitely implement the abstract methods from the parent class.`\n",
    "\n",
    "In the below example, the `parent` class is not an abstract class but has an abstract method `m1`. The `child` class does not have to definitely implement this abstract method. It’s completely optional for declaring such abstract methods."
   ]
  },
  {
   "cell_type": "code",
   "execution_count": 3,
   "id": "925b0d73",
   "metadata": {},
   "outputs": [
    {
     "name": "stdout",
     "output_type": "stream",
     "text": [
      "hi\n"
     ]
    }
   ],
   "source": [
    "from abc import abstractmethod\n",
    "class Parent:\n",
    "    @abstractmethod\n",
    "    def m1(self):\n",
    "        pass\n",
    "    \n",
    "class Child(Parent):\n",
    "    def m1(self):\n",
    "        print(\"hi\")\n",
    "\n",
    "\n",
    "obj = Child()\n",
    "obj.m1()"
   ]
  },
  {
   "cell_type": "code",
   "execution_count": 4,
   "id": "d8979b47",
   "metadata": {},
   "outputs": [
    {
     "name": "stdout",
     "output_type": "stream",
     "text": [
      "hi\n"
     ]
    }
   ],
   "source": [
    "from abc import abstractmethod\n",
    "\n",
    "class Parent():\n",
    "    @abstractmethod\n",
    "    def m1(self):\n",
    "        pass\n",
    "    \n",
    "    \n",
    "class Child(Parent):\n",
    "    def func(self):\n",
    "        print(\"hi\")\n",
    "\n",
    "\n",
    "obj = Child()\n",
    "obj.func()\n"
   ]
  },
  {
   "cell_type": "markdown",
   "id": "5d7380b2",
   "metadata": {},
   "source": [
    "### Interface Classes\n",
    "\n",
    "\n",
    "In python, we do not have a specific concept about interface class, but the properties of an interface class can be implemented.\n",
    "\n",
    "\n",
    "`If an Abstract class contains only abstract methods in it then this class is known as interface class. Interface classes provide service requirements specifications.`\n",
    "\n",
    "In the below example, `employee `class is an `abstract class `with just abstract methods as its members. When a child class inherits the `employee` class it has to implement these `name` and `age` abstract methods as mandatory."
   ]
  },
  {
   "cell_type": "code",
   "execution_count": 5,
   "id": "2e4c043d",
   "metadata": {},
   "outputs": [],
   "source": [
    "from abc import ABC, abstractmethod\n",
    "\n",
    "class Employee(ABC):\n",
    "    @abstractmethod\n",
    "    def name(self):\n",
    "        pass\n",
    "    \n",
    "    @abstractmethod\n",
    "    def age(self):\n",
    "        pass"
   ]
  },
  {
   "cell_type": "markdown",
   "id": "3f9e1067",
   "metadata": {},
   "source": [
    "#### Encapsulation in Python\n",
    "\n",
    "`Encapsulation is a concept of wrapping the data and methods into a single entity. Every Class in Python is an example of Encapsulation. Because we wrap the methods and data under a single entity known as class.`\n",
    "\n",
    "In Python, encapsulation is one of the fundamental concepts and it can also be referred to as implementing data hiding and abstraction concepts together.\n",
    "\n",
    "\n",
    "In the below example, we are wrapping up the `value` variable and `method(m1)` under a single class, this concept is known as encapsulation. Based on requirements we can change the access modifiers of these variables and methods."
   ]
  },
  {
   "cell_type": "code",
   "execution_count": 1,
   "id": "5403a800",
   "metadata": {},
   "outputs": [
    {
     "ename": "TypeError",
     "evalue": "'int' object is not callable",
     "output_type": "error",
     "traceback": [
      "\u001b[1;31m---------------------------------------------------------------------------\u001b[0m",
      "\u001b[1;31mTypeError\u001b[0m                                 Traceback (most recent call last)",
      "Input \u001b[1;32mIn [1]\u001b[0m, in \u001b[0;36m<cell line: 11>\u001b[1;34m()\u001b[0m\n\u001b[0;32m      7\u001b[0m         \u001b[38;5;28mprint\u001b[39m(\u001b[38;5;28mself\u001b[39m\u001b[38;5;241m.\u001b[39mage)\n\u001b[0;32m     10\u001b[0m obj \u001b[38;5;241m=\u001b[39m Employee()\n\u001b[1;32m---> 11\u001b[0m \u001b[43mobj\u001b[49m\u001b[38;5;241;43m.\u001b[39;49m\u001b[43mage\u001b[49m\u001b[43m(\u001b[49m\u001b[43m)\u001b[49m\n",
      "\u001b[1;31mTypeError\u001b[0m: 'int' object is not callable"
     ]
    }
   ],
   "source": [
    "class Employee:\n",
    "    \n",
    "    def __init__(self):\n",
    "        self.age = 25\n",
    "        \n",
    "    def age(self):\n",
    "        print(self.age)\n",
    "        \n",
    "        \n",
    "obj = Employee()\n",
    "obj.age()"
   ]
  },
  {
   "cell_type": "code",
   "execution_count": 15,
   "id": "89e495e7",
   "metadata": {},
   "outputs": [
    {
     "name": "stdout",
     "output_type": "stream",
     "text": [
      "25\n"
     ]
    }
   ],
   "source": [
    "class Employee:\n",
    "    \n",
    "    def __init__(self):\n",
    "        self.age = 25\n",
    "        \n",
    "    def Age(self):\n",
    "        print(self.age)\n",
    "        \n",
    "        \n",
    "obj = Employee()\n",
    "obj.Age()"
   ]
  },
  {
   "cell_type": "markdown",
   "id": "f22f4dc5",
   "metadata": {},
   "source": [
    "Similar to other languages such as Java, we don’t have any public, private, protected keywords but the concepts related to these terms can be implemented.\n",
    "\n",
    "### Public Members\n",
    "\n",
    "`Public members are those that are accessible from inside and outside of the class. These members are wrapped into a single entity so that they can be accessed from both inside and outside of the entity.`\n",
    "\n",
    "By default, In python every variable, every method is a public member. We don’t have to explicitly declare them as public or change the access modifier into public.\n",
    "\n",
    "\n",
    "In the below example, `company` is a class that has members inside it. All these members of the class are by default public and can be accessed inside and outside using the reference variable."
   ]
  },
  {
   "cell_type": "code",
   "execution_count": 9,
   "id": "f441b014",
   "metadata": {},
   "outputs": [
    {
     "name": "stdout",
     "output_type": "stream",
     "text": [
      "The number of employee are 150\n",
      "Revenue generated :-  75 Lacs\n"
     ]
    }
   ],
   "source": [
    "class Company:\n",
    "    \n",
    "    def __init__(self):\n",
    "        self.revenue = \"75 Lacs\"\n",
    "        \n",
    "    def members(self):\n",
    "        print(\"The number of employee are 150\")\n",
    "        print(\"Revenue generated :- \", self.revenue)\n",
    "        \n",
    "        \n",
    "obj = Company()\n",
    "obj.members()"
   ]
  },
  {
   "cell_type": "markdown",
   "id": "4b9f1411",
   "metadata": {},
   "source": [
    "### Private Members\n",
    "\n",
    "`Private Members of a class are those that can be accessed from within the class itself and cannot be accessed from outside of the class or its subclass. Private members are declared differently when compared to public members.`\n",
    "\n",
    "Private Members of the class can be declared using `double underscore( \"__\" )` preceding their respective names.\n",
    "\n"
   ]
  },
  {
   "cell_type": "code",
   "execution_count": 12,
   "id": "97f54db9",
   "metadata": {},
   "outputs": [],
   "source": [
    "# # Private variable \n",
    "\n",
    "# __age, __name, __value\n",
    "\n",
    "\n",
    "# # Private Method\n",
    "\n",
    "\n",
    "# __func(), __m1()\n",
    "\n"
   ]
  },
  {
   "cell_type": "markdown",
   "id": "7dd240bc",
   "metadata": {},
   "source": [
    "These private members can be accessed from inside the class directly. But if we try to access them from outside of the class then `AttributeError` is returned.\n",
    "\n",
    "In the below example, we have `employee `class and `self.__name` and `self.__age` as `private variables` and `__details()` as a `private method`. These private variables and methods can be accessed from within the class. But if we try to access them from outside then PVM throws an error."
   ]
  },
  {
   "cell_type": "code",
   "execution_count": 13,
   "id": "b37455ca",
   "metadata": {},
   "outputs": [
    {
     "name": "stdout",
     "output_type": "stream",
     "text": [
      "Name : - John\n",
      "Age is :  25\n"
     ]
    }
   ],
   "source": [
    "class Employee:\n",
    "    \n",
    "    def __init__(self, name, age):\n",
    "        # private variables\n",
    "        self.__name = name\n",
    "        self.__age = age\n",
    "        \n",
    "    # private method\n",
    "    \n",
    "    def __details(self):\n",
    "        print(\"Age is : \", self.__age)\n",
    "        \n",
    "    def name(self):\n",
    "        print(\"Name : -\", self.__name)\n",
    "        # Accessing method from inside of class\n",
    "        self.__details()\n",
    "        \n",
    "        \n",
    "obj = Employee(\"John\", 25)\n",
    "\n",
    "obj.name()\n",
    "        "
   ]
  },
  {
   "cell_type": "code",
   "execution_count": 17,
   "id": "3ee3fbdd",
   "metadata": {},
   "outputs": [
    {
     "ename": "AttributeError",
     "evalue": "'Employee' object has no attribute '__details'",
     "output_type": "error",
     "traceback": [
      "\u001b[1;31m---------------------------------------------------------------------------\u001b[0m",
      "\u001b[1;31mAttributeError\u001b[0m                            Traceback (most recent call last)",
      "Input \u001b[1;32mIn [17]\u001b[0m, in \u001b[0;36m<cell line: 20>\u001b[1;34m()\u001b[0m\n\u001b[0;32m     16\u001b[0m         \u001b[38;5;28mself\u001b[39m\u001b[38;5;241m.\u001b[39m__details()\n\u001b[0;32m     19\u001b[0m obj \u001b[38;5;241m=\u001b[39m Employee(\u001b[38;5;124m\"\u001b[39m\u001b[38;5;124mJohn\u001b[39m\u001b[38;5;124m\"\u001b[39m, \u001b[38;5;241m25\u001b[39m)\n\u001b[1;32m---> 20\u001b[0m \u001b[43mobj\u001b[49m\u001b[38;5;241;43m.\u001b[39;49m\u001b[43m__details\u001b[49m()\n",
      "\u001b[1;31mAttributeError\u001b[0m: 'Employee' object has no attribute '__details'"
     ]
    }
   ],
   "source": [
    "class Employee:\n",
    "    \n",
    "    def __init__(self, name, age):\n",
    "        # private variables\n",
    "        self.__name = name\n",
    "        self.__age = age\n",
    "        \n",
    "    # private method\n",
    "    \n",
    "    def __details(self):\n",
    "        print(\"Age is : \", self.__age)\n",
    "        \n",
    "    def name(self):\n",
    "        print(\"Name : -\", self.__name)\n",
    "        # Accessing method from inside of class\n",
    "        self.__details()\n",
    "        \n",
    "        \n",
    "obj = Employee(\"John\", 25)\n",
    "obj.__details()\n",
    "        "
   ]
  },
  {
   "cell_type": "markdown",
   "id": "26b50f52",
   "metadata": {},
   "source": [
    "As nothing is restricted in Python but responsible developer refrain from doing so.\n",
    "\n",
    "If we want access to these private members outside of the class then we need to use the `objectreference._classname__variablename.`"
   ]
  },
  {
   "cell_type": "code",
   "execution_count": 19,
   "id": "4f386522",
   "metadata": {},
   "outputs": [
    {
     "name": "stdout",
     "output_type": "stream",
     "text": [
      "Joined in 2015\n",
      "John\n",
      "28\n"
     ]
    }
   ],
   "source": [
    "class Employee:\n",
    "    def __init__(self, name, age):\n",
    "        # private variable\n",
    "        self.__name = name\n",
    "        self.__age = age\n",
    "        \n",
    "    # private mathod\n",
    "    def __details(self):\n",
    "        print(\"Joined in 2015\")\n",
    "        \n",
    "        \n",
    "        \n",
    "obj = Employee(\"John\", 28)\n",
    "obj._Employee__details()\n",
    "print(obj._Employee__name)\n",
    "print(obj._Employee__age)"
   ]
  },
  {
   "cell_type": "markdown",
   "id": "b1d13e8f",
   "metadata": {},
   "source": [
    "But as as responsible developer you should refrain from doing so."
   ]
  },
  {
   "cell_type": "markdown",
   "id": "01d710bb",
   "metadata": {},
   "source": [
    "### Protected Members\n",
    "\n",
    "`Protected Members are those that can be accessed from within the class and its sub-classes. These protected members cannot be accessed from outside of the class.`\n",
    "\n",
    "`Protected Members of the class can be declared using underscore( \"_\" ) preceding their respective names.`"
   ]
  },
  {
   "cell_type": "code",
   "execution_count": 20,
   "id": "a86fe42b",
   "metadata": {},
   "outputs": [],
   "source": [
    "# # Protected variables\n",
    "# _age, _name\n",
    "\n",
    "# # Protected methods\n",
    "# _func(), _m1()"
   ]
  },
  {
   "cell_type": "markdown",
   "id": "64c2781b",
   "metadata": {},
   "source": [
    "These private members can be accessed from inside the class and also can be accessed by its child class. But if we try to access them from outside of the class then `AttributeError` is returned.\n",
    "\n",
    "In the below example, we have `student` class and `self._name` and `self._marks` as `protected variables` and `_details()` as a `protected method`. These protected variables and methods can be accessed from within the class and its subclass. But if we try to access them from outside then PVM throws an error."
   ]
  },
  {
   "cell_type": "code",
   "execution_count": 24,
   "id": "d0400d17",
   "metadata": {},
   "outputs": [
    {
     "name": "stdout",
     "output_type": "stream",
     "text": [
      "name is  john\n",
      "age is 15\n"
     ]
    }
   ],
   "source": [
    "class Student:\n",
    "    def __init__(self, name, marks):\n",
    "        # protected variables\n",
    "        self._name = name\n",
    "        self._marks = marks\n",
    "  \n",
    "    # protected method\n",
    "    def _details(self):\n",
    "        print(\"name is \", self._name)\n",
    "        \n",
    "\n",
    "class Age(Student):\n",
    "    def info(self):\n",
    "        self._details()\n",
    "        print(\"age is 15\")\n",
    "\n",
    "obj = Age(\"john\", 90)\n",
    "obj.info()"
   ]
  },
  {
   "cell_type": "markdown",
   "id": "40a46406",
   "metadata": {},
   "source": [
    "Thus the protected members of a class can be accessed from its child class `object_reference` directly."
   ]
  },
  {
   "cell_type": "code",
   "execution_count": null,
   "id": "aac333d8",
   "metadata": {},
   "outputs": [],
   "source": []
  }
 ],
 "metadata": {
  "kernelspec": {
   "display_name": "Python 3 (ipykernel)",
   "language": "python",
   "name": "python3"
  },
  "language_info": {
   "codemirror_mode": {
    "name": "ipython",
    "version": 3
   },
   "file_extension": ".py",
   "mimetype": "text/x-python",
   "name": "python",
   "nbconvert_exporter": "python",
   "pygments_lexer": "ipython3",
   "version": "3.9.7"
  }
 },
 "nbformat": 4,
 "nbformat_minor": 5
}
