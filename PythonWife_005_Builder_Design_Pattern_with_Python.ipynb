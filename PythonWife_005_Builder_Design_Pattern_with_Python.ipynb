{
 "cells": [
  {
   "cell_type": "markdown",
   "id": "3d160529",
   "metadata": {},
   "source": [
    "### Builder Design Pattern with Python\n",
    "\n",
    "The builder pattern is a type of creational design pattern, designed to provide a flexible solution to various object creation problems in object-oriented programming.\n",
    "\n",
    "\n",
    "The Builder design pattern intends to separate the construction of a complex object from its actual representation so that we can use the same construction process to create different representations for the same object.\n",
    "\n",
    "#### The Builder design pattern solves problems like:\n",
    "\n",
    "\n",
    "* How can a class create different representations of a complex object?\n",
    "\n",
    "\n",
    "* How can a class that includes creating a complex object be simplified?\n",
    "\n",
    "\n",
    "`Simply said, Builder design patterns represent a method to builds a complex object using simple objects and a step-by-step approach.`\n",
    "\n",
    "\n",
    "\n",
    "Let us understand, by an example, where the builder pattern will help us. Let’s say there is a manufacturer producing cars (The complex product). A car can have many features and components such as autonomous driving, sunroof, supported fuel type(electric, petrol, Diesel) etc…\n",
    "\n",
    "Consider, the `Car` class below\n"
   ]
  },
  {
   "cell_type": "code",
   "execution_count": 1,
   "id": "db70087a",
   "metadata": {},
   "outputs": [],
   "source": [
    "class Car:\n",
    "    \"\"\"The Product\"\"\"\n",
    "    \n",
    "    def __init__(self):\n",
    "        self.autonomous_driving = False\n",
    "        self.sunroof = False\n",
    "        self.fuel = None\n",
    "        \n",
    "        "
   ]
  },
  {
   "cell_type": "markdown",
   "id": "fd5b8ff9",
   "metadata": {},
   "source": [
    "`The manufacturer can produce different models depending upon the features he chooses to provide in a car. Let’s define methods to add or subtract the features.`\n"
   ]
  },
  {
   "cell_type": "code",
   "execution_count": 2,
   "id": "7b430608",
   "metadata": {},
   "outputs": [],
   "source": [
    "class Car:\n",
    "    '''The Product'''\n",
    "    def __init__(self):\n",
    "        self.autonomous_driving = False\n",
    "        self.sunroof = False\n",
    "        self.fuel = None\n",
    "        \n",
    "        \n",
    "    # Method to add features\n",
    "    def addAutonomous_driving(self):\n",
    "        self.autonomous_driving = True\n",
    "        \n",
    "    def addSunroof(self):\n",
    "        self.sunroof = True\n",
    "        \n",
    "    def addFuel(self, fuel = \"Electric\"):\n",
    "        self.fuel = fuel\n",
    "        \n",
    "    # Returning information about car\n",
    "    def __str__(self):\n",
    "        return f\"Autonomous driving : {self.autonomous_driving} | Sunroof : {self.sunroof} | Fuel : {self.fuel}\"\n",
    "    "
   ]
  },
  {
   "cell_type": "markdown",
   "id": "de13d3c7",
   "metadata": {},
   "source": [
    "The class Car has all the features and methods to add them. Now for each instance, all the features would be added via explicit method calls (`addAutonomous_driving, addSunroof`), depending upon the car model to produce."
   ]
  },
  {
   "cell_type": "code",
   "execution_count": 3,
   "id": "83b4a76e",
   "metadata": {},
   "outputs": [
    {
     "name": "stdout",
     "output_type": "stream",
     "text": [
      "Details of car :  Autonomous driving : False | Sunroof : True | Fuel : Petrol\n"
     ]
    }
   ],
   "source": [
    "# First instance name ModelOne \n",
    "\n",
    "ModelOne = Car()\n",
    "ModelOne.addSunroof()\n",
    "ModelOne.addFuel(\"Petrol\")\n",
    "print(\"Details of car : \", ModelOne)"
   ]
  },
  {
   "cell_type": "code",
   "execution_count": 4,
   "id": "7c5868f3",
   "metadata": {},
   "outputs": [
    {
     "name": "stdout",
     "output_type": "stream",
     "text": [
      "Details of car :  Autonomous driving : True | Sunroof : False | Fuel : Electric\n"
     ]
    }
   ],
   "source": [
    "# Second instance named ModelTwo\n",
    "\n",
    "ModelTwo = Car()\n",
    "ModelTwo.addAutonomous_driving()\n",
    "ModelTwo.addFuel()\n",
    "print(\"Details of car : \", ModelTwo)"
   ]
  },
  {
   "cell_type": "markdown",
   "id": "1057f5c3",
   "metadata": {},
   "source": [
    "Let's creat another instance(object)"
   ]
  },
  {
   "cell_type": "code",
   "execution_count": 6,
   "id": "9fa9cf53",
   "metadata": {},
   "outputs": [
    {
     "name": "stdout",
     "output_type": "stream",
     "text": [
      "Details of car: Autonomous driving : True | Sunroof : True | Fuel : Petrol\n",
      "\n",
      "Details of car: Autonomous driving : True | Sunroof : False | Fuel : Electric\n",
      "\n",
      "Details of car: Autonomous driving : True | Sunroof : True | Fuel : Diesel\n"
     ]
    }
   ],
   "source": [
    "#First instance name ModelOne\n",
    "ModelOne = Car()\n",
    "ModelOne.addAutonomous_driving()\n",
    "ModelOne.addSunroof()\n",
    "ModelOne.addFuel(\"Petrol\")\n",
    "print(\"Details of car:\", ModelOne)\n",
    " \n",
    "print()\n",
    "\n",
    "#Second instance named ModelTwo\n",
    "ModelTwo = Car()\n",
    "ModelTwo.addAutonomous_driving()\n",
    "ModelTwo.addFuel()\n",
    "print(\"Details of car:\", ModelTwo)\n",
    "\n",
    "print()\n",
    "\n",
    "#Third instance named ModelThree\n",
    "ModelThree = Car()\n",
    "ModelThree.addAutonomous_driving()\n",
    "ModelThree.addSunroof()\n",
    "ModelThree.addFuel(\"Diesel\")\n",
    "print(\"Details of car:\", ModelThree)"
   ]
  },
  {
   "cell_type": "markdown",
   "id": "46b2ee84",
   "metadata": {},
   "source": [
    "`Observe the complexity in the creation of each instance(object) via explicit method calls, if the number of instances increases the code will become more complex and chaotic. This is where the builder pattern helps us.`\n",
    "\n",
    "The Builder Pattern resolves this issue and brings order to this chaos by removing the complexity involved. `This is achieved by segregating the entire process into four roles.` Consider creating different models of car with the Builder design pattern’s four roles-\n",
    "\n",
    "\n",
    "* First- `The Product`: Complex object to be made. (e.g Car)\n",
    "\n"
   ]
  },
  {
   "cell_type": "code",
   "execution_count": 1,
   "id": "60029028",
   "metadata": {},
   "outputs": [],
   "source": [
    "class Car:\n",
    "    '''The Product'''\n",
    "    def __init__(self):\n",
    "        self.autonomous_driving = None\n",
    "        self.sunroof = None\n",
    "        self.fuel = None\n",
    "\n",
    "    #Returning information of the car \n",
    "    def __str__(self):\n",
    "        return f'Autonomous_driving: {self.autonomous_driving} | Sunroof: {self.sunroof} | Fuel: {self.fuel}'"
   ]
  },
  {
   "cell_type": "markdown",
   "id": "7459c037",
   "metadata": {},
   "source": [
    "* Second- `Abstract Builder Interface`: Provides necessary interfaces required to build the object. It is abstract because it is not instantiated, it is only inherited by the Builder."
   ]
  },
  {
   "cell_type": "code",
   "execution_count": 2,
   "id": "3030d0a5",
   "metadata": {},
   "outputs": [],
   "source": [
    "class AbstractBuilder:\n",
    "    '''Abstract Builder Interface'''\n",
    "    def __init__(self):\n",
    "        self.car = None\n",
    "    def createNewCar(self):\n",
    "        self.car = Car()"
   ]
  },
  {
   "cell_type": "markdown",
   "id": "b6ae38be",
   "metadata": {},
   "source": [
    "* Third- `Builder`: Inherits the Abstract Builder and implements the above interfaces of the Abstract Builder class; provides methods to create components of the product."
   ]
  },
  {
   "cell_type": "code",
   "execution_count": 3,
   "id": "eba64982",
   "metadata": {},
   "outputs": [],
   "source": [
    "class ConcreteBuilder(AbstractBuilder):\n",
    "    '''Actual Builder'''\n",
    "    def addAutonomous_driving(self, AD):\n",
    "        self.car.autonomous_driving = AD\n",
    "    def addSunroof(self, SR):\n",
    "        self.car.sunroof = SR\n",
    "    def addFuel(self, fuel):\n",
    "        self.car.fuel = fuel"
   ]
  },
  {
   "cell_type": "markdown",
   "id": "aa77b41c",
   "metadata": {},
   "source": [
    "* Fourth- `Director`: In charge of creating the product, assembling various components and then delivering it. It uses the concrete builder object."
   ]
  },
  {
   "cell_type": "code",
   "execution_count": 4,
   "id": "167bd26c",
   "metadata": {},
   "outputs": [],
   "source": [
    "class Director:\n",
    "    '''Director'''\n",
    "    def __init__(self, builder):\n",
    "        self._builder = builder\n",
    "    def constructCar(self, AD=False, SR=False, fuel=\"Electric\"):\n",
    "        self._builder.createNewCar()\n",
    "        self._builder.addAutonomous_driving(AD)\n",
    "        self._builder.addSunroof(SR)\n",
    "        self._builder.addFuel(fuel)\n",
    "        return self._builder.car\n",
    "\n",
    "#Instantiation of Builder\n",
    "concreteBuilder = ConcreteBuilder()\n",
    "#Calling Director\n",
    "director = Director(concreteBuilder)"
   ]
  },
  {
   "cell_type": "markdown",
   "id": "2e054899",
   "metadata": {},
   "source": [
    "The whole procedure is- `Abstract builder class` creates an instance of the `product(Car)`. The Concrete builder knows the implementation of all the methods(i.e methods that add features), to the instance created by the abstract builder.\n",
    "\n",
    "Then there is this Director who asks the Concrete builder to implement the methods(i.e. asks to add a specific feature to the product). Clearly, variation in the product is a passing of the parameter to the director. And now creating a new instance is a matter of just two lines."
   ]
  },
  {
   "cell_type": "code",
   "execution_count": 5,
   "id": "1c6b7e03",
   "metadata": {},
   "outputs": [
    {
     "name": "stdout",
     "output_type": "stream",
     "text": [
      "Details of car: Autonomous_driving: False | Sunroof: False | Fuel: Electric\n",
      "Details of car: Autonomous_driving: True | Sunroof: True | Fuel: Diesel\n",
      "Details of car: Autonomous_driving: True | Sunroof: False | Fuel: Petrol\n"
     ]
    }
   ],
   "source": [
    "#Getting Our Product\n",
    "ModelOne = director.constructCar()\n",
    "print(\"Details of car:\", ModelOne)\n",
    "\n",
    "ModelTwo = director.constructCar(True, True, \"Diesel\")\n",
    "print(\"Details of car:\", ModelTwo)\n",
    "\n",
    "ModelThree = director.constructCar(True, False, \"Petrol\")\n",
    "print(\"Details of car:\", ModelThree)"
   ]
  },
  {
   "cell_type": "markdown",
   "id": "e4edb2db",
   "metadata": {},
   "source": [
    "Builder patterns with increasing instances become more economic and systematic. This approach also makes it more flexible to add and remove options from the product that has to be created.\n",
    "\n",
    "Construction of complex objects need not have only one Builder, rather there can be several Builders depending upon the complexity of the builder itself.\n",
    "\n",
    "\n",
    "#### Pros and Cons of Builder Design Patterns\n",
    "\n",
    "\n",
    "#### Pros\n",
    "Various representations of the products with the same implementation.\n",
    "Since each entity has its own specific task, hence upholds the Single Responsibility Principle.\n",
    "####  Cons\n",
    "Builder pattern requires creating multiple new classes that’s why the complexity of code may increase.\n",
    "It requires the builder class to be mutable, hence the Builder pattern may violate, Open-Closed Principle."
   ]
  },
  {
   "cell_type": "code",
   "execution_count": 7,
   "id": "600b286b",
   "metadata": {},
   "outputs": [
    {
     "name": "stdout",
     "output_type": "stream",
     "text": [
      "Details of car: Autonomous_driving: False | Sunroof: False | Fuel: Electric\n",
      "\n",
      "Details of car: Autonomous_driving: True | Sunroof: True | Fuel: Diesel\n",
      "\n",
      "Details of car: Autonomous_driving: True | Sunroof: False | Fuel: Petrol\n"
     ]
    }
   ],
   "source": [
    "class Car:\n",
    "    '''The Product'''\n",
    "    def __init__(self):\n",
    "        self.autonomous_driving = None\n",
    "        self.sunroof = None\n",
    "        self.fuel = None\n",
    "\n",
    "    #Returning information of the car \n",
    "    def __str__(self):\n",
    "        return f'Autonomous_driving: {self.autonomous_driving} | Sunroof: {self.sunroof} | Fuel: {self.fuel}'\n",
    "    \n",
    "class AbstractBuilder:\n",
    "    '''Abstract Builder Interface'''\n",
    "    def __init__(self):\n",
    "        self.car = None\n",
    "    def createNewCar(self):\n",
    "        self.car = Car()\n",
    "        \n",
    "        \n",
    "class ConcreteBuilder(AbstractBuilder):\n",
    "    '''Actual Builder'''\n",
    "    def addAutonomous_driving(self, AD):\n",
    "        self.car.autonomous_driving = AD\n",
    "    def addSunroof(self, SR):\n",
    "        self.car.sunroof = SR\n",
    "    def addFuel(self, fuel):\n",
    "        self.car.fuel = fuel\n",
    "        \n",
    "        \n",
    "class Director:\n",
    "    '''Director'''\n",
    "    def __init__(self, builder):\n",
    "        self._builder = builder\n",
    "    def constructCar(self, AD=False, SR=False, fuel=\"Electric\"):\n",
    "        self._builder.createNewCar()\n",
    "        self._builder.addAutonomous_driving(AD)\n",
    "        self._builder.addSunroof(SR)\n",
    "        self._builder.addFuel(fuel)\n",
    "        return self._builder.car\n",
    "\n",
    "#Instantiation of Builder\n",
    "concreteBuilder = ConcreteBuilder()\n",
    "#Calling Director\n",
    "director = Director(concreteBuilder)\n",
    "\n",
    "#Getting Our Product\n",
    "ModelOne = director.constructCar()\n",
    "print(\"Details of car:\", ModelOne)\n",
    "\n",
    "print()\n",
    "\n",
    "ModelTwo = director.constructCar(True, True, \"Diesel\")\n",
    "print(\"Details of car:\", ModelTwo)\n",
    "\n",
    "print()\n",
    "\n",
    "ModelThree = director.constructCar(True, False, \"Petrol\")\n",
    "print(\"Details of car:\", ModelThree)"
   ]
  },
  {
   "cell_type": "code",
   "execution_count": null,
   "id": "095ffefe",
   "metadata": {},
   "outputs": [],
   "source": []
  }
 ],
 "metadata": {
  "kernelspec": {
   "display_name": "Python 3 (ipykernel)",
   "language": "python",
   "name": "python3"
  },
  "language_info": {
   "codemirror_mode": {
    "name": "ipython",
    "version": 3
   },
   "file_extension": ".py",
   "mimetype": "text/x-python",
   "name": "python",
   "nbconvert_exporter": "python",
   "pygments_lexer": "ipython3",
   "version": "3.9.7"
  }
 },
 "nbformat": 4,
 "nbformat_minor": 5
}
