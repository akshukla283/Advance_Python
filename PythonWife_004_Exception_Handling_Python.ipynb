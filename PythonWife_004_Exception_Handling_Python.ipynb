{
 "cells": [
  {
   "cell_type": "markdown",
   "id": "fe428283",
   "metadata": {},
   "source": [
    "### Exception Handling in Python\n",
    "\n",
    "`An Exception is an unwanted event that is caused during the execution of the program. This unwanted event that disturbs the normal flow of the program is called an exception.`\n",
    "\n",
    "\n",
    "`Examples:- Zero Division Error, Type Error, ValueError, FileNotFoundError, etc.,\n",
    "`\n",
    "### There are two types of errors, they are:-\n",
    "\n",
    "1. Syntax error\n",
    "2. Runtime error\n",
    "\n",
    "\n",
    "### Syntax error\n",
    "\n",
    "`The errors that are caused due to invalid syntax are known as syntax errors.` \n",
    "\n",
    "`The user is responsible for syntax errors and these errors need to be corrected to start the execution of the program.`\n",
    "\n"
   ]
  },
  {
   "cell_type": "code",
   "execution_count": 1,
   "id": "c176447a",
   "metadata": {},
   "outputs": [
    {
     "ename": "SyntaxError",
     "evalue": "invalid syntax (1306038735.py, line 5)",
     "output_type": "error",
     "traceback": [
      "\u001b[1;36m  Input \u001b[1;32mIn [1]\u001b[1;36m\u001b[0m\n\u001b[1;33m    if x_value <20\u001b[0m\n\u001b[1;37m                  ^\u001b[0m\n\u001b[1;31mSyntaxError\u001b[0m\u001b[1;31m:\u001b[0m invalid syntax\n"
     ]
    }
   ],
   "source": [
    "# colon missing in \"if\" clause caused syntax error\n",
    "\n",
    "x_value = 45\n",
    "\n",
    "if x_value <20\n",
    "     print(\"Value is low\")"
   ]
  },
  {
   "cell_type": "markdown",
   "id": "0bf9657b",
   "metadata": {},
   "source": [
    "### Runtime error\n",
    "\n",
    "`While executing the program if something goes wrong because of the programmer or program logic or memory problem, etc., runtime errors occur. These runtime errors are also called Exceptions.`"
   ]
  },
  {
   "cell_type": "code",
   "execution_count": 2,
   "id": "7f1a537a",
   "metadata": {},
   "outputs": [
    {
     "ename": "TypeError",
     "evalue": "unsupported operand type(s) for +: 'int' and 'str'",
     "output_type": "error",
     "traceback": [
      "\u001b[1;31m---------------------------------------------------------------------------\u001b[0m",
      "\u001b[1;31mTypeError\u001b[0m                                 Traceback (most recent call last)",
      "Input \u001b[1;32mIn [2]\u001b[0m, in \u001b[0;36m<cell line: 1>\u001b[1;34m()\u001b[0m\n\u001b[1;32m----> 1\u001b[0m \u001b[38;5;28mprint\u001b[39m(\u001b[38;5;241;43m2\u001b[39;49m\u001b[43m \u001b[49m\u001b[38;5;241;43m+\u001b[39;49m\u001b[43m \u001b[49m\u001b[38;5;124;43m\"\u001b[39;49m\u001b[38;5;124;43mHello\u001b[39;49m\u001b[38;5;124;43m\"\u001b[39;49m)\n",
      "\u001b[1;31mTypeError\u001b[0m: unsupported operand type(s) for +: 'int' and 'str'"
     ]
    }
   ],
   "source": [
    "print(2 + \"Hello\")"
   ]
  },
  {
   "cell_type": "markdown",
   "id": "c0a99622",
   "metadata": {},
   "source": [
    "### Exception Handling\n",
    "\n",
    "`Since exceptions are raised due to runtime errors, it is highly recommended to handle these exceptions to avoid Non-Graceful Termination of the program.`\n",
    "\n",
    "\n",
    "Exception handling is not making changes to the program to avoid the exception, it is rather providing an alternate way for the program execution when an exception is raised such that graceful termination occurs.\n",
    "\n",
    "The below are the few points that describe the characteristics of the exception.\n",
    "\n",
    "* Every exception in python is an object. For every exception object to handle them there are corresponding classes\n",
    "\n",
    "\n",
    "* When the exception occurs the python virtual machine will create the corresponding exception object and will check for handling code.\n",
    "\n",
    "\n",
    "* If the handling code is not available then python interpreter terminates the program abnormally and prints corresponding exception information to console. The rest of the program wont be executed\n",
    "\n",
    "\n",
    "* All exception classes are child classes of BaseExceptio. Every exception class extends BaseException either directly or indirectly. Hence BaseException acts as root for Python Exception Hierarchy\n",
    "\n",
    "\n",
    "* Most of the time being a developer we have to concentrate Exception and its child classes\n",
    "\n",
    "![](exception.png)"
   ]
  },
  {
   "cell_type": "markdown",
   "id": "f7823a1e",
   "metadata": {},
   "source": [
    "#### Customizing Exception Handling\n",
    "\n",
    "\n",
    "`We can customize the exceptions using try-except blocks. When there is a probability that a part of the code might interrupt the normal flow of the program or cause abnormal termination then it can be declared in the try block.`\n",
    "\n",
    "\n",
    "In the below example, if we divide any number by zero the interpreter throws an error. To handle such an error we can create an except block such that there is an alternative way for the program to get executed."
   ]
  },
  {
   "cell_type": "code",
   "execution_count": 3,
   "id": "c5b9af00",
   "metadata": {},
   "outputs": [
    {
     "ename": "ZeroDivisionError",
     "evalue": "division by zero",
     "output_type": "error",
     "traceback": [
      "\u001b[1;31m---------------------------------------------------------------------------\u001b[0m",
      "\u001b[1;31mZeroDivisionError\u001b[0m                         Traceback (most recent call last)",
      "Input \u001b[1;32mIn [3]\u001b[0m, in \u001b[0;36m<cell line: 1>\u001b[1;34m()\u001b[0m\n\u001b[1;32m----> 1\u001b[0m \u001b[38;5;28mprint\u001b[39m(\u001b[38;5;241;43m5\u001b[39;49m\u001b[38;5;241;43m/\u001b[39;49m\u001b[38;5;241;43m0\u001b[39;49m)\n",
      "\u001b[1;31mZeroDivisionError\u001b[0m: division by zero"
     ]
    }
   ],
   "source": [
    "print(5/0)"
   ]
  },
  {
   "cell_type": "markdown",
   "id": "d3e466ce",
   "metadata": {},
   "source": [
    "`To handle the exception caused by the try block, we can use the except block to handle these errors.`"
   ]
  },
  {
   "cell_type": "code",
   "execution_count": 4,
   "id": "82fa9160",
   "metadata": {},
   "outputs": [
    {
     "name": "stdout",
     "output_type": "stream",
     "text": [
      "except block\n"
     ]
    }
   ],
   "source": [
    "try:\n",
    "    a = 5/0\n",
    "    \n",
    "except:\n",
    "    print(\"except block\")"
   ]
  },
  {
   "cell_type": "markdown",
   "id": "911eb915",
   "metadata": {},
   "source": [
    "We can customize the except block such that when a particular error is faced it can be handled by the corresponding exception block.\n",
    "\n",
    "In the below example, when a `ZeroDivisionError` occurs the control is passed to the corresponding `except` block. Thus abnormal termination of the program is handled by the except block."
   ]
  },
  {
   "cell_type": "code",
   "execution_count": 5,
   "id": "aff7568f",
   "metadata": {},
   "outputs": [
    {
     "name": "stdout",
     "output_type": "stream",
     "text": [
      "Can't divide by Zero\n"
     ]
    }
   ],
   "source": [
    "try:\n",
    "    a = 5/0\n",
    "    \n",
    "except ZeroDivisionError:\n",
    "    print(\"Can't divide by Zero\")"
   ]
  },
  {
   "cell_type": "markdown",
   "id": "964d3bec",
   "metadata": {},
   "source": [
    "### Control Flow of try-except block\n",
    "\n",
    "Let’s see a few examples to check how the try and except blocks are getting executed.\n",
    "\n",
    "\n",
    "`If a try block is declared it has to be followed by an except block. When there few statements between try and except blocks, program throws invalid syntax error.`"
   ]
  },
  {
   "cell_type": "code",
   "execution_count": 6,
   "id": "0dc40067",
   "metadata": {},
   "outputs": [
    {
     "ename": "SyntaxError",
     "evalue": "invalid syntax (1527169901.py, line 3)",
     "output_type": "error",
     "traceback": [
      "\u001b[1;36m  Input \u001b[1;32mIn [6]\u001b[1;36m\u001b[0m\n\u001b[1;33m    print(\"Middle statement\")\u001b[0m\n\u001b[1;37m    ^\u001b[0m\n\u001b[1;31mSyntaxError\u001b[0m\u001b[1;31m:\u001b[0m invalid syntax\n"
     ]
    }
   ],
   "source": [
    "try:\n",
    "    a = 5/0\n",
    "print(\"Middle statement\")\n",
    "\n",
    "except:\n",
    "    print(\"Except block\")\n",
    "    \n",
    "    "
   ]
  },
  {
   "cell_type": "markdown",
   "id": "49e9e741",
   "metadata": {},
   "source": [
    "`When the control enters the try block and if all the statements inside try are executed without any error, then execution of except block is skipped`"
   ]
  },
  {
   "cell_type": "code",
   "execution_count": 7,
   "id": "097a2ece",
   "metadata": {},
   "outputs": [
    {
     "name": "stdout",
     "output_type": "stream",
     "text": [
      "statement_1\n",
      "statement_2\n"
     ]
    }
   ],
   "source": [
    "try :\n",
    "    print(\"statement_1\")\n",
    "    print(\"statement_2\")\n",
    "except Exceptions:\n",
    "    print(\"statement_3\")\n",
    "    print(\"statement_4\")\n"
   ]
  },
  {
   "cell_type": "markdown",
   "id": "4b905629",
   "metadata": {},
   "source": [
    "`If the exception is raised by executing a statement inside the try block then execution of remaining statements are skipped and control passed to except block`"
   ]
  },
  {
   "cell_type": "code",
   "execution_count": 8,
   "id": "0399d6c7",
   "metadata": {},
   "outputs": [
    {
     "name": "stdout",
     "output_type": "stream",
     "text": [
      "statement_1\n",
      "statement_3\n"
     ]
    }
   ],
   "source": [
    "try :\n",
    "    print(\"statement_1\")\n",
    "    a = 5/0\n",
    "    print(\"statement_2\")\n",
    "except ZeroDivisionError:\n",
    "    print(\"statement_3\")"
   ]
  },
  {
   "cell_type": "markdown",
   "id": "94ff276f",
   "metadata": {},
   "source": [
    "`If the exception raised in a try block is not handled by the except block then it results in abnormal termination of the program`"
   ]
  },
  {
   "cell_type": "code",
   "execution_count": 9,
   "id": "94f1171b",
   "metadata": {},
   "outputs": [
    {
     "name": "stdout",
     "output_type": "stream",
     "text": [
      "statement_1\n"
     ]
    },
    {
     "ename": "ZeroDivisionError",
     "evalue": "division by zero",
     "output_type": "error",
     "traceback": [
      "\u001b[1;31m---------------------------------------------------------------------------\u001b[0m",
      "\u001b[1;31mZeroDivisionError\u001b[0m                         Traceback (most recent call last)",
      "Input \u001b[1;32mIn [9]\u001b[0m, in \u001b[0;36m<cell line: 1>\u001b[1;34m()\u001b[0m\n\u001b[0;32m      1\u001b[0m \u001b[38;5;28;01mtry\u001b[39;00m :\n\u001b[0;32m      2\u001b[0m     \u001b[38;5;28mprint\u001b[39m(\u001b[38;5;124m\"\u001b[39m\u001b[38;5;124mstatement_1\u001b[39m\u001b[38;5;124m\"\u001b[39m)\n\u001b[1;32m----> 3\u001b[0m     a \u001b[38;5;241m=\u001b[39m \u001b[38;5;241;43m5\u001b[39;49m\u001b[38;5;241;43m/\u001b[39;49m\u001b[38;5;241;43m0\u001b[39;49m\n\u001b[0;32m      4\u001b[0m     \u001b[38;5;28mprint\u001b[39m(\u001b[38;5;124m\"\u001b[39m\u001b[38;5;124mstatement_2\u001b[39m\u001b[38;5;124m\"\u001b[39m)\n\u001b[0;32m      5\u001b[0m \u001b[38;5;28;01mexcept\u001b[39;00m \u001b[38;5;167;01mFloatingPointError\u001b[39;00m:\n",
      "\u001b[1;31mZeroDivisionError\u001b[0m: division by zero"
     ]
    }
   ],
   "source": [
    "try :\n",
    "    print(\"statement_1\")\n",
    "    a = 5/0\n",
    "    print(\"statement_2\")\n",
    "except FloatingPointError:\n",
    "    print(\"statement_3\")\n",
    "print(\"statement_4\")"
   ]
  },
  {
   "cell_type": "markdown",
   "id": "5959f7ea",
   "metadata": {},
   "source": [
    "#### Note:- \n",
    "`When the exception is raised in the except block itself then it results in abnormal termination of the program.`"
   ]
  },
  {
   "cell_type": "markdown",
   "id": "b2697520",
   "metadata": {},
   "source": [
    "### Exception Information\n",
    "\n",
    "`Exception information tells us what kind of exception occurred and the class to which the exception belongs. To know the exception type we need to create a reference to the exception object.`\n",
    "\n",
    "We can reference the exception object using as operator. This reference tells us the exception type that has occurred."
   ]
  },
  {
   "cell_type": "markdown",
   "id": "86f0ce25",
   "metadata": {},
   "source": [
    "* `variable_name` returns what exception has raised\n",
    "\n",
    "\n",
    "* `variable_name.__class__` return the exception class that it belongs to\n",
    "\n",
    "\n",
    "* `variable_name.__class__.__name__` returns the type of exception\n",
    "\n",
    "\n",
    "In the below example, we are performing a division operation of two numbers. If we try to perform zero division let’s see how the exception handles it."
   ]
  },
  {
   "cell_type": "code",
   "execution_count": 11,
   "id": "7537ad98",
   "metadata": {},
   "outputs": [
    {
     "name": "stdout",
     "output_type": "stream",
     "text": [
      "12\n",
      "0\n",
      "the exception is division by zero\n",
      "the exception type is : ZeroDivisionError\n",
      "the exception class is : <class 'ZeroDivisionError'>\n"
     ]
    }
   ],
   "source": [
    "try:\n",
    "    a = int(input())\n",
    "    b = int(input())\n",
    "    print(a/b)\n",
    "except BaseException as exception:\n",
    "    print(\"the exception is\", exception)\n",
    "    print(\"the exception type is :\", exception.__class__.__name__)\n",
    "    print(\"the exception class is :\", exception.__class__)"
   ]
  },
  {
   "cell_type": "code",
   "execution_count": 12,
   "id": "444ec4d3",
   "metadata": {},
   "outputs": [
    {
     "name": "stdout",
     "output_type": "stream",
     "text": [
      "Exception :  unsupported operand type(s) for +: 'int' and 'str'\n",
      "\n",
      "Exception class : <class 'TypeError'>\n",
      "Exception class type :  TypeError\n"
     ]
    }
   ],
   "source": [
    "try:\n",
    "    a = 10\n",
    "    b = \"hello\"\n",
    "    print(a + b)\n",
    "    \n",
    "except BaseException as exception:\n",
    "    print(\"Exception : \", exception)\n",
    "    print(\"\\nException class :\", exception.__class__)\n",
    "    print(\"Exception class type : \", exception.__class__.__name__)"
   ]
  },
  {
   "cell_type": "markdown",
   "id": "6ab99dcb",
   "metadata": {},
   "source": [
    "But when we perform a division operation between an integer and string the exception type, exception classes are returned as follows."
   ]
  },
  {
   "cell_type": "code",
   "execution_count": 13,
   "id": "0067b984",
   "metadata": {},
   "outputs": [
    {
     "name": "stdout",
     "output_type": "stream",
     "text": [
      "3\n",
      "e\n",
      "the exception is invalid literal for int() with base 10: 'e'\n",
      "the exception type is : ValueError\n",
      "the exception class is : <class 'ValueError'>\n"
     ]
    }
   ],
   "source": [
    "try:\n",
    "    a = int(input())\n",
    "    b = int(input())\n",
    "    print(a/b)\n",
    "except BaseException as exception:\n",
    "    print(\"the exception is\", exception)\n",
    "    print(\"the exception type is :\", exception.__class__.__name__)\n",
    "    print(\"the exception class is :\", exception.__class__)\n"
   ]
  },
  {
   "cell_type": "markdown",
   "id": "dffebb4e",
   "metadata": {},
   "source": [
    "### try with multiple except blocks\n",
    "\n",
    "When there are multiple except blocks then the python interpreter executes the `except block` that can handle the exception.\n",
    "\n",
    "If the exception is not raised in the try block then the multiple except blocks are not executed. In the below example, the exception is not raised so the `except blocks` are not executed."
   ]
  },
  {
   "cell_type": "code",
   "execution_count": 15,
   "id": "8dfcb9af",
   "metadata": {},
   "outputs": [
    {
     "name": "stdout",
     "output_type": "stream",
     "text": [
      "3.0\n"
     ]
    }
   ],
   "source": [
    "try :\n",
    "    a = 6/2\n",
    "    print(a)\n",
    "except ZeroDivisionError:\n",
    "    print(\"statement_3\")\n",
    "except FloatingPointError:\n",
    "    print(\"statement_4\")"
   ]
  },
  {
   "cell_type": "markdown",
   "id": "eeed83cc",
   "metadata": {},
   "source": [
    "`try with multiple except blocks` available then based on raised exception the corresponding except block will be executed."
   ]
  },
  {
   "cell_type": "code",
   "execution_count": 16,
   "id": "79a8099b",
   "metadata": {},
   "outputs": [
    {
     "name": "stdout",
     "output_type": "stream",
     "text": [
      "can't divide by zero\n"
     ]
    }
   ],
   "source": [
    "try :\n",
    "    a = 6/0\n",
    "    print(a)\n",
    "except FloatingPointError:\n",
    "    print(\"floating point error\")\n",
    "except ZeroDivisionError:\n",
    "    print(\"can't divide by zero\")"
   ]
  },
  {
   "cell_type": "markdown",
   "id": "cfb36faa",
   "metadata": {},
   "source": [
    "When try with `multiple except blocks` are declared, if an exception raised in try block can be handled by two or more `except` blocks then the Python interpreter will always consider from top to bottom until matched except block identified.\n",
    "\n",
    "In the below example, the Python interpreter considers the topmost except block that can handle the exception."
   ]
  },
  {
   "cell_type": "code",
   "execution_count": 17,
   "id": "f69dbb3b",
   "metadata": {},
   "outputs": [
    {
     "name": "stdout",
     "output_type": "stream",
     "text": [
      "Its a arithmetic error\n"
     ]
    }
   ],
   "source": [
    "try :\n",
    "    a = 6/0\n",
    "    print(a)\n",
    "except ArithmeticError:\n",
    "    print(\"Its a arithmetic error\")\n",
    "except ZeroDivisionError:\n",
    "    print(\"can't divide by zero\")"
   ]
  },
  {
   "cell_type": "code",
   "execution_count": 18,
   "id": "a2657913",
   "metadata": {},
   "outputs": [
    {
     "name": "stdout",
     "output_type": "stream",
     "text": [
      "can't divide by zero\n"
     ]
    }
   ],
   "source": [
    "try :\n",
    "    a = 6/0\n",
    "    print(a)\n",
    "except ZeroDivisionError:\n",
    "    print(\"can't divide by zero\")\n",
    "except ArithmeticError:\n",
    "    print(\"Its a arithmetic error\")\n"
   ]
  },
  {
   "cell_type": "markdown",
   "id": "29fde979",
   "metadata": {},
   "source": [
    "### Single Except block handling Multiple Exceptions\n",
    "\n",
    "`If the handling code is the same, then instead of declaring multiple except blocks with the same code inside them we can declare all these exception objects in a single tuple and pass it to the except block.`\n",
    "\n",
    "In this way, we can reduce the number of lines of code. But we have to make sure, the handling code of all these exceptions has been the same.\n",
    "\n",
    "\n",
    "In the below example, the exception blocks are the same for `exception_1` and `exception_2`. Both of them are returning the name of the exception type using the reference variable of the exception object."
   ]
  },
  {
   "cell_type": "code",
   "execution_count": 19,
   "id": "aad6f06a",
   "metadata": {},
   "outputs": [
    {
     "name": "stdout",
     "output_type": "stream",
     "text": [
      "11\n",
      "e\n",
      "It's a exception ValueError\n"
     ]
    }
   ],
   "source": [
    "try :\n",
    "    a = int(input())\n",
    "    b = int(input())\n",
    "    print(a/b)\n",
    "except ZeroDivisionError as msg:\n",
    "    print(\"It's a exception\", msg.__class__.__name__)\n",
    "except ValueError as msg:\n",
    "    print(\"It's a exception\", msg.__class__.__name__)"
   ]
  },
  {
   "cell_type": "code",
   "execution_count": 20,
   "id": "3f7f3ac6",
   "metadata": {},
   "outputs": [
    {
     "name": "stdout",
     "output_type": "stream",
     "text": [
      "12\n",
      "0\n",
      "It's a exception ZeroDivisionError\n"
     ]
    }
   ],
   "source": [
    "try :\n",
    "    a = int(input())\n",
    "    b = int(input())\n",
    "    print(a/b)\n",
    "except ZeroDivisionError as msg:\n",
    "    print(\"It's a exception\", msg.__class__.__name__)\n",
    "except ValueError as msg:\n",
    "    print(\"It's a exception\", msg.__class__.__name__)"
   ]
  },
  {
   "cell_type": "markdown",
   "id": "c3140081",
   "metadata": {},
   "source": [
    "Since the code block is the same for both the exceptions we can pass them as a tuple, such that based on the exception raised it will be handled by the exception object.\n",
    "\n",
    "#### Note:- \n",
    "When we pass `multiple exception objects in a single exception block `then we need to send `inside parenthesis as a tuple`."
   ]
  },
  {
   "cell_type": "code",
   "execution_count": 21,
   "id": "9a89f2c0",
   "metadata": {},
   "outputs": [
    {
     "name": "stdout",
     "output_type": "stream",
     "text": [
      "5\n",
      "0\n",
      "It's a exception ZeroDivisionError\n"
     ]
    }
   ],
   "source": [
    "try :\n",
    "    a = int(input())\n",
    "    b = int(input())\n",
    "    print(a/b)\n",
    "except (ZeroDivisionError, ValueError) as msg:\n",
    "    print(\"It's a exception\", msg.__class__.__name__)"
   ]
  },
  {
   "cell_type": "code",
   "execution_count": 22,
   "id": "c819da6c",
   "metadata": {},
   "outputs": [
    {
     "name": "stdout",
     "output_type": "stream",
     "text": [
      "12\n",
      "e\n",
      "It's a exception ValueError\n"
     ]
    }
   ],
   "source": [
    "try :\n",
    "    a = int(input())\n",
    "    b = int(input())\n",
    "    print(a/b)\n",
    "except (ZeroDivisionError, ValueError) as msg:\n",
    "    print(\"It's a exception\", msg.__class__.__name__)"
   ]
  },
  {
   "cell_type": "markdown",
   "id": "9d6e0616",
   "metadata": {},
   "source": [
    "#### Default exception block\n",
    "\n",
    "`There might be a chance when the exception block might not be able to handle the exceptions that were raised. This might cause the abnormal termination of the program. So, in this case, we can declare a default exception block at the end of all the exceptions.`\n",
    "\n",
    "\n",
    "Thus when exceptions that aren’t handled by the exception blocks will be handled by the default exception block.\n",
    "\n"
   ]
  },
  {
   "cell_type": "markdown",
   "id": "d1e63e85",
   "metadata": {},
   "source": [
    "`try :\n",
    "    ----\n",
    "    code block\n",
    "    ----\n",
    "except ZeroDivisionError:\n",
    "    code block_1\n",
    "except ValueError:\n",
    "    code block_2\n",
    "except:\n",
    "    default exception block`"
   ]
  },
  {
   "cell_type": "markdown",
   "id": "d3207a2c",
   "metadata": {},
   "source": [
    "* In the below example, we are performing division between two numbers. If a user enters values other than numbers then we cannot perform division which returns an exception known as ValueError.\n",
    "\n",
    "\n",
    "* But our code block cannot handle the exception raised, so the control is passed to the default exception block that is declared at the end."
   ]
  },
  {
   "cell_type": "code",
   "execution_count": 23,
   "id": "8a6ba2df",
   "metadata": {},
   "outputs": [
    {
     "name": "stdout",
     "output_type": "stream",
     "text": [
      "4\n",
      "i\n",
      "enter valid input\n"
     ]
    }
   ],
   "source": [
    "try :\n",
    "    a = int(input())\n",
    "    b = int(input())\n",
    "    print(a/b)\n",
    "except ZeroDivisionError:\n",
    "    print(\"cannot divide by zero\")\n",
    "except:\n",
    "    print(\"enter valid input\")"
   ]
  },
  {
   "cell_type": "markdown",
   "id": "04316ec1",
   "metadata": {},
   "source": [
    "`If the raised exception can be handled by the exception block, then the default exception block is not executed.`"
   ]
  },
  {
   "cell_type": "code",
   "execution_count": 24,
   "id": "e0d4f13a",
   "metadata": {},
   "outputs": [
    {
     "name": "stdout",
     "output_type": "stream",
     "text": [
      "5\n",
      "0\n",
      "cannot divide by zero\n"
     ]
    }
   ],
   "source": [
    "try :\n",
    "    a = int(input())\n",
    "    b = int(input())\n",
    "    print(a/b)\n",
    "except ZeroDivisionError:\n",
    "    print(\"cannot divide by zero\")\n",
    "except:\n",
    "    print(\"enter valid input\")"
   ]
  },
  {
   "cell_type": "markdown",
   "id": "f4d57bec",
   "metadata": {},
   "source": [
    "We have to make sure the default exception block has to be declared at the end of the exceptions. If we write any `except blocks` after the `default except block` then the Syntax error is raised.\n",
    "\n",
    "To avoid such syntax errors, the default except block has to be declared in the last."
   ]
  },
  {
   "cell_type": "code",
   "execution_count": 26,
   "id": "4a83435c",
   "metadata": {},
   "outputs": [
    {
     "ename": "SyntaxError",
     "evalue": "default 'except:' must be last (679360865.py, line 6)",
     "output_type": "error",
     "traceback": [
      "\u001b[1;36m  Input \u001b[1;32mIn [26]\u001b[1;36m\u001b[0m\n\u001b[1;33m    print(a/b)\u001b[0m\n\u001b[1;37m    ^\u001b[0m\n\u001b[1;31mSyntaxError\u001b[0m\u001b[1;31m:\u001b[0m default 'except:' must be last\n"
     ]
    }
   ],
   "source": [
    "# Syntax error is raised if we write any \n",
    "# exception blocks after the default exception block\n",
    "try :\n",
    "    a = int(input())\n",
    "    b = int(input())\n",
    "    print(a/b)\n",
    "except:\n",
    "    print(\"enter valid input\")\n",
    "except ZeroDivisionError:\n",
    "    print(\"cannot divide by zero\")"
   ]
  },
  {
   "cell_type": "markdown",
   "id": "8ef32550",
   "metadata": {},
   "source": [
    "### finally block\n",
    "\n",
    "In try block when there is an exception raised the statements placed after the line that is responsible for an exception are not executed. These statements might be clean up code such as `Resource Deallocating code(close DB connection, close filehandle, etc.,).`\n",
    "\n",
    "\n",
    "If this cleanup code is not executed a resource will be always wasted handling a connection. In this case, we can use the `finally block`."
   ]
  },
  {
   "cell_type": "markdown",
   "id": "ad7a00a4",
   "metadata": {},
   "source": [
    "`try:\n",
    "    statement_1\n",
    "except:\n",
    "    statement_2\n",
    "finally: \n",
    "    statement_3`"
   ]
  },
  {
   "cell_type": "markdown",
   "id": "f1aafbf1",
   "metadata": {},
   "source": [
    "When a few statements need to be executed for sure, then we need to place them in `finally block.`\n",
    "\n",
    "* It is not recommended to have the clean up code inside except block, SInce the except block wont be executed if there is no exception. In this case cleanup code is not executed\n",
    "\n",
    "\n",
    "* Hence we required some place to maintain clean up code which should be executed always irrespective of whether exception raised or not raised and whether exception handled or not handled.\n",
    "\n",
    "\n",
    "* Such type of block that gets executed irrespective of exception raised or not is the finally block\n",
    "\n",
    "\n",
    "* Hence the main purpose of finally block is to maintain clean up code.\n",
    "\n",
    "* The below example, shows the finally block gets executed even though the exception block is not executed."
   ]
  },
  {
   "cell_type": "code",
   "execution_count": 27,
   "id": "967c0f4a",
   "metadata": {},
   "outputs": [
    {
     "name": "stdout",
     "output_type": "stream",
     "text": [
      "it's a try block\n",
      "it's a finally block\n"
     ]
    }
   ],
   "source": [
    "try:\n",
    "    print(\"it's a try block\")\n",
    "except:\n",
    "    print(\"it's a exception block\")\n",
    "finally: \n",
    "    print(\"it's a finally block\")"
   ]
  },
  {
   "cell_type": "markdown",
   "id": "bcfc9bce",
   "metadata": {},
   "source": [
    "When there is an exception raised then control is passed to except block. If the exception is handled by the except block, even in this case also `finally block` is executed."
   ]
  },
  {
   "cell_type": "code",
   "execution_count": 28,
   "id": "57fa3a2f",
   "metadata": {},
   "outputs": [
    {
     "name": "stdout",
     "output_type": "stream",
     "text": [
      "cannot divide by zero\n",
      "finally block\n"
     ]
    }
   ],
   "source": [
    "try:\n",
    "    a = 5 / 0 \n",
    "    print(a)    \n",
    "except ZeroDivisionError:\n",
    "    print(\"cannot divide by zero\")\n",
    "finally: \n",
    "    print(\"finally block\")\n"
   ]
  },
  {
   "cell_type": "markdown",
   "id": "aef9f568",
   "metadata": {},
   "source": [
    "`There might be a situation where the exception is raised by the try block and not handled by the except block, in such cases also finally block is executed. After the finally block execution then the program is terminated with an exception returned as an error.`"
   ]
  },
  {
   "cell_type": "code",
   "execution_count": 29,
   "id": "801c3b7d",
   "metadata": {},
   "outputs": [
    {
     "name": "stdout",
     "output_type": "stream",
     "text": [
      "try block\n",
      "finally block\n"
     ]
    },
    {
     "ename": "ZeroDivisionError",
     "evalue": "division by zero",
     "output_type": "error",
     "traceback": [
      "\u001b[1;31m---------------------------------------------------------------------------\u001b[0m",
      "\u001b[1;31mZeroDivisionError\u001b[0m                         Traceback (most recent call last)",
      "Input \u001b[1;32mIn [29]\u001b[0m, in \u001b[0;36m<cell line: 1>\u001b[1;34m()\u001b[0m\n\u001b[0;32m      1\u001b[0m \u001b[38;5;28;01mtry\u001b[39;00m:\n\u001b[0;32m      2\u001b[0m     \u001b[38;5;28mprint\u001b[39m(\u001b[38;5;124m\"\u001b[39m\u001b[38;5;124mtry block\u001b[39m\u001b[38;5;124m\"\u001b[39m)\n\u001b[1;32m----> 3\u001b[0m     a \u001b[38;5;241m=\u001b[39m \u001b[38;5;241;43m5\u001b[39;49m\u001b[43m \u001b[49m\u001b[38;5;241;43m/\u001b[39;49m\u001b[43m \u001b[49m\u001b[38;5;241;43m0\u001b[39;49m \n\u001b[0;32m      4\u001b[0m     \u001b[38;5;28mprint\u001b[39m(a)    \n\u001b[0;32m      5\u001b[0m \u001b[38;5;28;01mexcept\u001b[39;00m \u001b[38;5;167;01mValueError\u001b[39;00m:\n",
      "\u001b[1;31mZeroDivisionError\u001b[0m: division by zero"
     ]
    }
   ],
   "source": [
    "try:\n",
    "    print(\"try block\")\n",
    "    a = 5 / 0 \n",
    "    print(a)    \n",
    "except ValueError:\n",
    "    print(\"value error\")\n",
    "finally: \n",
    "    print(\"finally block\")\n"
   ]
  },
  {
   "cell_type": "markdown",
   "id": "7f2285d7",
   "metadata": {},
   "source": [
    "### `os._exit(0) vs finally block`\n",
    "\n",
    "`There is only one situation where finally block is not executed when the program is terminated by some code. We can terminate the program using os._exit(0).`\n",
    "\n",
    "Whenever we are using `os._exit(0)` then `Python Virtual Machine `gets itself shut down. In this case, finally block won’t be executed.\n",
    "\n",
    "#### `os._exit(0)`\n",
    "\n",
    "* value inside the `os._exit()` represents the status code\n",
    "\n",
    "\n",
    "* If the status code is ‘0’ then the Python Virtual Machine it shutdown normally\n",
    "\n",
    "\n",
    "* If the status code is non-zero value then Python Virtual Machine it shutdown abnormally\n",
    "\n",
    "\n",
    "* Since this shutdown occurs internally in the Python Virtual Machine there isn’t any difference on the user side, the program is terminated"
   ]
  },
  {
   "cell_type": "code",
   "execution_count": null,
   "id": "901a25e8",
   "metadata": {},
   "outputs": [],
   "source": [
    "# we have to restart the kernel \n",
    "# or run it in vscode in \n",
    "import os\n",
    "try:\n",
    "    print(\"try block\")\n",
    "    os._exit(0)\n",
    "except:\n",
    "    print(\"Exception\")\n",
    "finally: \n",
    "    print(\"finally block\")\n"
   ]
  },
  {
   "cell_type": "markdown",
   "id": "87038933",
   "metadata": {},
   "source": [
    "### finally vs destructors\n",
    "\n",
    "* finally is used to deallocate the resources that are created in try block\n",
    "\n",
    "\n",
    "* Used for activities that are pending in the try block\n",
    "\n",
    "\n",
    "* When a finally block is declared it’s execution is independent of the try-except blocks\n",
    "\n",
    "\n",
    "* destructor is also used to deallocate the resources created for a object\n",
    "\n",
    "\n",
    "* destructor delete an object references\n",
    "\n",
    "* When a destructor is called whatever resources associated to a object are deallocated inside destructor\n",
    "\n",
    "\n",
    "### Control Flow in try-except-finally\n",
    "\n",
    "No matter whether there is an exception raised or not, whether the program is terminated or not, `finally `block will be executed for sure. Let’s check out a few examples of how the control flow is going to be among try-except-finally on different scenarios.\n",
    "\n",
    "* `When there is no exception raised in try-block, exception block is not executed and finally block gets executed and program results in normal termination.`"
   ]
  },
  {
   "cell_type": "code",
   "execution_count": 3,
   "id": "b7abae17",
   "metadata": {},
   "outputs": [
    {
     "name": "stdout",
     "output_type": "stream",
     "text": [
      "try block\n",
      "2.5\n",
      "finally block\n"
     ]
    }
   ],
   "source": [
    "try:\n",
    "    print(\"try block\")\n",
    "    a = 5/2\n",
    "    print(a)\n",
    "except:\n",
    "    print(\"Exception\")\n",
    "finally: \n",
    "    print(\"finally block\")"
   ]
  },
  {
   "cell_type": "code",
   "execution_count": null,
   "id": "c0c70dbd",
   "metadata": {},
   "outputs": [],
   "source": []
  }
 ],
 "metadata": {
  "kernelspec": {
   "display_name": "Python 3 (ipykernel)",
   "language": "python",
   "name": "python3"
  },
  "language_info": {
   "codemirror_mode": {
    "name": "ipython",
    "version": 3
   },
   "file_extension": ".py",
   "mimetype": "text/x-python",
   "name": "python",
   "nbconvert_exporter": "python",
   "pygments_lexer": "ipython3",
   "version": "3.9.7"
  }
 },
 "nbformat": 4,
 "nbformat_minor": 5
}
