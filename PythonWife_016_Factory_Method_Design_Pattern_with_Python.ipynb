{
 "cells": [
  {
   "cell_type": "markdown",
   "id": "d18fc9a1",
   "metadata": {},
   "source": [
    "### Factory Method – Design Pattern with Python"
   ]
  },
  {
   "cell_type": "markdown",
   "id": "8782cc7c",
   "metadata": {},
   "source": [
    "`Factory Method is a creational design pattern that asks us to define an interface for creating an object, called Factory interface. These interfaces define the generic structure, but don’t initialize objects. The initialization is left to do by more specific subclasses.`\n",
    "\n",
    "\n",
    "![](factory.png)\n",
    "\n"
   ]
  },
  {
   "cell_type": "markdown",
   "id": "e4e30556",
   "metadata": {},
   "source": [
    "The main motivation behind the Factory Method Design Pattern is to enhance loose coupling in code through the creation of an abstract class that will be used to create different types of objects that share some common attributes and functionality.\n",
    "\n",
    "`The best time to use the factory method pattern is when you have multiple variations of a single entity.`\n",
    "\n",
    "\n",
    "Let us understand where to use the factory method design pattern with an example, let’s say there is a Person(Client) who wants to calculate the area and the circumference of different shapes, let’s first define how our shape class should look like.\n",
    "\n",
    "Consider the abstract base class Shape for all of our shapes, below:"
   ]
  },
  {
   "cell_type": "code",
   "execution_count": 1,
   "id": "12d5db86",
   "metadata": {},
   "outputs": [],
   "source": [
    "from abc import ABC, abstractmethod\n",
    "\n",
    "class Shape(ABC):\n",
    "    @abstractmethod\n",
    "    def calculate_area(self):\n",
    "        pass\n",
    "    \n",
    "    @abstractmethod\n",
    "    def calculate_circumference(self):\n",
    "        pass\n",
    "    \n",
    "    "
   ]
  },
  {
   "cell_type": "markdown",
   "id": "e4d73a87",
   "metadata": {},
   "source": [
    "Limiting the client only to the two shapes i.e. Square and Circle. That means there are two Providers Square and Circle, who can help the client."
   ]
  },
  {
   "cell_type": "code",
   "execution_count": 9,
   "id": "0abeb62c",
   "metadata": {},
   "outputs": [],
   "source": [
    "from abc import ABC, abstractmethod\n",
    "\n",
    "class Shape(ABC):\n",
    "    @abstractmethod\n",
    "    def calculate_area(self):\n",
    "        pass\n",
    "    \n",
    "    @abstractmethod\n",
    "    def calculate_circumference(self):\n",
    "        pass\n",
    "    \n",
    "    \n",
    "class Square(Shape):\n",
    "    def __init__(self, width):\n",
    "        self.width = width\n",
    "        \n",
    "        \n",
    "    def calculate_area(self):\n",
    "        return self.width ** 2\n",
    "    \n",
    "    def calculate_circumference(self):\n",
    "        return 4 * self.width\n",
    "    \n",
    "    \n",
    "class Circle(Shape):\n",
    "    def __init__(self, radius):\n",
    "        self.radius = radius\n",
    "        \n",
    "    def calculate_area(self):\n",
    "        return 3.14 * self.radius * self.radius\n",
    "    \n",
    "    def calculate_circumference(self):\n",
    "        return round(2 * 3.14 * self.radius, 2)\n",
    "    \n",
    "    "
   ]
  },
  {
   "cell_type": "markdown",
   "id": "e1b8625d",
   "metadata": {},
   "source": [
    "Now to communicate with each provider, the client must know how both providers are implemented. And if in case there are ‘n’ providers, for ‘n’ different shapes, he must know the all ‘n’ implementation. Consider the call to the `Square` and `Circle` below. "
   ]
  },
  {
   "cell_type": "code",
   "execution_count": 10,
   "id": "cc5d7232",
   "metadata": {},
   "outputs": [
    {
     "name": "stdout",
     "output_type": "stream",
     "text": [
      "16\n",
      "16\n",
      "\n",
      "78.5\n",
      "31.4\n"
     ]
    }
   ],
   "source": [
    "squr = Square(4)\n",
    "print(squr.calculate_area())\n",
    "print(squr.calculate_circumference())\n",
    "\n",
    "print()\n",
    "\n",
    "circle = Circle(5)\n",
    "print(circle.calculate_area())\n",
    "print(circle.calculate_circumference())"
   ]
  },
  {
   "cell_type": "markdown",
   "id": "4c92f884",
   "metadata": {},
   "source": [
    "Two constructor calls for the classes(providers) having little variation in their functionality. `This is where we can introduce the Factory method to centralize and encapsulate the object creation`. That will help the client because now he had to know only about the factory rather than keeping knowledge about all ‘n’ implementations.\n",
    "\n",
    "Let’s create the Factory interface `ShapeFactory` and `shapes_client`."
   ]
  },
  {
   "cell_type": "code",
   "execution_count": 16,
   "id": "02e3537b",
   "metadata": {},
   "outputs": [],
   "source": [
    "from abc import ABC, abstractmethod\n",
    "\n",
    "class Shape(ABC):\n",
    "    @abstractmethod\n",
    "    def calculate_area(self):\n",
    "        pass\n",
    "    \n",
    "    @abstractmethod\n",
    "    def calculate_circumference(self):\n",
    "        pass\n",
    "    \n",
    "    \n",
    "class Square(Shape):\n",
    "    def __init__(self, width):\n",
    "        self.width = width\n",
    "        \n",
    "        \n",
    "    def calculate_area(self):\n",
    "        return self.width ** 2\n",
    "    \n",
    "    def calculate_circumference(self):\n",
    "        return 4 * self.width\n",
    "    \n",
    "    \n",
    "class Circle(Shape):\n",
    "    def __init__(self, radius):\n",
    "        self.radius = radius\n",
    "        \n",
    "    def calculate_area(self):\n",
    "        return 3.14 * self.radius * self.radius\n",
    "    \n",
    "    def calculate_circumference(self):\n",
    "        return round(2 * 3.14 * self.radius, 2)\n",
    "    \n",
    "    \n",
    "\n",
    "\n",
    "# The Factory Interface\n",
    "\n",
    "class ShapeFactory:\n",
    "    def create_shape(self, name, width):\n",
    "        if name.lower() == \"square\":\n",
    "            return Square(int(width))\n",
    "        \n",
    "        elif name.lower() == \"circle\":\n",
    "            return Circle(float(width))\n",
    "        \n",
    "# Interface that will deal with client\n",
    "\n",
    "def shapes_client():\n",
    "    shape_factory = ShapeFactory()\n",
    "    shape_name = \"circle\"\n",
    "    widthOrRadius = 10\n",
    "    shape = shape_factory.create_shape(shape_name, widthOrRadius)\n",
    "    \n",
    "    print(shape.calculate_area())\n",
    "    print(shape.calculate_circumference())"
   ]
  },
  {
   "cell_type": "code",
   "execution_count": 17,
   "id": "68ad1ce2",
   "metadata": {},
   "outputs": [
    {
     "name": "stdout",
     "output_type": "stream",
     "text": [
      "314.0\n",
      "62.8\n"
     ]
    }
   ],
   "source": [
    "shapes_client()"
   ]
  },
  {
   "cell_type": "code",
   "execution_count": 19,
   "id": "16395bd0",
   "metadata": {},
   "outputs": [
    {
     "name": "stdout",
     "output_type": "stream",
     "text": [
      "25\n",
      "20\n"
     ]
    }
   ],
   "source": [
    "def shapes_client(shape_name, widthOrRadius):\n",
    "    shape_factory = ShapeFactory()\n",
    "#     shape_name = \"circle\"\n",
    "#     widthOrRadius = 10\n",
    "    shape = shape_factory.create_shape(shape_name, widthOrRadius)\n",
    "    \n",
    "    print(shape.calculate_area())\n",
    "    print(shape.calculate_circumference())\n",
    "    \n",
    "shapes_client(\"Square\", 5)"
   ]
  },
  {
   "cell_type": "markdown",
   "id": "cf7c06a0",
   "metadata": {},
   "source": [
    "Here the client doesn’t need to call the constructors of concrete classes, rather the client have to call the Factory interface and asks it to solve his problem(finding area and the circumference). The client doesn’t have to know anything about the object creation or its specifics.\n",
    "\n",
    "\n",
    "Using the factory interface, a client can create objects with minimal knowledge of how objects work. However, the Factory interface has two parts( `ShapeFactory and shapes_client`) one to deal with providers(actual concrete classes) and the other with clients.\n",
    "\n",
    "The factory interface is like a translator, which is dedicatedly introduced to communicate on behalf of the client, here are two things to note, first factory interface has to know about all the different implementations of concrete classes and second, a client could be any separate entity like a high-level module.\n",
    "\n",
    "#### Pros and Cons of Factory Method – Design Patterns\n",
    "\n",
    "### Pros :\n",
    "\n",
    "* New types of products can be easily added without disturbing the existing client code, due to loosely coupled entities.\n",
    "\n",
    "\n",
    "* Helps to uphold the Single Responsibility Principle where classes and objects handles specific functionality.\n",
    "\n",
    "\n",
    "#### Cons :\n",
    "\n",
    "\n",
    "* To create a particular concrete product object, the client might have to create the sub-class for the creator class.\n",
    "\n",
    "\n",
    "* Creation of more classes eventually leads to less readability, though maintainable."
   ]
  },
  {
   "cell_type": "code",
   "execution_count": null,
   "id": "1d347003",
   "metadata": {},
   "outputs": [],
   "source": []
  }
 ],
 "metadata": {
  "kernelspec": {
   "display_name": "Python 3 (ipykernel)",
   "language": "python",
   "name": "python3"
  },
  "language_info": {
   "codemirror_mode": {
    "name": "ipython",
    "version": 3
   },
   "file_extension": ".py",
   "mimetype": "text/x-python",
   "name": "python",
   "nbconvert_exporter": "python",
   "pygments_lexer": "ipython3",
   "version": "3.9.7"
  }
 },
 "nbformat": 4,
 "nbformat_minor": 5
}
