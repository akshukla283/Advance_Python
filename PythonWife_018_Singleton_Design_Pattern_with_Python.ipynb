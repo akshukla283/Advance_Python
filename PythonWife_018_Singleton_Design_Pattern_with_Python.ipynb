{
 "cells": [
  {
   "cell_type": "markdown",
   "id": "2ccd0716",
   "metadata": {},
   "source": [
    "#### Singleton Design Pattern with Python\n",
    "\n",
    "`The singleton design pattern is a common creational design pattern that suggests the instantiation of a class to one “single” instance. Provided the object (instance) has a global access point. SDP is considered as a way of defining a class.`\n",
    "\n",
    "\n",
    "Singleton design pattern is preferred to used where only a single instance of a class is necessary to control the action throughout the execution. A singleton class shouldn’t have multiple instances in any case or at any cost.\n",
    "\n",
    "Singleton classes are used where it makes sense to have one object in the entire system because `initializer(instantiation) calls become expensive if instance represents any resource.` For example, instance of the classes that are performing actions like creating Driver objects, Caching and keeping `thread pool, logging` and establishing `Database connections etc…`\n",
    "\n",
    "\n",
    "* The creation of a single instance also helps to ensure that some aspects of our programs cannot be overridden by other classes resulting in unsafe or inefficient code. \n",
    "\n",
    "\n",
    "* The control of object creation is achieved by implementing a creation method that saves the created object in a static field.\n",
    "\n",
    "\n",
    "\n",
    "There should be a method within the interface(i.e. interface having one instance), whose duty will be to provide the global access of the Single Instance, serving as `Instance Allocator.`\n",
    "\n",
    "For reference, let’s see how to achieve a single instantiation of an object. And, understand the whole procedure parts by part, first we defined the class variable `__instance__,` that will hold the single object to be instantiated."
   ]
  },
  {
   "cell_type": "code",
   "execution_count": 1,
   "id": "9bf4d8d4",
   "metadata": {},
   "outputs": [],
   "source": [
    "__instance__ = None\n"
   ]
  },
  {
   "cell_type": "markdown",
   "id": "43840d5a",
   "metadata": {},
   "source": [
    "Now as we know when we do instantiation, a call to the constructor is made. Here, after a call, the constructor will first check if there is an existing instance or not, if yes raise an error, else create the instance."
   ]
  },
  {
   "cell_type": "code",
   "execution_count": null,
   "id": "bee6f160",
   "metadata": {},
   "outputs": [],
   "source": [
    "def __init__(self):\n",
    "    '''Constructor'''\n",
    "    \n",
    "    if Singleton.__instace"
   ]
  }
 ],
 "metadata": {
  "kernelspec": {
   "display_name": "Python 3 (ipykernel)",
   "language": "python",
   "name": "python3"
  },
  "language_info": {
   "codemirror_mode": {
    "name": "ipython",
    "version": 3
   },
   "file_extension": ".py",
   "mimetype": "text/x-python",
   "name": "python",
   "nbconvert_exporter": "python",
   "pygments_lexer": "ipython3",
   "version": "3.9.7"
  }
 },
 "nbformat": 4,
 "nbformat_minor": 5
}
