{
 "cells": [
  {
   "cell_type": "code",
   "execution_count": 3,
   "id": "efa98f44",
   "metadata": {},
   "outputs": [],
   "source": [
    "# Ineheritance \n",
    "\n",
    "class Parent:\n",
    "    value_1 = 10\n",
    "    value_2 = 20\n",
    "    \n",
    "    def m1(self):\n",
    "        print(\"Parent method m1\")\n",
    "        \n",
    "    @classmethod\n",
    "    def m2(cls):\n",
    "        print(\"Parent method m2\")\n",
    "    \n",
    "    @staticmethod\n",
    "    def m3():\n",
    "        print(\"Parent method m3\")\n",
    "        \n",
    "        \n",
    "class Child(Parent):\n",
    "    pass\n",
    "\n",
    "obj = Child()"
   ]
  },
  {
   "cell_type": "code",
   "execution_count": 4,
   "id": "b168cf3b",
   "metadata": {},
   "outputs": [
    {
     "name": "stdout",
     "output_type": "stream",
     "text": [
      "Parent method m1\n",
      "Parent method m2\n",
      "Parent method m3\n"
     ]
    }
   ],
   "source": [
    "obj.m1()\n",
    "obj.m2()\n",
    "obj.m3()"
   ]
  },
  {
   "cell_type": "code",
   "execution_count": 5,
   "id": "72dad664",
   "metadata": {},
   "outputs": [
    {
     "data": {
      "text/plain": [
       "10"
      ]
     },
     "execution_count": 5,
     "metadata": {},
     "output_type": "execute_result"
    }
   ],
   "source": [
    "obj.value_1"
   ]
  },
  {
   "cell_type": "code",
   "execution_count": 6,
   "id": "797d51b7",
   "metadata": {},
   "outputs": [
    {
     "data": {
      "text/plain": [
       "20"
      ]
     },
     "execution_count": 6,
     "metadata": {},
     "output_type": "execute_result"
    }
   ],
   "source": [
    "obj.value_2"
   ]
  },
  {
   "cell_type": "code",
   "execution_count": 4,
   "id": "026e2f06",
   "metadata": {},
   "outputs": [],
   "source": [
    "# Ineheritance \n",
    "\n",
    "class Parent:\n",
    "    value_1 = 10\n",
    "    value_2 = 20\n",
    "    \n",
    "    def __init__(self):\n",
    "#         self.name = name\n",
    "        self.value_3 = 30\n",
    "    \n",
    "    def m1(self):\n",
    "        print(\"Parent method m1\")\n",
    "        \n",
    "    @classmethod\n",
    "    def m2(cls):\n",
    "        print(\"Parent method m2\")\n",
    "    \n",
    "    @staticmethod\n",
    "    def m3():\n",
    "        print(\"Parent method m3\")\n",
    "        \n",
    "        \n",
    "class Child(Parent):\n",
    "    pass  # we didn't define init method so we can access all init mehtod of parent class\n",
    " # but when we define init mehto in child class then it override the Parent class init method\n",
    "    \n",
    "\n",
    "obj = Child()"
   ]
  },
  {
   "cell_type": "code",
   "execution_count": 5,
   "id": "ffc85c1a",
   "metadata": {},
   "outputs": [
    {
     "data": {
      "text/plain": [
       "30"
      ]
     },
     "execution_count": 5,
     "metadata": {},
     "output_type": "execute_result"
    }
   ],
   "source": [
    "obj.value_3 "
   ]
  },
  {
   "cell_type": "code",
   "execution_count": 11,
   "id": "59371835",
   "metadata": {},
   "outputs": [],
   "source": [
    "# Ineheritance \n",
    "\n",
    "class Parent:\n",
    "    value_1 = 10\n",
    "    value_2 = 20\n",
    "    \n",
    "    def __init__(self, name):\n",
    "        self.name = name\n",
    "        self.value_3 = 30\n",
    "    \n",
    "    def m1(self):\n",
    "        print(\"Parent method m1\")\n",
    "        \n",
    "    @classmethod\n",
    "    def m2(cls):\n",
    "        print(\"Parent method m2\")\n",
    "    \n",
    "    @staticmethod\n",
    "    def m3():\n",
    "        print(\"Parent method m3\")\n",
    "        \n",
    "        \n",
    "class Child(Parent):\n",
    "    def __init__(self, name):\n",
    "        self.value_4 = 40\n",
    "        \n",
    "\n",
    "obj = Child(\"Harry\")"
   ]
  },
  {
   "cell_type": "code",
   "execution_count": 12,
   "id": "8f99f98d",
   "metadata": {},
   "outputs": [
    {
     "data": {
      "text/plain": [
       "10"
      ]
     },
     "execution_count": 12,
     "metadata": {},
     "output_type": "execute_result"
    }
   ],
   "source": [
    "obj.value_1"
   ]
  },
  {
   "cell_type": "code",
   "execution_count": 13,
   "id": "0afc3214",
   "metadata": {},
   "outputs": [
    {
     "ename": "AttributeError",
     "evalue": "'Child' object has no attribute 'value_3'",
     "output_type": "error",
     "traceback": [
      "\u001b[1;31m---------------------------------------------------------------------------\u001b[0m",
      "\u001b[1;31mAttributeError\u001b[0m                            Traceback (most recent call last)",
      "Input \u001b[1;32mIn [13]\u001b[0m, in \u001b[0;36m<cell line: 1>\u001b[1;34m()\u001b[0m\n\u001b[1;32m----> 1\u001b[0m \u001b[43mobj\u001b[49m\u001b[38;5;241;43m.\u001b[39;49m\u001b[43mvalue_3\u001b[49m\n",
      "\u001b[1;31mAttributeError\u001b[0m: 'Child' object has no attribute 'value_3'"
     ]
    }
   ],
   "source": [
    "obj.value_3"
   ]
  },
  {
   "cell_type": "code",
   "execution_count": 14,
   "id": "fd32d42f",
   "metadata": {},
   "outputs": [
    {
     "ename": "AttributeError",
     "evalue": "'Child' object has no attribute 'name'",
     "output_type": "error",
     "traceback": [
      "\u001b[1;31m---------------------------------------------------------------------------\u001b[0m",
      "\u001b[1;31mAttributeError\u001b[0m                            Traceback (most recent call last)",
      "Input \u001b[1;32mIn [14]\u001b[0m, in \u001b[0;36m<cell line: 1>\u001b[1;34m()\u001b[0m\n\u001b[1;32m----> 1\u001b[0m \u001b[43mobj\u001b[49m\u001b[38;5;241;43m.\u001b[39;49m\u001b[43mname\u001b[49m\n",
      "\u001b[1;31mAttributeError\u001b[0m: 'Child' object has no attribute 'name'"
     ]
    }
   ],
   "source": [
    "obj.name"
   ]
  },
  {
   "cell_type": "code",
   "execution_count": 16,
   "id": "db3b8881",
   "metadata": {},
   "outputs": [],
   "source": [
    "# we didn't get the instance variable of parent class\n",
    "# because class init method override that so to inherite that we need to use super function\n",
    "\n",
    "class Company:\n",
    "    def __init__(self, com_name, est):\n",
    "        self.comapny_name = com_name\n",
    "        self.established = est\n",
    "        \n",
    "    def com_details(self):\n",
    "        print(f\"Conampy : {self.comapny_name}\\nEstablished in : {self.established}\")\n",
    "        \n",
    "        \n",
    "class Employee(Company):\n",
    "    def __init__(self,com_name, est, emp_name, emp_code):\n",
    "        super().__init__(com_name, est)\n",
    "        self.emp_name = emp_name\n",
    "        self.emp_code = emp_code\n",
    "        \n",
    "    def emp_details(self):\n",
    "        \n",
    "        print(f\"Conampy : {self.comapny_name}\\nEstablished in : {self.established}\")\n",
    "        print(f\"Employee : {self.emp_name}\\nEmployee Code : {self.emp_code}\")\n",
    "\n",
    "        \n",
    "emp = Employee(\"Paysoft\", 2019, \"Harry\", 2683)\n",
    "\n",
    "        "
   ]
  },
  {
   "cell_type": "code",
   "execution_count": 17,
   "id": "32c6ae97",
   "metadata": {},
   "outputs": [
    {
     "name": "stdout",
     "output_type": "stream",
     "text": [
      "Conampy : Paysoft\n",
      "Established in : 2019\n",
      "Employee : Harry\n",
      "Employee Code : 2683\n"
     ]
    }
   ],
   "source": [
    "emp.emp_details()"
   ]
  },
  {
   "cell_type": "code",
   "execution_count": 19,
   "id": "3a5b0010",
   "metadata": {},
   "outputs": [
    {
     "name": "stdout",
     "output_type": "stream",
     "text": [
      "Conampy : Paysoft\n",
      "Established in : 2019\n"
     ]
    }
   ],
   "source": [
    "emp.com_details()"
   ]
  },
  {
   "cell_type": "code",
   "execution_count": 27,
   "id": "9d0bbfcd",
   "metadata": {},
   "outputs": [],
   "source": [
    "class Parent1:\n",
    "    def m1(self):\n",
    "        print(\"Parent class method m1\")\n",
    "        \n",
    "class Parent2:\n",
    "    def m2(self):\n",
    "        print(\"Parent class method m2\")\n",
    "        \n",
    "class Child(Parent1, Parent2):\n",
    "    def m3(self):\n",
    "        print(\"Parent class method m3\")\n",
    "        \n",
    "        \n",
    "\n",
    "        \n",
    "child = Child()\n",
    "    "
   ]
  },
  {
   "cell_type": "code",
   "execution_count": 28,
   "id": "7d96ce49",
   "metadata": {},
   "outputs": [
    {
     "name": "stdout",
     "output_type": "stream",
     "text": [
      "Parent class method m1\n"
     ]
    }
   ],
   "source": [
    "child.m1()"
   ]
  },
  {
   "cell_type": "code",
   "execution_count": 29,
   "id": "54db6955",
   "metadata": {},
   "outputs": [
    {
     "name": "stdout",
     "output_type": "stream",
     "text": [
      "Parent class method m2\n"
     ]
    }
   ],
   "source": [
    "child.m2()"
   ]
  },
  {
   "cell_type": "code",
   "execution_count": 30,
   "id": "9db439af",
   "metadata": {},
   "outputs": [
    {
     "name": "stdout",
     "output_type": "stream",
     "text": [
      "Parent class method m3\n"
     ]
    }
   ],
   "source": [
    "child.m3()"
   ]
  },
  {
   "cell_type": "code",
   "execution_count": 31,
   "id": "c297bd04",
   "metadata": {},
   "outputs": [],
   "source": [
    "## method 1\n",
    "class A:\n",
    "    def method_1(self):\n",
    "        print(\"class A method\")\n",
    "        \n",
    "class B :\n",
    "    def method_1(self):\n",
    "        print(\"Class B method\")\n",
    "        \n",
    "class C(A, B):\n",
    "    def method_1(self):\n",
    "        print(\"Class C method\")\n",
    "        \n",
    "obj = C()\n",
    "    \n"
   ]
  },
  {
   "cell_type": "code",
   "execution_count": 32,
   "id": "b9e96b55",
   "metadata": {},
   "outputs": [
    {
     "name": "stdout",
     "output_type": "stream",
     "text": [
      "Class C method\n"
     ]
    }
   ],
   "source": [
    "obj.method_1()"
   ]
  },
  {
   "cell_type": "code",
   "execution_count": 33,
   "id": "e2f44c1d",
   "metadata": {},
   "outputs": [],
   "source": [
    "## method 1\n",
    "class A:\n",
    "    def method_1(self):\n",
    "        print(\"class A method\")\n",
    "        \n",
    "class B :\n",
    "    def method_1(self):\n",
    "        print(\"Class B method\")\n",
    "        \n",
    "class C(A, B):\n",
    "    pass\n",
    "#     def method_1(self):\n",
    "#         print(\"Class C method\")\n",
    "        \n",
    "obj = C()\n",
    "    \n"
   ]
  },
  {
   "cell_type": "code",
   "execution_count": 34,
   "id": "941f5890",
   "metadata": {},
   "outputs": [
    {
     "name": "stdout",
     "output_type": "stream",
     "text": [
      "class A method\n"
     ]
    }
   ],
   "source": [
    "obj.method_1()"
   ]
  },
  {
   "cell_type": "code",
   "execution_count": 36,
   "id": "5a8d544b",
   "metadata": {},
   "outputs": [],
   "source": [
    "## method 1\n",
    "class A:\n",
    "    def method_1(self):\n",
    "        print(\"class A method\")\n",
    "        \n",
    "class B :\n",
    "    def method_1(self):\n",
    "        print(\"Class B method\")\n",
    "        \n",
    "class C(B, A):\n",
    "    pass\n",
    "#     def method_1(self):\n",
    "#         print(\"Class C method\")\n",
    "        \n",
    "obj = C()\n",
    "    \n"
   ]
  },
  {
   "cell_type": "code",
   "execution_count": 37,
   "id": "84947455",
   "metadata": {},
   "outputs": [
    {
     "name": "stdout",
     "output_type": "stream",
     "text": [
      "Class B method\n"
     ]
    }
   ],
   "source": [
    "obj.method_1()"
   ]
  },
  {
   "cell_type": "code",
   "execution_count": 38,
   "id": "a1526410",
   "metadata": {},
   "outputs": [],
   "source": [
    "from abc import abstractmethod\n",
    "\n",
    "class Parent:\n",
    "    @abstractmethod\n",
    "    def m1(self):\n",
    "        pass"
   ]
  },
  {
   "cell_type": "code",
   "execution_count": 39,
   "id": "f13bf170",
   "metadata": {},
   "outputs": [],
   "source": [
    "from abc import abstractmethod\n",
    "\n",
    "class Parent:\n",
    "    @abstractmethod\n",
    "    def m1(self):\n",
    "        pass\n",
    "    \n",
    "class Child(Parent):\n",
    "    def m1(self):\n",
    "        pass\n",
    "    "
   ]
  },
  {
   "cell_type": "code",
   "execution_count": 41,
   "id": "e5431e4f",
   "metadata": {},
   "outputs": [
    {
     "name": "stdout",
     "output_type": "stream",
     "text": [
      "Hi, welcome\n"
     ]
    }
   ],
   "source": [
    "from abc import abstractmethod\n",
    "\n",
    "class Parent:\n",
    "    @abstractmethod\n",
    "    def m1(self):\n",
    "        pass\n",
    "    \n",
    "class Child(Parent):\n",
    "    def m1(self):\n",
    "        print(\"Hi, welcome\")\n",
    "    \n",
    "    \n",
    "obj = Child()\n",
    "obj.m1()"
   ]
  },
  {
   "cell_type": "code",
   "execution_count": 43,
   "id": "0385b400",
   "metadata": {},
   "outputs": [
    {
     "name": "stdout",
     "output_type": "stream",
     "text": [
      "he' a cricketer\n"
     ]
    }
   ],
   "source": [
    "print('he\\' a cricketer')"
   ]
  },
  {
   "cell_type": "code",
   "execution_count": null,
   "id": "33ef06d9",
   "metadata": {},
   "outputs": [],
   "source": []
  }
 ],
 "metadata": {
  "kernelspec": {
   "display_name": "Python 3 (ipykernel)",
   "language": "python",
   "name": "python3"
  },
  "language_info": {
   "codemirror_mode": {
    "name": "ipython",
    "version": 3
   },
   "file_extension": ".py",
   "mimetype": "text/x-python",
   "name": "python",
   "nbconvert_exporter": "python",
   "pygments_lexer": "ipython3",
   "version": "3.9.7"
  }
 },
 "nbformat": 4,
 "nbformat_minor": 5
}
