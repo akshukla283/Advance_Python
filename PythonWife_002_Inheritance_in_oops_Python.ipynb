{
 "cells": [
  {
   "cell_type": "markdown",
   "id": "f68776d4",
   "metadata": {},
   "source": [
    "### Inheritance in OOPS in Python \n",
    "\n",
    "\n",
    "\n",
    "#### Inheritance:\n",
    "\n",
    "`Inheritance is an important concept in object-oriented programming. Inheritance means deriving a new class from an existing class. A class that inherits the properties is known as child class and the class whose properties are inherited is known as parent class(also called base class, superclass).`\n",
    "\n",
    "\n",
    "All the variables, methods, and constructors in the parent class are by default available to the child class and we don’t have to re-define them in the child class.\n",
    "\n",
    "`Hence the main advantage of Inheritence is the code re-usability and also adding few or no features to the existing functionality.`\n",
    "\n",
    "\n",
    "The syntax of implementing the inheritance is passing the parent class into child class using parenthesis while declaring the child class."
   ]
  },
  {
   "cell_type": "code",
   "execution_count": 2,
   "id": "6b2bac8f",
   "metadata": {},
   "outputs": [],
   "source": [
    "# class childclass(parent class):\n",
    "#     pass"
   ]
  },
  {
   "cell_type": "markdown",
   "id": "445c7aef",
   "metadata": {},
   "source": [
    "The below example is a basic program that implements the inheritance concept. We can directly access the members of the parent class using the object of the child class."
   ]
  },
  {
   "cell_type": "code",
   "execution_count": 1,
   "id": "d7a45505",
   "metadata": {},
   "outputs": [
    {
     "name": "stdout",
     "output_type": "stream",
     "text": [
      "Parent method m1\n",
      "Parent method m2\n",
      "Parent method m3\n"
     ]
    }
   ],
   "source": [
    "class Parent:\n",
    "    value_1 = 50\n",
    "    value_2 = 40\n",
    "    \n",
    "    def m1(self):\n",
    "        print(\"Parent method m1\")\n",
    "    \n",
    "    @classmethod\n",
    "    def m2(cls):\n",
    "        print(\"Parent method m2\")\n",
    "        \n",
    "    @staticmethod\n",
    "    def m3():\n",
    "        print(\"Parent method m3\")\n",
    "        \n",
    "        \n",
    "class Child(Parent):\n",
    "    pass\n",
    "\n",
    "obj = Child()\n",
    "obj.m1()\n",
    "obj.m2()\n",
    "obj.m3()\n",
    "    "
   ]
  },
  {
   "cell_type": "code",
   "execution_count": 4,
   "id": "f0d6894e",
   "metadata": {},
   "outputs": [
    {
     "name": "stdout",
     "output_type": "stream",
     "text": [
      "50 40\n"
     ]
    }
   ],
   "source": [
    "print(obj.value_1, obj.value_2)"
   ]
  },
  {
   "cell_type": "markdown",
   "id": "3f4740a9",
   "metadata": {},
   "source": [
    "### Note: \n",
    "`We can inherit all the members of the parent class except the constructor method( __init__ ). Because the constructor of the parent class will be executed only if the object of the parent class is created.`"
   ]
  },
  {
   "cell_type": "code",
   "execution_count": 1,
   "id": "e4e71664",
   "metadata": {},
   "outputs": [
    {
     "name": "stdout",
     "output_type": "stream",
     "text": [
      "Parent method\n",
      "50\n"
     ]
    }
   ],
   "source": [
    "class Parent:\n",
    "    value_1 = 50\n",
    "    \n",
    "    def __init__(self):\n",
    "        self.value_2 = 30\n",
    "        self.value_3 = 4\n",
    "        \n",
    "    def m1(self):\n",
    "        print(\"Parent method\")\n",
    "        \n",
    "    \n",
    "class Child(Parent):\n",
    "    def __init__(self):  # this init method override the parent class init \n",
    "        self.m1()\n",
    "        \n",
    "        \n",
    "        \n",
    "obj = Child()\n",
    "print(obj.value_1)"
   ]
  },
  {
   "cell_type": "code",
   "execution_count": 2,
   "id": "2c383798",
   "metadata": {},
   "outputs": [
    {
     "name": "stdout",
     "output_type": "stream",
     "text": [
      "Parent method\n"
     ]
    }
   ],
   "source": [
    "obj.m1()"
   ]
  },
  {
   "cell_type": "code",
   "execution_count": 3,
   "id": "385467ec",
   "metadata": {},
   "outputs": [
    {
     "ename": "AttributeError",
     "evalue": "'Child' object has no attribute 'value_2'",
     "output_type": "error",
     "traceback": [
      "\u001b[1;31m---------------------------------------------------------------------------\u001b[0m",
      "\u001b[1;31mAttributeError\u001b[0m                            Traceback (most recent call last)",
      "Input \u001b[1;32mIn [3]\u001b[0m, in \u001b[0;36m<cell line: 1>\u001b[1;34m()\u001b[0m\n\u001b[1;32m----> 1\u001b[0m \u001b[38;5;28mprint\u001b[39m(\u001b[43mobj\u001b[49m\u001b[38;5;241;43m.\u001b[39;49m\u001b[43mvalue_2\u001b[49m, obj\u001b[38;5;241m.\u001b[39mvalue_3)\n",
      "\u001b[1;31mAttributeError\u001b[0m: 'Child' object has no attribute 'value_2'"
     ]
    }
   ],
   "source": [
    "print(obj.value_2, obj.value_3)"
   ]
  },
  {
   "cell_type": "markdown",
   "id": "b479cae6",
   "metadata": {},
   "source": [
    "As we can see that we cann't access the data present in constructor method of parent class\n",
    "\n",
    "\n",
    "`To access the data present in the constructor of the parent class from the child class the constructor method has to be called from the child class.`\n",
    "\n",
    "To overcome this we can use the `super() `keyword and can call the constructor of the parent class. Using the `super()` keyword we can call the members of the parent class into the child class.\n"
   ]
  },
  {
   "cell_type": "code",
   "execution_count": 20,
   "id": "2f33f1e3",
   "metadata": {},
   "outputs": [
    {
     "name": "stdout",
     "output_type": "stream",
     "text": [
      "bonus this month\n",
      "Python Software established in 2005 has given 10000 bonus to John with age 54\n"
     ]
    }
   ],
   "source": [
    "class Company:\n",
    "    \n",
    "    def __init__(self):\n",
    "        self.company_name = \"Python Software\"\n",
    "        self.company_established = \"2005\"\n",
    "        \n",
    "    def bonus(self):\n",
    "        print(\"bonus this month\")\n",
    "        self.bonus = 10000\n",
    "        \n",
    "class Employee(Company):\n",
    "    def __init__(self, emp_name, emp_age):\n",
    "        super().__init__()\n",
    "        self.emp_name = emp_name\n",
    "        self.emp_age = emp_age\n",
    "        \n",
    "    def emp_details(self):\n",
    "        print(f\"{self.company_name} established in {self.company_established} has given {self.bonus} bonus to {self.emp_name} with age {self.emp_age}\")\n",
    "        \n",
    "        \n",
    "        \n",
    "        \n",
    "obj = Employee(\"John\", 54)\n",
    "obj.bonus()\n",
    "obj.emp_details()\n",
    "\n",
    "    "
   ]
  },
  {
   "cell_type": "code",
   "execution_count": 21,
   "id": "cd5de425",
   "metadata": {},
   "outputs": [
    {
     "name": "stdout",
     "output_type": "stream",
     "text": [
      "Python Software established in 2005 has given 10000 bonus to John with age 54\n"
     ]
    }
   ],
   "source": [
    "obj.emp_details()"
   ]
  },
  {
   "cell_type": "code",
   "execution_count": 22,
   "id": "57abfea5",
   "metadata": {},
   "outputs": [
    {
     "name": "stdout",
     "output_type": "stream",
     "text": [
      "{'company_name': 'Python Software', 'company_established': '2005', 'emp_name': 'John', 'emp_age': 54, 'bonus': 10000}\n"
     ]
    }
   ],
   "source": [
    "print(obj.__dict__)"
   ]
  },
  {
   "cell_type": "markdown",
   "id": "a9d33660",
   "metadata": {},
   "source": [
    "#### Types of Inheritance\n",
    "\n",
    "Inheritance is classified into different types based on the number of classes being inherited and the chain of inheritance. They are:-\n",
    "\n",
    "1. Single Inheritance\n",
    "\n",
    "2. Multi-Level Inheritance\n",
    "\n",
    "3. Hierarchical Inheritance\n",
    "\n",
    "4. Multiple Inheritance\n",
    "\n",
    "5. Hybrid Inheritance\n",
    "\n",
    "6. Cyclic Inheritance"
   ]
  },
  {
   "cell_type": "markdown",
   "id": "61d81dec",
   "metadata": {},
   "source": [
    "### 1. Single Inheritance\n",
    "\n",
    "\n",
    "`If a parent class is inherited by a single child class then the relation between the parent and child classes is known as single inheritance.`"
   ]
  },
  {
   "cell_type": "code",
   "execution_count": 23,
   "id": "c074d52e",
   "metadata": {},
   "outputs": [
    {
     "name": "stdout",
     "output_type": "stream",
     "text": [
      "Parent method\n",
      "Child method\n"
     ]
    }
   ],
   "source": [
    "class Parent:\n",
    "    def m1(self):\n",
    "        print(\"Parent method\")\n",
    "        \n",
    "class Child(Parent):\n",
    "    def m2(self):\n",
    "        print(\"Child method\")\n",
    "        \n",
    "        \n",
    "obj = Child()\n",
    "\n",
    "obj.m1()\n",
    "obj.m2()"
   ]
  },
  {
   "cell_type": "markdown",
   "id": "7e798f16",
   "metadata": {},
   "source": [
    "###  2. Multi-Level Inheritance\n",
    "\n",
    "`The concept of inheriting the members from multiple classes into a single class is known as multi-level inheritance. In multi-level inheritance, the child class can be a parent class to another child class and the process goes on.`\n",
    "\n",
    "Thus multi-level inheritance can also be called multiple level inheritance.\n",
    "\n",
    "\n",
    "In the below example, the `child class` is inheriting the `parent class` so all the members of the `parent class` are also accessible by the `child class`. The child class is inherited by `child2` class which makes it accessible to the members of both `child class` and `parent class`."
   ]
  },
  {
   "cell_type": "code",
   "execution_count": 25,
   "id": "8c669dea",
   "metadata": {},
   "outputs": [
    {
     "name": "stdout",
     "output_type": "stream",
     "text": [
      "Parent method\n",
      "Child method m2\n",
      "Child2 method m3\n"
     ]
    }
   ],
   "source": [
    "class Parent:\n",
    "    def m1(self):\n",
    "        print(\"Parent method\")\n",
    "    \n",
    "class Child(Parent):\n",
    "    def m2(self):\n",
    "        print(\"Child method m2\")\n",
    "        \n",
    "class Child2(Child):\n",
    "    def m3(self):\n",
    "        print(\"Child2 method m3\")\n",
    "        \n",
    "        \n",
    "obj = Child2()\n",
    "\n",
    "obj.m1()\n",
    "obj.m2()\n",
    "obj.m3()\n",
    "\n"
   ]
  },
  {
   "cell_type": "markdown",
   "id": "5dc4cc44",
   "metadata": {},
   "source": [
    "### 3. Hierarchical Inheritance\n",
    "\n",
    "`In Hierarchical Inheritance one parent class is inherited by multiple child classes that are at the same level are known as Hierarchical inheritance.`\n",
    "\n",
    "\n",
    "\n",
    "In hierarchical inheritance, a single parent class will have multiple child classes which are at the same level and the members of the parent class are accessible to all the child classes.\n",
    "\n",
    "If Else 3 3\n",
    "In the below example, we are implementing Hierarchical Inheritance for the parent class by inheriting the parent class for two child classes that are at the same level. In this type of inheritance the child1 members are not accessible by child2."
   ]
  },
  {
   "cell_type": "code",
   "execution_count": 27,
   "id": "6bc67fe2",
   "metadata": {},
   "outputs": [
    {
     "name": "stdout",
     "output_type": "stream",
     "text": [
      "Parent method\n",
      "Child1 method m2\n",
      "\n",
      "Parent method\n",
      "Child2 method m3\n"
     ]
    }
   ],
   "source": [
    "class Parent:\n",
    "    def m1(self):\n",
    "        print(\"Parent method\")\n",
    "    \n",
    "class Child1(Parent):\n",
    "    def m2(self):\n",
    "        print(\"Child1 method m2\")\n",
    "        \n",
    "class Child2(Parent):\n",
    "    def m3(self):\n",
    "        print(\"Child2 method m3\")\n",
    "        \n",
    "        \n",
    "obj1 = Child1()\n",
    "obj1.m1()\n",
    "obj1.m2()\n",
    "\n",
    "print()\n",
    "\n",
    "obj2 = Child2()\n",
    "obj2.m1()\n",
    "obj2.m3()\n"
   ]
  },
  {
   "cell_type": "markdown",
   "id": "f73311ad",
   "metadata": {},
   "source": [
    "### 4. Multiple Inheritance\n",
    "\n",
    "\n",
    "`If a single child class inherits two or more classes then the relation between the child class and the multiple parent classes is known as Multiple Inheritance. All the members of the classes that are being inherited are accessible by the child class.`\n",
    "\n",
    "\n",
    "\n",
    "The parent classes that the child class inherits are declared in an order using parenthesis.\n",
    "\n",
    "\n",
    "\n",
    "\n",
    "`In the below example, we are implementing Multiple inheritence by inheriting the parent classes parent1 and parent2 into child class. The members of parent1 and parent2 are accessible by the child class.`"
   ]
  },
  {
   "cell_type": "code",
   "execution_count": 28,
   "id": "d08b391a",
   "metadata": {},
   "outputs": [
    {
     "name": "stdout",
     "output_type": "stream",
     "text": [
      "Parent1 method m1\n",
      "Parent2 method m2\n",
      "Child method m3\n"
     ]
    }
   ],
   "source": [
    "class Parent1:\n",
    "    def m1(self):\n",
    "        print(\"Parent1 method m1\")\n",
    "    \n",
    "class Parent2:\n",
    "    def m2(self):\n",
    "        print(\"Parent2 method m2\")\n",
    "        \n",
    "class Child(Parent1, Parent2):\n",
    "    def m3(self):\n",
    "        print(\"Child method m3\")\n",
    "        \n",
    "        \n",
    "obj = Child()\n",
    "obj.m1()\n",
    "obj.m2()\n",
    "obj.m3()\n"
   ]
  },
  {
   "cell_type": "markdown",
   "id": "60be96d8",
   "metadata": {},
   "source": [
    "### Note :\n",
    "\n",
    "`If the parent classes parent1 and parent2 has methods with the same name but different functionality then the order of passing the parent classes into child class is considered.`\n",
    "\n",
    "* If we pass first parent1 and second parent2 and if there are any common methods between these both parent classes and if we access them from child class then method from parent1 is called.\n",
    "\n",
    "\n",
    "* If we pass first parent2 and second parent1 and if there are any common methods between these both parent classes and if we access them from child class then method from parent2 is called."
   ]
  },
  {
   "cell_type": "code",
   "execution_count": 29,
   "id": "31ce5bae",
   "metadata": {},
   "outputs": [
    {
     "name": "stdout",
     "output_type": "stream",
     "text": [
      "parent1 method executed\n"
     ]
    }
   ],
   "source": [
    "class Parent1:\n",
    "    def m1(self):\n",
    "        print(\"parent1 method executed\")\n",
    "class Parent2:\n",
    "    def m1(self):\n",
    "        print(\"parent2 method executed\")\n",
    "\n",
    "class Child(Parent1, Parent2):\n",
    "    pass\n",
    "\n",
    "\n",
    "obj = Child()\n",
    "obj.m1()\n",
    "\n",
    "# # Output\n",
    "# parent1 method executed"
   ]
  },
  {
   "cell_type": "code",
   "execution_count": 30,
   "id": "44934470",
   "metadata": {},
   "outputs": [
    {
     "name": "stdout",
     "output_type": "stream",
     "text": [
      "parent2 method executed\n"
     ]
    }
   ],
   "source": [
    "class Parent1:\n",
    "    def m1(self):\n",
    "        print(\"parent1 method executed\")\n",
    "class Parent2:\n",
    "    def m1(self):\n",
    "        print(\"parent2 method executed\")\n",
    "\n",
    "class Child(Parent2, Parent1):\n",
    "    pass\n",
    "\n",
    "\n",
    "obj = Child()\n",
    "obj.m1()\n",
    "\n",
    "# # Output\n",
    "# parent1 method executed"
   ]
  },
  {
   "cell_type": "markdown",
   "id": "ae905f24",
   "metadata": {},
   "source": [
    "### 5. Hybrid Inheritance\n",
    "\n",
    "`If a class has different types of inheritance implemented in it, then this inheritance is known as Hybrid inheritance. As the name itself suggests there will be two or more inheritances implemented.`\n",
    "\n",
    "In hybrid inheritance to access the parent class members `Method Resolution Order(MRO)` is implemented.\n",
    "\n",
    "\n",
    "### 6. Cyclic Inheritance\n",
    "\n",
    "\n",
    "`Implementing Inheritance such that one class inherits the other class in a cyclic order is known as Cyclic Inheritance. Python does not support Cyclic Inheritance.`"
   ]
  },
  {
   "cell_type": "code",
   "execution_count": 1,
   "id": "7f88ad44",
   "metadata": {},
   "outputs": [
    {
     "ename": "NameError",
     "evalue": "name 'A' is not defined",
     "output_type": "error",
     "traceback": [
      "\u001b[1;31m---------------------------------------------------------------------------\u001b[0m",
      "\u001b[1;31mNameError\u001b[0m                                 Traceback (most recent call last)",
      "Input \u001b[1;32mIn [1]\u001b[0m, in \u001b[0;36m<cell line: 1>\u001b[1;34m()\u001b[0m\n\u001b[1;32m----> 1\u001b[0m \u001b[38;5;28;01mclass\u001b[39;00m \u001b[38;5;21;01mA\u001b[39;00m(\u001b[43mA\u001b[49m):\n\u001b[0;32m      2\u001b[0m     \u001b[38;5;28;01mpass\u001b[39;00m\n",
      "\u001b[1;31mNameError\u001b[0m: name 'A' is not defined"
     ]
    }
   ],
   "source": [
    "class A(A):\n",
    "    pass\n"
   ]
  },
  {
   "cell_type": "code",
   "execution_count": 2,
   "id": "d7f9d38a",
   "metadata": {},
   "outputs": [
    {
     "ename": "NameError",
     "evalue": "name 'B' is not defined",
     "output_type": "error",
     "traceback": [
      "\u001b[1;31m---------------------------------------------------------------------------\u001b[0m",
      "\u001b[1;31mNameError\u001b[0m                                 Traceback (most recent call last)",
      "Input \u001b[1;32mIn [2]\u001b[0m, in \u001b[0;36m<cell line: 1>\u001b[1;34m()\u001b[0m\n\u001b[1;32m----> 1\u001b[0m \u001b[38;5;28;01mclass\u001b[39;00m \u001b[38;5;21;01mA\u001b[39;00m(\u001b[43mB\u001b[49m):\n\u001b[0;32m      2\u001b[0m     \u001b[38;5;28;01mpass\u001b[39;00m\n\u001b[0;32m      4\u001b[0m \u001b[38;5;28;01mclass\u001b[39;00m \u001b[38;5;21;01mB\u001b[39;00m(A):\n",
      "\u001b[1;31mNameError\u001b[0m: name 'B' is not defined"
     ]
    }
   ],
   "source": [
    "class A(B):\n",
    "    pass\n",
    "\n",
    "class B(A):\n",
    "    pass"
   ]
  },
  {
   "cell_type": "markdown",
   "id": "7b19b81a",
   "metadata": {},
   "source": [
    "### Method Resolution Order( MRO )\n",
    "\n",
    "In the Hybrid Inheritance `Method Resolution Order` is implemented. It defines the class search path used by Python to search for the right method to use in classes having multi-inheritance.\n",
    "\n",
    "Suppose we have a method that is present in multiple parent classes and if we call the method from the object of the child class, the search path for the method is defined by `MRO`."
   ]
  },
  {
   "cell_type": "markdown",
   "id": "b57b245b",
   "metadata": {},
   "source": [
    "#### Method Resolution with single, Multiple, Multi-level, Hierarchical inheritances\n",
    "\n",
    "`In the below example, Multiple inheritance is implemented as the child class inherits the parent classes parent_1 and parent_2.`\n",
    "\n"
   ]
  },
  {
   "cell_type": "code",
   "execution_count": 3,
   "id": "3bbeec05",
   "metadata": {},
   "outputs": [],
   "source": [
    "class Parent_1:\n",
    "    pass\n",
    "\n",
    "class Parent_2:\n",
    "    pass\n",
    "\n",
    "class Child(Parent_1, Parent_2):\n",
    "    pass"
   ]
  },
  {
   "cell_type": "markdown",
   "id": "290725ec",
   "metadata": {},
   "source": [
    "If we call the method from the object of the child class, then the order in which the python searches for the method among the classes is `child, parent_1, parent_2, object class.`\n",
    "\n",
    "\n",
    "* Firstly Python looks for the method in the child class.\n",
    "\n",
    "\n",
    "* If the method is not found resumes the search to parent_1 class in the order.\n",
    "\n",
    "\n",
    "* If still the method is not found resumes the search to next class in the order i.e., parent_2 class.\n",
    "\n",
    "\n",
    "* And finally if the method not found among all the classes then object class is searched for the method.\n",
    "\n",
    "\n",
    "* If method not found in object class then AttributeError is returned."
   ]
  },
  {
   "cell_type": "code",
   "execution_count": 4,
   "id": "33f12524",
   "metadata": {},
   "outputs": [
    {
     "name": "stdout",
     "output_type": "stream",
     "text": [
      "class C method\n"
     ]
    }
   ],
   "source": [
    "# method_1 in child\n",
    "# returned based on \n",
    "# the order\n",
    "# C -> A -> B\n",
    "\n",
    "\n",
    "class A:\n",
    "    def method_1(self):\n",
    "        print(\"class A method\")\n",
    "        \n",
    "class B:\n",
    "    def method_1(self):\n",
    "        print(\"class B method\")\n",
    "        \n",
    "class C(A, B):\n",
    "    def method_1(self):\n",
    "        print(\"class C method\")\n",
    "        \n",
    "        \n",
    "obj = C()\n",
    "\n",
    "obj.method_1()\n",
    "        "
   ]
  },
  {
   "cell_type": "code",
   "execution_count": 5,
   "id": "37f1c2da",
   "metadata": {},
   "outputs": [
    {
     "name": "stdout",
     "output_type": "stream",
     "text": [
      "class A method\n"
     ]
    }
   ],
   "source": [
    "# method_1 in class A\n",
    "# returned based on \n",
    "# the order\n",
    "# C -> A -> B\n",
    "\n",
    "\n",
    "class A:\n",
    "    def method_1(self):\n",
    "        print(\"class A method\")\n",
    "        \n",
    "class B:\n",
    "    def method_1(self):\n",
    "        print(\"class B method\")\n",
    "        \n",
    "class C(A, B):\n",
    "    pass\n",
    "\n",
    "obj = C()\n",
    "obj.method_1()"
   ]
  },
  {
   "cell_type": "code",
   "execution_count": 6,
   "id": "12f22784",
   "metadata": {},
   "outputs": [
    {
     "name": "stdout",
     "output_type": "stream",
     "text": [
      "class B method\n"
     ]
    }
   ],
   "source": [
    "# method_1 in class A\n",
    "# returned based on \n",
    "# the order\n",
    "# C -> B -> A\n",
    "\n",
    "\n",
    "class A:\n",
    "    def method_1(self):\n",
    "        print(\"class A method\")\n",
    "        \n",
    "class B:\n",
    "    def method_1(self):\n",
    "        print(\"class B method\")\n",
    "        \n",
    "class C(B, A):\n",
    "    pass\n",
    "\n",
    "obj = C()\n",
    "obj.method_1()"
   ]
  },
  {
   "cell_type": "markdown",
   "id": "aed0aa0d",
   "metadata": {},
   "source": [
    "The method resolution is simple when the inheritance is of only a single type( either of the single, Multiple, Muti-Level, Hierarchical). If the Hybrid inheritance is involved then the method resolution is defined based on the MRO formula.\n",
    "\n",
    "### MRO in Hybrid Inheritance\n",
    "\n",
    "`Method Resolution Order also known as the C3 algorithm is proposed by Samuele Pedroni. It follows DLR(depth-first left to right) approach.`\n",
    "\n",
    "In DLR approach:-\n",
    "\n",
    "\n",
    "* depth is given more priority, which means child is given more priority than parent\n",
    "\n",
    "\n",
    "* left to right is given more priority if the nodes are at same level, which means left parent is given more priority than right parent\n",
    "\n",
    "\n",
    "#### Formula for MRO of class X:"
   ]
  },
  {
   "cell_type": "markdown",
   "id": "0f5ee2c6",
   "metadata": {},
   "source": [
    "`MRO(X) = X + Merge(MRO(Parent_1), MRO(Parent_2), MRO(Parent_3), ......, [list of Parent]) `"
   ]
  },
  {
   "cell_type": "markdown",
   "id": "24faa0cb",
   "metadata": {},
   "source": [
    "Consider a class as an employee and `MRO(employee)` is calculated by `employee + merge(mro's(inherited parents), list of parents)`\n",
    "\n",
    "The `merge()`*  function only accepts the parents that are directly inherited by the child class, not further than that.\n",
    "\n",
    "###    Finding MRO by C3 Algorithm\n",
    "* Assuming C1, C2, C3, C4, C5…. as classes, and obviously all these classes are inherited from object class\n",
    "\n",
    "\n",
    "* Assuming class X has parent classes C1, C4, C5\n",
    "\n",
    "\n",
    "* Which means MRO(X) = X + Merge( MRO(C1), MRO(C4), MRO(C5), [C1, C4, C5] )\n",
    "\n",
    "\n",
    "* C7, C9, C3 are obviously inherited from object class\n",
    "\n",
    "\n",
    "* If MRO(C1) = C1C3C7O, then C1 is the head part and C3C7O is the tail part\n",
    "\n",
    "\n",
    "* If MRO(C4) = C4C6C9O, then C4 is the head part and C6C9O is the tail part\n",
    "\n",
    "\n",
    "* If MRO(C5) = C5C2C3O, then C5 is the head part and C2C3O is the tail part\n",
    "\n",
    "\n",
    " \n",
    "* Then the formula for Merge = MRO(C1), MRO(C4), MRO(C5), [C1, C4, C5] -> Merge(C1C3C7O, C4C6C9O, C5C2C3O, [C1C4C5])\n",
    "\n",
    "\n",
    "* While Calculating Merge, we need to take the first element from the first item of the list which is also called head part.\n",
    "\n",
    "\n",
    "\n",
    "* If this element is not available in the body part of other items of the list then its is added to MRO and removed from the list wherever it is present. If the element is available in body part of the list then next item is considered.\n",
    "\n",
    "\n",
    "* If the head part of the item is available as body element in other item then next item is considered and same process is repeated\n",
    "\n",
    "\n",
    "### Calculating Merge\n",
    "\n",
    "\n",
    "From the calculations, we got `Merge = C1C3C7O, C4C6C9O, C5C2C3O, C1C4C5.`\n",
    "\n",
    "To calculate Merge() we need to take the head part from the first item in the list i.e C1 from C1C3C7O and look for C1 in the tail part of other items. If C1 is not there in the Tail part of other items then C1 is added to the X. After adding the C1 to X we remove C1 from all list items.\n",
    "\n",
    "`Note:- Here ‘O‘ is the object class`"
   ]
  },
  {
   "cell_type": "markdown",
   "id": "d0c4f9c2",
   "metadata": {},
   "source": [
    "`MRO(X) = X + Merge(C1C3C7O C4C6C9O, C5C2C3O, C1C4C5)`\n",
    "\n",
    "`MRO(X) = X + C1 + Merge(C3C7O, C4C6C9O, C5C2C3O, C4C5)`"
   ]
  },
  {
   "cell_type": "markdown",
   "id": "b761743c",
   "metadata": {},
   "source": [
    "The head part of C4C6C9O is C4 and the body part is C6C9O, since there is no C4 as an element in the body part of other items it is added to the MRO and removed from the list.\n",
    "\n",
    "`MRO(X) = X + Merge(C1C3C7O C4C6C9O, C5C2C3O, C1C4C5)`\n",
    "\n",
    "`MRO(X) = X + C1 + C4 + Merge(C3C7O, C6C9O, C5C2C3O, C5)`\n",
    "\n",
    "\n",
    "Now the head part of the remaining C6C9O is C6 and the body part is C9O, and the search is repeated for C6 in body parts of other items. This process is repeated till the last item is searched and the items are added to MRO.\n",
    "\n",
    "`MRO(X) = X + Merge(C1C3C7O C4C6C9O, C5C2C3O, C1C4C5)`\n",
    "\n",
    "\n",
    "`MRO(X) = X + C1 + C4 + C6 + Merge(C3C7O, C9O, C5C2C3O, C5)`\n",
    "\n",
    "#C9O with C9 as head and O as body\n",
    "`MRO(X) = X + C1 + C4 + C6 + C9 + Merge(C3C7O, O, C5C2C3O, C5)`\n",
    "\n",
    "`#O as head but present in other body parts so next item \n",
    "#C5C2C3O with C5 as head C2C3O as body\n",
    "MRO(X) = X + C1 + C4 + C6 + C9 + C5 + Merge(C3C7O, O, C2C3O)\n",
    "MRO(X) = X + C1 + C4 + C6 + C9 + C5 + C2 + Merge(C3C7O, O, C3O)\n",
    "MRO(X) = X + C1 + C4 + C6 + C9 + C5 + C2 + C3 + Merge(C7O, O, O)\n",
    "MRO(X) = X + C1 + C4 + C6 + C9 + C5 + C2 + C3 + C7 + Merge(O, O, O)\n",
    "MRO(X) = X + C1 + C4 + C6 + C9 + C5 + C2 + C3 + C7 + O`\n",
    "\n",
    "`#Output\n",
    "MRO(X) = XC1C4C6C9C2C3C7O`\n",
    "\n",
    "`Now let’s try a practical example in company class and find the MRO of the Employee.`\n",
    "\n",
    "\n",
    "`MRO(employee) = employee + Merge(MRO(supervisor_1), MRO(supervisor_2), MRO(department_3), [supervisor_1, supervisor_2, department_3])`\n",
    "\n",
    "\n",
    "Let’s optimize the naming conventions to make use of space in the website effectively."
   ]
  },
  {
   "cell_type": "markdown",
   "id": "4dcf94f8",
   "metadata": {},
   "source": [
    "`employee     = e\n",
    "supervisor_1 = s1\n",
    "supervisor_2 = s2\n",
    "department_1 = d1\n",
    "department_2 = d2\n",
    "department_3 = d3\n",
    "company      = c\n",
    "Object class = o`\n",
    "\n",
    "`MRO(e) = e + Merge(MRO(s1), MRO(s2), MRO(d3), [s1, s2, d3])`\n",
    "\n",
    "`MRO(s1) = s1, d1, d2, c, o\n",
    "MRO(s2) = s2, d2, d3, c, o\n",
    "MRO(d3) = d3, c, o`\n",
    "\n",
    "`MRO(e) = e + Merge(s1d1d2co, s2d2d3co, d3co, s1s2d3)`\n",
    "\n",
    "`Now, the head of the first element s1d1d2co is s1 and the body is d1d2co. We need to search for s1 in the body part of other items. Since there is no s1 in the other items body we need to add it to MRO and remove it from the merge list. We need to continue the process till the end`\n",
    "\n",
    "`MRO(e) = e + s1 + Merge(d1d2co, s2d2d3co, d3co, s2d3)`\n",
    "\n",
    "`#d1 head and no d1 found in other body\n",
    "MRO(e) = e + s1 + d1 + Merge(d2co, s2d2d3co, d3co, s2d3)`\n",
    "\n",
    "`#d2 head found in s2d2d3co\n",
    "#next item considered is s2d2d3co\n",
    "#Now s2 head\n",
    "MRO(e) = e + s1 + d1 + s2 + Merge(d2co, d2d3co, d3co, d3)`\n",
    "\n",
    "`#d2 head..no d2 found in body of other items\n",
    "MRO(e) = e + s1 + d1 + s2 + d2 + Merge(co, d3co, d3co, d3)`\n",
    "\n",
    "`#d3 head..no d3 found in body of other itmes\n",
    "MRO(e) = e + s1 + d1 + s2 + d2 + d3 + Merge(co, co, co)\n",
    "`\n",
    "`#next head is c\n",
    "MRO(e) = e + s1 + d1 + s2 + d2 + d3 + c + Merge(o, o, o)`\n",
    "\n",
    "`#next head o added to MRO\n",
    "#final MRO \n",
    "MRO(e) = e + s1 + d1 + s2 + d2 + d3 + c + o\n",
    "MRO(e) = e, s1, d1, s2, d2, d3, c, o`"
   ]
  },
  {
   "cell_type": "markdown",
   "id": "6ff07b60",
   "metadata": {},
   "source": [
    "Thus the elaborated MRO of employee class is MRO(employee)\n",
    "\n",
    "`MRO(employee) = [employee, supervisor_1, department_1, supervisor_2, department_2, department_3, company, objectclass]`\n",
    "\n",
    "\n",
    "The above-explained MRO algorithm is also known as C3 is implemented by python and we have a direct formula that returns the MRO of a class. The formula is given by class_name.mro()"
   ]
  },
  {
   "cell_type": "code",
   "execution_count": 2,
   "id": "c43ae541",
   "metadata": {},
   "outputs": [
    {
     "name": "stdout",
     "output_type": "stream",
     "text": [
      "[<class '__main__.employee'>, <class '__main__.Supervisor_1'>, <class '__main__.Department_1'>, <class '__main__.Supervisor_2'>, <class '__main__.Department_2'>, <class '__main__.Department_3'>, <class '__main__.Company'>, <class 'object'>]\n"
     ]
    }
   ],
   "source": [
    "class Company:\n",
    "    pass\n",
    "\n",
    "class Department_1(Company):\n",
    "    pass\n",
    "\n",
    "class Department_2(Company):\n",
    "    pass\n",
    "\n",
    "class Department_3(Company):\n",
    "    pass\n",
    "\n",
    "class Supervisor_1(Department_1, Department_2):\n",
    "    pass\n",
    "\n",
    "\n",
    "class Supervisor_2(Department_2, Department_3):\n",
    "    pass\n",
    "\n",
    "\n",
    "class employee(Supervisor_1, Supervisor_2, Department_3):\n",
    "    pass\n",
    "\n",
    "\n",
    "print(employee.mro())"
   ]
  },
  {
   "cell_type": "markdown",
   "id": "2b4f9724",
   "metadata": {},
   "source": [
    "### super() function\n",
    "\n",
    "\n",
    "`super()` is an in-built method that is used to access the method, variables, or constructors of the parent class from inside of the child class.\n",
    "\n",
    "\n",
    "We can also use the `super()` keyword and call the constructor of the parent class explicitly from the child class itself. This makes the code reusability.\n",
    "\n",
    "In the below example, we are initializing the instance variable inside the parent class constructor.\n",
    "\n",
    "If we want to use those values inside the child class we cannot use them because the constructor of the parent class will be executed only if the object of the parent class is created.\n",
    "\n",
    "So, we have to declare and initialize them again in the child class which makes code look lengthy and memory inefficient."
   ]
  },
  {
   "cell_type": "code",
   "execution_count": 3,
   "id": "5ce6bb68",
   "metadata": {},
   "outputs": [
    {
     "name": "stdout",
     "output_type": "stream",
     "text": [
      "Paysoft 3000 John\n",
      "Smith 35\n"
     ]
    }
   ],
   "source": [
    "class Company:\n",
    "    \n",
    "    def __init__(self, company_name, company_size, chairman):\n",
    "        self.company_name = company_name\n",
    "        self.company_size = company_size\n",
    "        self.chairman = chairman\n",
    "        \n",
    "    def comp_method(self):\n",
    "        print(self.company_name, self.company_size, self.chairman)\n",
    "        \n",
    "        \n",
    "class Employee(Company):\n",
    "    \n",
    "    def __init__(self, company_name, company_size, chairman, emp_name, emp_age):\n",
    "        self.company_name = company_name\n",
    "        self.company_size = company_size\n",
    "        self.chairman = chairman\n",
    "        self.emp_name = emp_name\n",
    "        self.emp_age = emp_age\n",
    "        \n",
    "    def emp_method(self):\n",
    "        print(self.company_name, self.company_size, self.chairman)\n",
    "        print(self.emp_name, self.emp_age)\n",
    "        \n",
    "        \n",
    "obj = Employee(\"Paysoft\", 3000, \"John\", \"Smith\", \"35\" )\n",
    "obj.emp_method()\n",
    "        \n",
    "        "
   ]
  },
  {
   "cell_type": "markdown",
   "id": "5f7450b3",
   "metadata": {},
   "source": [
    "`The above code is not efficient because we are unable to re-use the constructor of the parent class. But there is no other way because without object creation of the parent class we cannot use the constructor of the parent class.`\n",
    "\n",
    "\n",
    "So this task becomes huge when we need to repeat it for other employees. Instead, we can use the `super()` method to call the constructor of the `parent` class and access it from the child class."
   ]
  },
  {
   "cell_type": "code",
   "execution_count": 6,
   "id": "ec788e2b",
   "metadata": {},
   "outputs": [
    {
     "name": "stdout",
     "output_type": "stream",
     "text": [
      "Paysoft\n",
      "Smith 35\n"
     ]
    }
   ],
   "source": [
    "class Company:\n",
    "    \n",
    "    def __init__(self, company_name):\n",
    "        self.company_name = company_name\n",
    "                \n",
    "    def comp_method(self):\n",
    "        print(self.company_name)\n",
    "        \n",
    "        \n",
    "class Employee(Company):\n",
    "    \n",
    "    def __init__(self, company_name, emp_name, emp_age):\n",
    "        super().__init__(company_name) # You have to call constructor vairable of Parent class\n",
    "        self.emp_name = emp_name\n",
    "        self.emp_age = emp_age\n",
    "        \n",
    "    def emp_method(self):\n",
    "        \n",
    "        super().comp_method()\n",
    "        print(self.emp_name, self.emp_age)\n",
    "        \n",
    "        \n",
    "        \n",
    "        \n",
    "obj = Employee(\"Paysoft\", \"Smith\", \"35\" )\n",
    "obj.emp_method()\n",
    "        \n",
    "        "
   ]
  },
  {
   "cell_type": "code",
   "execution_count": 2,
   "id": "dfa8b2ac",
   "metadata": {},
   "outputs": [
    {
     "name": "stdout",
     "output_type": "stream",
     "text": [
      "Paysoft\n",
      "Smith 35\n"
     ]
    }
   ],
   "source": [
    "class Company:\n",
    "    \n",
    "    def __init__(self, company_name):\n",
    "        self.company_name = company_name\n",
    "                \n",
    "    def comp_method(self):\n",
    "        print(self.company_name)\n",
    "        \n",
    "        \n",
    "class Employee(Company):\n",
    "    \n",
    "    def __init__(self, company_name, emp_name, emp_age):\n",
    "        super().__init__(company_name) # You have to call constructor vairable of Parent class\n",
    "        self.emp_name = emp_name\n",
    "        self.emp_age = emp_age\n",
    "        \n",
    "    def emp_method(self):\n",
    "        \n",
    "        self.comp_method() # we can use self as well \n",
    "        print(self.emp_name, self.emp_age)\n",
    "        \n",
    "        \n",
    "        \n",
    "        \n",
    "obj = Employee(\"Paysoft\", \"Smith\", \"35\" )\n",
    "obj.emp_method()\n",
    "        \n",
    "        "
   ]
  },
  {
   "cell_type": "code",
   "execution_count": 9,
   "id": "cd02b926",
   "metadata": {},
   "outputs": [
    {
     "name": "stdout",
     "output_type": "stream",
     "text": [
      "Paysoft\n",
      "Smith 35\n"
     ]
    }
   ],
   "source": [
    "class Company:\n",
    "    \n",
    "    def __init__(self):\n",
    "        self.company_name = \"Paysoft\"\n",
    "                \n",
    "    def comp_method(self):\n",
    "        print(self.company_name)\n",
    "        \n",
    "        \n",
    "class Employee(Company):\n",
    "    \n",
    "    def __init__(self, emp_name, emp_age):\n",
    "        super().__init__()\n",
    "        self.emp_name = emp_name\n",
    "        self.emp_age = emp_age\n",
    "        \n",
    "    def emp_method(self):\n",
    "        \n",
    "        super().comp_method()\n",
    "        print(self.emp_name, self.emp_age)\n",
    "        \n",
    "        \n",
    "        \n",
    "        \n",
    "obj = Employee(\"Smith\", \"35\" )\n",
    "obj.emp_method()\n",
    "        \n",
    "        "
   ]
  },
  {
   "cell_type": "markdown",
   "id": "03cbe66c",
   "metadata": {},
   "source": [
    "Basically, all the variables, methods, and constructors in the parent class are by default available to the child class and we don’t have to re-define them in the child class.\n",
    "\n",
    "`But if the method in child class and parent class have the same name and if we try to call the method in parent class, by default due to Method Resolution Order the method in the child class is given more priority and is returned.`"
   ]
  },
  {
   "cell_type": "code",
   "execution_count": 10,
   "id": "3c9d19e9",
   "metadata": {},
   "outputs": [
    {
     "name": "stdout",
     "output_type": "stream",
     "text": [
      "Child Method\n"
     ]
    }
   ],
   "source": [
    "class Parent:\n",
    "    def m1(self):\n",
    "        print(\"Parent Method\")\n",
    "        \n",
    "class Child(Parent):\n",
    "    def m1(self):\n",
    "        print(\"Child Method\")\n",
    "        \n",
    "        \n",
    "obj = Child()\n",
    "\n",
    "obj.m1()"
   ]
  },
  {
   "cell_type": "markdown",
   "id": "7733da5b",
   "metadata": {},
   "source": [
    "`Thus in such cases to access the parent method we use the super() method which can be used to explicitly call the method in the parent class.`"
   ]
  },
  {
   "cell_type": "code",
   "execution_count": 11,
   "id": "ef49e296",
   "metadata": {},
   "outputs": [
    {
     "name": "stdout",
     "output_type": "stream",
     "text": [
      "Parent Method\n",
      "Child method\n"
     ]
    }
   ],
   "source": [
    "class Parent:\n",
    "    def m1(self):\n",
    "        print(\"Parent Method\")\n",
    "        \n",
    "        \n",
    "class Child(Parent):\n",
    "    def m1(self):\n",
    "        super().m1() # we must call super here to get method of parent class before child class\n",
    "        print(\"Child method\") # if order will change then result will also be change\n",
    "        \n",
    "        \n",
    "obj = Child()\n",
    "obj.m1()"
   ]
  },
  {
   "cell_type": "code",
   "execution_count": 12,
   "id": "13f35251",
   "metadata": {},
   "outputs": [
    {
     "name": "stdout",
     "output_type": "stream",
     "text": [
      "Child method\n",
      "Parent Method\n"
     ]
    }
   ],
   "source": [
    "class Parent:\n",
    "    def m1(self):\n",
    "        print(\"Parent Method\")\n",
    "        \n",
    "        \n",
    "class Child(Parent):\n",
    "    def m1(self):\n",
    "        print(\"Child method\")\n",
    "        super().m1()\n",
    "        \n",
    "        \n",
    "obj = Child()\n",
    "obj.m1()"
   ]
  },
  {
   "cell_type": "markdown",
   "id": "67e07c59",
   "metadata": {},
   "source": [
    "`In the case of multi-level inheritance, the child class can access the members of all the parent classes available. But if all the parent classes have the same method name with different functionality then due to MRO the depth-most class method will be executed.`"
   ]
  },
  {
   "cell_type": "code",
   "execution_count": 13,
   "id": "f889983c",
   "metadata": {},
   "outputs": [
    {
     "name": "stdout",
     "output_type": "stream",
     "text": [
      "Class D method\n",
      "Div :  1.2\n"
     ]
    }
   ],
   "source": [
    "class A:\n",
    "    def math(self):\n",
    "        print(\"Class A method\")\n",
    "        print(\"Sum : \", 6 + 5)\n",
    "\n",
    "class B(A):\n",
    "    def math(self):\n",
    "        print(\"Class B method\")\n",
    "        print(\"Sub :\", 6-5)\n",
    "        \n",
    "\n",
    "class C(B):\n",
    "    def math(self):\n",
    "        print(\"Class C method\")\n",
    "        print(\"Mul :\", 6*5)\n",
    "        \n",
    "class D(C):\n",
    "    def math(self):\n",
    "        print(\"Class D method\")\n",
    "        print(\"Div : \", 6/5)\n",
    "        \n",
    "        \n",
    "class E(D):\n",
    "    def child_method(self):\n",
    "        super().math()\n",
    "        \n",
    "        \n",
    "obj = E()\n",
    "\n",
    "obj.child_method()\n",
    "        "
   ]
  },
  {
   "cell_type": "markdown",
   "id": "47a2ec33",
   "metadata": {},
   "source": [
    "### Note :\n",
    "\n",
    "`If we want to execute the method from a particular class then we need to pass the class name that we need to access into the super() method. The syntax is given below`\n",
    "\n",
    "`# Syntax : \n",
    "super(class_name,reference_variable).method_name()`"
   ]
  },
  {
   "cell_type": "code",
   "execution_count": 14,
   "id": "70ac8f81",
   "metadata": {},
   "outputs": [
    {
     "name": "stdout",
     "output_type": "stream",
     "text": [
      "Class B method\n",
      "Sub : 1\n"
     ]
    }
   ],
   "source": [
    "class A:\n",
    "    def math(self):\n",
    "        print(\"Class A method\")\n",
    "        print(\"Sum : \", 6 + 5)\n",
    "\n",
    "class B(A):\n",
    "    def math(self):\n",
    "        print(\"Class B method\")\n",
    "        print(\"Sub :\", 6-5)\n",
    "        \n",
    "\n",
    "class C(B):\n",
    "    def math(self):\n",
    "        print(\"Class C method\")\n",
    "        print(\"Mul :\", 6*5)\n",
    "        \n",
    "class D(C):\n",
    "    def math(self):\n",
    "        print(\"Class D method\")\n",
    "        print(\"Div : \", 6/5)\n",
    "        \n",
    "        \n",
    "class E(D):\n",
    "    def child_method(self):\n",
    "        super(C, self).math()\n",
    "        \n",
    "        \n",
    "obj = E()\n",
    "\n",
    "obj.child_method()\n",
    "        "
   ]
  },
  {
   "cell_type": "markdown",
   "id": "39439fd6",
   "metadata": {},
   "source": [
    "we have to pass Class name first and then self, one more thing is that we should pass the class which have parent class otherwise it will raise an exception."
   ]
  },
  {
   "cell_type": "code",
   "execution_count": 20,
   "id": "be91af4d",
   "metadata": {},
   "outputs": [
    {
     "name": "stdout",
     "output_type": "stream",
     "text": [
      "Class A method\n",
      "Sum :  11\n"
     ]
    }
   ],
   "source": [
    "class A:\n",
    "    def math(self):\n",
    "        print(\"Class A method\")\n",
    "        print(\"Sum : \", 6 + 5)\n",
    "\n",
    "class B(A):\n",
    "    def math(self):\n",
    "        print(\"Class B method\")\n",
    "        print(\"Sub :\", 6-5)\n",
    "        \n",
    "\n",
    "class C(B):\n",
    "    def math(self):\n",
    "        print(\"Class C method\")\n",
    "        print(\"Mul :\", 6*5)\n",
    "        \n",
    "class D(C):\n",
    "    def math(self):\n",
    "        print(\"Class D method\")\n",
    "        print(\"Div : \", 6/5)\n",
    "        \n",
    "        \n",
    "class E(D):\n",
    "    def child_method(self):\n",
    "        super(B, self).math()\n",
    "        \n",
    "        \n",
    "obj = E()\n",
    "\n",
    "obj.child_method()\n",
    "        "
   ]
  },
  {
   "cell_type": "code",
   "execution_count": 21,
   "id": "2f8d9bb9",
   "metadata": {},
   "outputs": [
    {
     "ename": "AttributeError",
     "evalue": "'super' object has no attribute 'math'",
     "output_type": "error",
     "traceback": [
      "\u001b[1;31m---------------------------------------------------------------------------\u001b[0m",
      "\u001b[1;31mAttributeError\u001b[0m                            Traceback (most recent call last)",
      "Input \u001b[1;32mIn [21]\u001b[0m, in \u001b[0;36m<cell line: 30>\u001b[1;34m()\u001b[0m\n\u001b[0;32m     25\u001b[0m         \u001b[38;5;28msuper\u001b[39m(A, \u001b[38;5;28mself\u001b[39m)\u001b[38;5;241m.\u001b[39mmath()\n\u001b[0;32m     28\u001b[0m obj \u001b[38;5;241m=\u001b[39m E()\n\u001b[1;32m---> 30\u001b[0m \u001b[43mobj\u001b[49m\u001b[38;5;241;43m.\u001b[39;49m\u001b[43mchild_method\u001b[49m\u001b[43m(\u001b[49m\u001b[43m)\u001b[49m\n",
      "Input \u001b[1;32mIn [21]\u001b[0m, in \u001b[0;36mE.child_method\u001b[1;34m(self)\u001b[0m\n\u001b[0;32m     24\u001b[0m \u001b[38;5;28;01mdef\u001b[39;00m \u001b[38;5;21mchild_method\u001b[39m(\u001b[38;5;28mself\u001b[39m):\n\u001b[1;32m---> 25\u001b[0m     \u001b[38;5;28;43msuper\u001b[39;49m\u001b[43m(\u001b[49m\u001b[43mA\u001b[49m\u001b[43m,\u001b[49m\u001b[43m \u001b[49m\u001b[38;5;28;43mself\u001b[39;49m\u001b[43m)\u001b[49m\u001b[38;5;241;43m.\u001b[39;49m\u001b[43mmath\u001b[49m()\n",
      "\u001b[1;31mAttributeError\u001b[0m: 'super' object has no attribute 'math'"
     ]
    }
   ],
   "source": [
    "class A:\n",
    "    def math(self):\n",
    "        print(\"Class A method\")\n",
    "        print(\"Sum : \", 6 + 5)\n",
    "\n",
    "class B(A):\n",
    "    def math(self):\n",
    "        print(\"Class B method\")\n",
    "        print(\"Sub :\", 6-5)\n",
    "        \n",
    "\n",
    "class C(B):\n",
    "    def math(self):\n",
    "        print(\"Class C method\")\n",
    "        print(\"Mul :\", 6*5)\n",
    "        \n",
    "class D(C):\n",
    "    def math(self):\n",
    "        print(\"Class D method\")\n",
    "        print(\"Div : \", 6/5)\n",
    "        \n",
    "        \n",
    "class E(D):\n",
    "    def child_method(self):\n",
    "        super(A, self).math()\n",
    "        \n",
    "        \n",
    "obj = E()\n",
    "\n",
    "obj.child_method()\n",
    "        "
   ]
  },
  {
   "cell_type": "code",
   "execution_count": 24,
   "id": "8bd9553c",
   "metadata": {},
   "outputs": [
    {
     "name": "stdout",
     "output_type": "stream",
     "text": [
      "Paysoft Smith 35\n"
     ]
    }
   ],
   "source": [
    "### without Super function we can also inherit the constructor properties\n",
    "\n",
    "class Company:\n",
    "    \n",
    "    def __init__(self, company_name):\n",
    "        self.company_name = company_name\n",
    "                \n",
    "    def comp_method(self):\n",
    "        print(self.company_name)\n",
    "        \n",
    "        \n",
    "class Employee(Company):\n",
    "    \n",
    "    def __init__(self, company_name, emp_name, emp_age):\n",
    "        self.emp_name = emp_name\n",
    "        self.emp_age = emp_age\n",
    "        Company.__init__(self, company_name)\n",
    "        \n",
    "    def emp_method(self):\n",
    "        \n",
    "        print(self.company_name, self.emp_name, self.emp_age)\n",
    "        \n",
    "        \n",
    "        \n",
    "        \n",
    "obj = Employee(\"Paysoft\", \"Smith\", \"35\" )\n",
    "obj.emp_method()\n",
    "        \n",
    "        "
   ]
  },
  {
   "cell_type": "code",
   "execution_count": 25,
   "id": "c19507a0",
   "metadata": {},
   "outputs": [
    {
     "name": "stdout",
     "output_type": "stream",
     "text": [
      "Paysoft 1000\n",
      "Smith 35\n"
     ]
    }
   ],
   "source": [
    "### without Super function we can also inherit the constructor properties\n",
    "\n",
    "class Company:\n",
    "    \n",
    "    def __init__(self, company_name):\n",
    "        self.company_name = company_name\n",
    "        self.company_size = 1000\n",
    "                \n",
    "    def comp_method(self):\n",
    "        print(self.company_name)\n",
    "        \n",
    "        \n",
    "class Employee(Company):\n",
    "    \n",
    "    def __init__(self, company_name, emp_name, emp_age):\n",
    "        self.emp_name = emp_name\n",
    "        self.emp_age = emp_age\n",
    "        Company.__init__(self, company_name)\n",
    "        \n",
    "    def emp_method(self):\n",
    "        \n",
    "        print(self.company_name, self.company_size)\n",
    "        print(self.emp_name, self.emp_age)\n",
    "        \n",
    "        \n",
    "        \n",
    "        \n",
    "obj = Employee(\"Paysoft\", \"Smith\", \"35\" )\n",
    "obj.emp_method()\n",
    "        \n",
    "        "
   ]
  },
  {
   "cell_type": "code",
   "execution_count": 30,
   "id": "39b0e73c",
   "metadata": {},
   "outputs": [
    {
     "name": "stdout",
     "output_type": "stream",
     "text": [
      "Company : Paysoft\n",
      "Size : 1000\n",
      "Established : 1948\n",
      "\n",
      "Place : India\n",
      "Employee name : Smith\n",
      "Employee age : 35\n"
     ]
    }
   ],
   "source": [
    "### without Super function we can also inherit the constructor properties\n",
    "\n",
    "class Company:\n",
    "    \n",
    "    place = \"India\"\n",
    "    \n",
    "    def __init__(self, company_name, established):\n",
    "        self.company_name = company_name\n",
    "        self.established = established\n",
    "        self.company_size = 1000\n",
    "                \n",
    "    def comp_method(self):\n",
    "        print(self.company_name)\n",
    "        \n",
    "        \n",
    "class Employee(Company):\n",
    "    \n",
    "    def __init__(self, company_name, established, emp_name, emp_age):\n",
    "        self.emp_name = emp_name\n",
    "        self.emp_age = emp_age\n",
    "        Company.__init__(self, company_name, established)\n",
    "        \n",
    "    def emp_method(self):\n",
    "        \n",
    "        print(f\"Company : {self.company_name}\\nSize : {self.company_size}\\nEstablished : {self.established}\")\n",
    "        print()\n",
    "        print(f\"Place : {Company.place}\\nEmployee name : {self.emp_name}\\nEmployee age : {self.emp_age}\")\n",
    "        \n",
    "        \n",
    "        \n",
    "        \n",
    "obj = Employee(\"Paysoft\", \"1948\", \"Smith\", \"35\" )\n",
    "obj.emp_method()\n",
    "        \n",
    "        "
   ]
  },
  {
   "cell_type": "code",
   "execution_count": null,
   "id": "a0f15a6e",
   "metadata": {},
   "outputs": [],
   "source": []
  }
 ],
 "metadata": {
  "kernelspec": {
   "display_name": "Python 3 (ipykernel)",
   "language": "python",
   "name": "python3"
  },
  "language_info": {
   "codemirror_mode": {
    "name": "ipython",
    "version": 3
   },
   "file_extension": ".py",
   "mimetype": "text/x-python",
   "name": "python",
   "nbconvert_exporter": "python",
   "pygments_lexer": "ipython3",
   "version": "3.9.7"
  }
 },
 "nbformat": 4,
 "nbformat_minor": 5
}
