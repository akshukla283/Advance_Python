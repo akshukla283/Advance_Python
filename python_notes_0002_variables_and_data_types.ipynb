{
 "cells": [
  {
   "cell_type": "markdown",
   "id": "547fb82a",
   "metadata": {},
   "source": [
    "### Variables and Data types in Python\n",
    "\n",
    "### Variables in Python\n",
    "While programming we typically do a lot of calculations, and the result of these calculations are stored in a memory. Just like Human memory, the computer’s memory also consists of millions of cells. The calculated values are stored in these memory cells.\n",
    "\n",
    "`Memory is a series of slots of boxes that exist in our computer that can be used to store and retrieve data. To store the data the memory manager creates an object that can hold the data. `\n",
    "\n",
    "When a variable is created it does not store any memory, rather it references the object at a memory address where the data is stored. In short, variables store the memory address of the location where the data is stored. \n",
    "\n",
    "\n",
    "#### Declaring and using a variable\n",
    "\n",
    "For declaring a variable we dont have to mention the datatype. In python based on the value, the variable is storing, automatically the data type is assigned.\n",
    "\n",
    "### Rules for declaring a variable\n",
    "\n",
    "* No special character except underscore(_) can be used as an variable\n",
    "\n",
    "* Keywords should not be used as an variable, since keywords serve a special purpose\n",
    "\n",
    "* Python is case sensitive i.e., Var and var are two different variables\n",
    "\n",
    "* First character of an variable can be character or (_) but not digit."
   ]
  },
  {
   "cell_type": "code",
   "execution_count": 1,
   "id": "73d91bd4",
   "metadata": {},
   "outputs": [
    {
     "name": "stdout",
     "output_type": "stream",
     "text": [
      "5\n"
     ]
    }
   ],
   "source": [
    "a = 5\n",
    "print(a)"
   ]
  },
  {
   "cell_type": "markdown",
   "id": "a497d11f",
   "metadata": {},
   "source": [
    "Let’s see the data type of the variable a. To know the data type we can use type() function, which returns to which class the variable belongs. For obvious reasons the data type of variable is based on the value, it is storing."
   ]
  },
  {
   "cell_type": "code",
   "execution_count": 3,
   "id": "885325ea",
   "metadata": {},
   "outputs": [
    {
     "name": "stdout",
     "output_type": "stream",
     "text": [
      "<class 'int'>\n"
     ]
    }
   ],
   "source": [
    "print(type(a))"
   ]
  },
  {
   "cell_type": "markdown",
   "id": "dc5b8671",
   "metadata": {},
   "source": [
    "#### Variables are case-sensitive\n",
    "There is a difference between upper case and lower case declared variables. Unlike human understanding, the computer classifies the variables even though they sound the same because of case sensitivity."
   ]
  },
  {
   "cell_type": "code",
   "execution_count": 4,
   "id": "994ddb8d",
   "metadata": {},
   "outputs": [
    {
     "name": "stdout",
     "output_type": "stream",
     "text": [
      "3 4\n"
     ]
    }
   ],
   "source": [
    "a = 3\n",
    "A = 4\n",
    "print(a, A)"
   ]
  },
  {
   "cell_type": "markdown",
   "id": "bca41870",
   "metadata": {},
   "source": [
    "### Assigning multiple values\n",
    "We can assign multiple values to different variables in a single line in python."
   ]
  },
  {
   "cell_type": "code",
   "execution_count": 5,
   "id": "30a69063",
   "metadata": {},
   "outputs": [
    {
     "name": "stdout",
     "output_type": "stream",
     "text": [
      "5\n",
      "6\n",
      "7\n"
     ]
    }
   ],
   "source": [
    "a,b,c = 5,6,7\n",
    "\n",
    "print(a)\n",
    "print(b)\n",
    "print(c)"
   ]
  },
  {
   "cell_type": "markdown",
   "id": "826c9de6",
   "metadata": {},
   "source": [
    "### Re-declaring the variable\n",
    "Once we assign a value to the variable and assign a different value in the further steps the value stored by the variable is replaced with the new variable."
   ]
  },
  {
   "cell_type": "code",
   "execution_count": 6,
   "id": "c244d5ad",
   "metadata": {},
   "outputs": [
    {
     "name": "stdout",
     "output_type": "stream",
     "text": [
      "3\n",
      "4\n"
     ]
    }
   ],
   "source": [
    "a = 3\n",
    "print(a)\n",
    "a = 4\n",
    "print(a)"
   ]
  },
  {
   "cell_type": "markdown",
   "id": "46779c2f",
   "metadata": {},
   "source": [
    "#### Swapping two variables\n",
    "We can swap the values of two variables with a single line of code using the multiple value assignment concept in variables."
   ]
  },
  {
   "cell_type": "code",
   "execution_count": 7,
   "id": "7ce935ca",
   "metadata": {},
   "outputs": [
    {
     "name": "stdout",
     "output_type": "stream",
     "text": [
      "5\n",
      "3\n"
     ]
    }
   ],
   "source": [
    "a = 3\n",
    "b = 5\n",
    "a, b = b, a\n",
    "print(a)\n",
    "print(b)"
   ]
  },
  {
   "cell_type": "markdown",
   "id": "826ca2dc",
   "metadata": {},
   "source": [
    "### Type-Casting \n",
    "\n",
    "`We can change the data type of the variable using type-casting. We have to remember once a variable is typecast the value stored by the variable also gets converted.`"
   ]
  },
  {
   "cell_type": "code",
   "execution_count": 1,
   "id": "35c9e10f",
   "metadata": {},
   "outputs": [
    {
     "name": "stdout",
     "output_type": "stream",
     "text": [
      "5 <class 'int'>\n"
     ]
    }
   ],
   "source": [
    "a = 5\n",
    "a = str(5)\n",
    "print(a, type(5))"
   ]
  },
  {
   "cell_type": "code",
   "execution_count": 2,
   "id": "bde4647c",
   "metadata": {},
   "outputs": [
    {
     "data": {
      "text/plain": [
       "str"
      ]
     },
     "execution_count": 2,
     "metadata": {},
     "output_type": "execute_result"
    }
   ],
   "source": [
    "type(a)"
   ]
  },
  {
   "cell_type": "code",
   "execution_count": 3,
   "id": "44a4dc7b",
   "metadata": {},
   "outputs": [
    {
     "ename": "TypeError",
     "evalue": "can only concatenate str (not \"int\") to str",
     "output_type": "error",
     "traceback": [
      "\u001b[1;31m---------------------------------------------------------------------------\u001b[0m",
      "\u001b[1;31mTypeError\u001b[0m                                 Traceback (most recent call last)",
      "Input \u001b[1;32mIn [3]\u001b[0m, in \u001b[0;36m<cell line: 1>\u001b[1;34m()\u001b[0m\n\u001b[1;32m----> 1\u001b[0m c \u001b[38;5;241m=\u001b[39m \u001b[43ma\u001b[49m\u001b[43m \u001b[49m\u001b[38;5;241;43m+\u001b[39;49m\u001b[43m \u001b[49m\u001b[38;5;241;43m3\u001b[39;49m\n",
      "\u001b[1;31mTypeError\u001b[0m: can only concatenate str (not \"int\") to str"
     ]
    }
   ],
   "source": [
    "c = a + 3"
   ]
  },
  {
   "cell_type": "markdown",
   "id": "7654f8ed",
   "metadata": {},
   "source": [
    "Since a  is converted into a string and we cannot perform the addition operation between a string and integer type it throws an error while declaring a new variable c."
   ]
  },
  {
   "cell_type": "markdown",
   "id": "6f4685a9",
   "metadata": {},
   "source": [
    "### Deleting a variable\n",
    "\n",
    "To delete a variable we can use the del keyword. Once the variable is deleted the memory associated with the variable is automatically deleted and is reclaimed if the python memory manager detects 0 reference count."
   ]
  },
  {
   "cell_type": "code",
   "execution_count": 4,
   "id": "f87f3a59",
   "metadata": {},
   "outputs": [
    {
     "data": {
      "text/plain": [
       "10"
      ]
     },
     "execution_count": 4,
     "metadata": {},
     "output_type": "execute_result"
    }
   ],
   "source": [
    "a = 10\n",
    "a"
   ]
  },
  {
   "cell_type": "code",
   "execution_count": 5,
   "id": "1930d38d",
   "metadata": {},
   "outputs": [],
   "source": [
    "del a"
   ]
  },
  {
   "cell_type": "code",
   "execution_count": 6,
   "id": "dc9c13c3",
   "metadata": {},
   "outputs": [
    {
     "ename": "NameError",
     "evalue": "name 'a' is not defined",
     "output_type": "error",
     "traceback": [
      "\u001b[1;31m---------------------------------------------------------------------------\u001b[0m",
      "\u001b[1;31mNameError\u001b[0m                                 Traceback (most recent call last)",
      "Input \u001b[1;32mIn [6]\u001b[0m, in \u001b[0;36m<cell line: 1>\u001b[1;34m()\u001b[0m\n\u001b[1;32m----> 1\u001b[0m \u001b[43ma\u001b[49m\n",
      "\u001b[1;31mNameError\u001b[0m: name 'a' is not defined"
     ]
    }
   ],
   "source": [
    "a"
   ]
  },
  {
   "cell_type": "markdown",
   "id": "07700b4d",
   "metadata": {},
   "source": [
    "#### Global Variables in Python\n",
    "\n",
    "`Global variables are those which can be accessed throughout the entire program. These variables can be used even inside any function that has been declared after the variable is created because they are accessible to any part of the program.`"
   ]
  },
  {
   "cell_type": "code",
   "execution_count": 7,
   "id": "c2152a6b",
   "metadata": {},
   "outputs": [
    {
     "name": "stdout",
     "output_type": "stream",
     "text": [
      "global variable :  5\n"
     ]
    }
   ],
   "source": [
    "a = 5\n",
    "\n",
    "def func():\n",
    "    print(\"global variable : \", a)\n",
    "    \n",
    "func()"
   ]
  },
  {
   "cell_type": "markdown",
   "id": "be595406",
   "metadata": {},
   "source": [
    "### Keyword global\n",
    "To change the scope of the local variable into a global we can define the variable as a global variable using the global keyword. Once it is defined as a global variable we can use it across other parts of the program."
   ]
  },
  {
   "cell_type": "code",
   "execution_count": 9,
   "id": "03a1f4cb",
   "metadata": {},
   "outputs": [],
   "source": [
    "a = 5\n",
    "def func1():\n",
    "    global a \n",
    "    a = 'hi'\n",
    "func1()"
   ]
  },
  {
   "cell_type": "code",
   "execution_count": 10,
   "id": "e05d5d43",
   "metadata": {},
   "outputs": [
    {
     "name": "stdout",
     "output_type": "stream",
     "text": [
      "hi\n"
     ]
    }
   ],
   "source": [
    "def func2():\n",
    "    print(a)   \n",
    "func2()"
   ]
  },
  {
   "cell_type": "code",
   "execution_count": 11,
   "id": "368cfbaa",
   "metadata": {},
   "outputs": [
    {
     "name": "stdout",
     "output_type": "stream",
     "text": [
      "hi\n"
     ]
    }
   ],
   "source": [
    "a = 5\n",
    "def func1():\n",
    "    global a \n",
    "    a = 'hi'\n",
    "func1()\n",
    "\n",
    "def func2():\n",
    "    print(a)   \n",
    "func2()"
   ]
  },
  {
   "cell_type": "markdown",
   "id": "62ad4337",
   "metadata": {},
   "source": [
    "### Local Variables in Python\n",
    "\n",
    "`Local variables are those that are bound to only a specific part of the program. The scope of the local variable is limited.` A local variable declared inside a function cannot be used in other functions or another part of the program. If we try to use the local variable outside its scope it throws an error."
   ]
  },
  {
   "cell_type": "code",
   "execution_count": 1,
   "id": "7bd5c3e1",
   "metadata": {},
   "outputs": [
    {
     "name": "stdout",
     "output_type": "stream",
     "text": [
      "local variable: hi\n"
     ]
    },
    {
     "ename": "NameError",
     "evalue": "name 'a' is not defined",
     "output_type": "error",
     "traceback": [
      "\u001b[1;31m---------------------------------------------------------------------------\u001b[0m",
      "\u001b[1;31mNameError\u001b[0m                                 Traceback (most recent call last)",
      "Input \u001b[1;32mIn [1]\u001b[0m, in \u001b[0;36m<cell line: 10>\u001b[1;34m()\u001b[0m\n\u001b[0;32m      7\u001b[0m \u001b[38;5;28;01mdef\u001b[39;00m \u001b[38;5;21mfunc2\u001b[39m():\n\u001b[0;32m      8\u001b[0m     \u001b[38;5;28mprint\u001b[39m(\u001b[38;5;124m'\u001b[39m\u001b[38;5;124mlocal variable:\u001b[39m\u001b[38;5;124m'\u001b[39m, a)\n\u001b[1;32m---> 10\u001b[0m \u001b[43mfunc2\u001b[49m\u001b[43m(\u001b[49m\u001b[43m)\u001b[49m\n",
      "Input \u001b[1;32mIn [1]\u001b[0m, in \u001b[0;36mfunc2\u001b[1;34m()\u001b[0m\n\u001b[0;32m      7\u001b[0m \u001b[38;5;28;01mdef\u001b[39;00m \u001b[38;5;21mfunc2\u001b[39m():\n\u001b[1;32m----> 8\u001b[0m     \u001b[38;5;28mprint\u001b[39m(\u001b[38;5;124m'\u001b[39m\u001b[38;5;124mlocal variable:\u001b[39m\u001b[38;5;124m'\u001b[39m, \u001b[43ma\u001b[49m)\n",
      "\u001b[1;31mNameError\u001b[0m: name 'a' is not defined"
     ]
    }
   ],
   "source": [
    "# restart kernel before run\n",
    "def func1():\n",
    "    a = 'hi'\n",
    "    print('local variable:', a)\n",
    "    \n",
    "func1()\n",
    "\n",
    "def func2():\n",
    "    print('local variable:', a)\n",
    "    \n",
    "func2()"
   ]
  },
  {
   "cell_type": "markdown",
   "id": "8f1617ec",
   "metadata": {},
   "source": [
    "We can check the scope of the variable using inbuilt methods in python. `globals() and locals()` return whether a variable is defined globally or locally.\n",
    "\n",
    "In the below code we have defined `x as a global variable and y as a local variable`. Since x is globally defined we can use it in different functions and check its scope, whereas variable y is a local variable thus we have to check its scope within the function."
   ]
  },
  {
   "cell_type": "code",
   "execution_count": 1,
   "id": "9571fa45",
   "metadata": {},
   "outputs": [
    {
     "name": "stdout",
     "output_type": "stream",
     "text": [
      "hi\n",
      "y is local\n",
      "x is global\n"
     ]
    }
   ],
   "source": [
    "# restart the kernel before the run\n",
    "def func1():\n",
    "    global x\n",
    "    y = 5\n",
    "    x = 'hi'\n",
    "    print(x)\n",
    "    if \"y\" in locals():\n",
    "        print(\"y is local\")   \n",
    "func1()\n",
    "\n",
    "def func2():\n",
    "    if \"x\" in globals():\n",
    "        print(\"x is global\")\n",
    "func2()"
   ]
  },
  {
   "cell_type": "code",
   "execution_count": 2,
   "id": "2077e818",
   "metadata": {},
   "outputs": [
    {
     "data": {
      "text/plain": [
       "{'__name__': '__main__',\n",
       " '__doc__': 'Automatically created module for IPython interactive environment',\n",
       " '__package__': None,\n",
       " '__loader__': None,\n",
       " '__spec__': None,\n",
       " '__builtin__': <module 'builtins' (built-in)>,\n",
       " '__builtins__': <module 'builtins' (built-in)>,\n",
       " '_ih': ['',\n",
       "  '# restart the kernel before the run\\ndef func1():\\n    global x\\n    y = 5\\n    x = \\'hi\\'\\n    print(x)\\n    if \"y\" in locals():\\n        print(\"y is local\")   \\nfunc1()\\n\\ndef func2():\\n    if \"x\" in globals():\\n        print(\"x is global\")\\nfunc2()',\n",
       "  'locals()'],\n",
       " '_oh': {},\n",
       " '_dh': [WindowsPath('E:/Python_world/pythonwife_com')],\n",
       " 'In': ['',\n",
       "  '# restart the kernel before the run\\ndef func1():\\n    global x\\n    y = 5\\n    x = \\'hi\\'\\n    print(x)\\n    if \"y\" in locals():\\n        print(\"y is local\")   \\nfunc1()\\n\\ndef func2():\\n    if \"x\" in globals():\\n        print(\"x is global\")\\nfunc2()',\n",
       "  'locals()'],\n",
       " 'Out': {},\n",
       " 'get_ipython': <bound method InteractiveShell.get_ipython of <ipykernel.zmqshell.ZMQInteractiveShell object at 0x00000274FA7EE1C0>>,\n",
       " 'exit': <IPython.core.autocall.ZMQExitAutocall at 0x274fa7ee850>,\n",
       " 'quit': <IPython.core.autocall.ZMQExitAutocall at 0x274fa7ee850>,\n",
       " '_': '',\n",
       " '__': '',\n",
       " '___': '',\n",
       " '_i': '# restart the kernel before the run\\ndef func1():\\n    global x\\n    y = 5\\n    x = \\'hi\\'\\n    print(x)\\n    if \"y\" in locals():\\n        print(\"y is local\")   \\nfunc1()\\n\\ndef func2():\\n    if \"x\" in globals():\\n        print(\"x is global\")\\nfunc2()',\n",
       " '_ii': '',\n",
       " '_iii': '',\n",
       " '_i1': '# restart the kernel before the run\\ndef func1():\\n    global x\\n    y = 5\\n    x = \\'hi\\'\\n    print(x)\\n    if \"y\" in locals():\\n        print(\"y is local\")   \\nfunc1()\\n\\ndef func2():\\n    if \"x\" in globals():\\n        print(\"x is global\")\\nfunc2()',\n",
       " 'func1': <function __main__.func1()>,\n",
       " 'x': 'hi',\n",
       " 'func2': <function __main__.func2()>,\n",
       " '_i2': 'locals()'}"
      ]
     },
     "execution_count": 2,
     "metadata": {},
     "output_type": "execute_result"
    }
   ],
   "source": [
    "locals()"
   ]
  },
  {
   "cell_type": "code",
   "execution_count": 3,
   "id": "beb4a6e8",
   "metadata": {},
   "outputs": [
    {
     "data": {
      "text/plain": [
       "{'__name__': '__main__',\n",
       " '__doc__': 'Automatically created module for IPython interactive environment',\n",
       " '__package__': None,\n",
       " '__loader__': None,\n",
       " '__spec__': None,\n",
       " '__builtin__': <module 'builtins' (built-in)>,\n",
       " '__builtins__': <module 'builtins' (built-in)>,\n",
       " '_ih': ['',\n",
       "  '# restart the kernel before the run\\ndef func1():\\n    global x\\n    y = 5\\n    x = \\'hi\\'\\n    print(x)\\n    if \"y\" in locals():\\n        print(\"y is local\")   \\nfunc1()\\n\\ndef func2():\\n    if \"x\" in globals():\\n        print(\"x is global\")\\nfunc2()',\n",
       "  'locals()',\n",
       "  'globals()'],\n",
       " '_oh': {2: {...}},\n",
       " '_dh': [WindowsPath('E:/Python_world/pythonwife_com')],\n",
       " 'In': ['',\n",
       "  '# restart the kernel before the run\\ndef func1():\\n    global x\\n    y = 5\\n    x = \\'hi\\'\\n    print(x)\\n    if \"y\" in locals():\\n        print(\"y is local\")   \\nfunc1()\\n\\ndef func2():\\n    if \"x\" in globals():\\n        print(\"x is global\")\\nfunc2()',\n",
       "  'locals()',\n",
       "  'globals()'],\n",
       " 'Out': {2: {...}},\n",
       " 'get_ipython': <bound method InteractiveShell.get_ipython of <ipykernel.zmqshell.ZMQInteractiveShell object at 0x00000274FA7EE1C0>>,\n",
       " 'exit': <IPython.core.autocall.ZMQExitAutocall at 0x274fa7ee850>,\n",
       " 'quit': <IPython.core.autocall.ZMQExitAutocall at 0x274fa7ee850>,\n",
       " '_': {...},\n",
       " '__': '',\n",
       " '___': '',\n",
       " '_i': 'locals()',\n",
       " '_ii': '# restart the kernel before the run\\ndef func1():\\n    global x\\n    y = 5\\n    x = \\'hi\\'\\n    print(x)\\n    if \"y\" in locals():\\n        print(\"y is local\")   \\nfunc1()\\n\\ndef func2():\\n    if \"x\" in globals():\\n        print(\"x is global\")\\nfunc2()',\n",
       " '_iii': '',\n",
       " '_i1': '# restart the kernel before the run\\ndef func1():\\n    global x\\n    y = 5\\n    x = \\'hi\\'\\n    print(x)\\n    if \"y\" in locals():\\n        print(\"y is local\")   \\nfunc1()\\n\\ndef func2():\\n    if \"x\" in globals():\\n        print(\"x is global\")\\nfunc2()',\n",
       " 'func1': <function __main__.func1()>,\n",
       " 'x': 'hi',\n",
       " 'func2': <function __main__.func2()>,\n",
       " '_i2': 'locals()',\n",
       " '_2': {...},\n",
       " '_i3': 'globals()'}"
      ]
     },
     "execution_count": 3,
     "metadata": {},
     "output_type": "execute_result"
    }
   ],
   "source": [
    "globals()"
   ]
  },
  {
   "cell_type": "markdown",
   "id": "43204eef",
   "metadata": {},
   "source": [
    "#### Importing variables from another script in Python\n",
    "\n",
    "We can import variables that are in different scripts, using the import keyword. Based on requirements we can import the whole script or a set of variables or values from the file.\n",
    "\n",
    "In the below example, we import a particular variable from another script into our script and print it. We also check whether variables that are not imported can be used in our script. To import all the values from other scripts we can use * which imports everything."
   ]
  },
  {
   "cell_type": "code",
   "execution_count": 4,
   "id": "0bb15f64",
   "metadata": {},
   "outputs": [
    {
     "name": "stdout",
     "output_type": "stream",
     "text": [
      "Variable 'a' imported from file1 [12.3, 15]\n"
     ]
    },
    {
     "ename": "NameError",
     "evalue": "name 'b' is not defined",
     "output_type": "error",
     "traceback": [
      "\u001b[1;31m---------------------------------------------------------------------------\u001b[0m",
      "\u001b[1;31mNameError\u001b[0m                                 Traceback (most recent call last)",
      "Input \u001b[1;32mIn [4]\u001b[0m, in \u001b[0;36m<cell line: 6>\u001b[1;34m()\u001b[0m\n\u001b[0;32m      3\u001b[0m \u001b[38;5;28;01mfrom\u001b[39;00m \u001b[38;5;21;01mvariables\u001b[39;00m \u001b[38;5;28;01mimport\u001b[39;00m a\n\u001b[0;32m      5\u001b[0m \u001b[38;5;28mprint\u001b[39m(\u001b[38;5;124m\"\u001b[39m\u001b[38;5;124mVariable \u001b[39m\u001b[38;5;124m'\u001b[39m\u001b[38;5;124ma\u001b[39m\u001b[38;5;124m'\u001b[39m\u001b[38;5;124m imported from file1\u001b[39m\u001b[38;5;124m\"\u001b[39m, a)\n\u001b[1;32m----> 6\u001b[0m \u001b[38;5;28mprint\u001b[39m(\u001b[43mb\u001b[49m)\n",
      "\u001b[1;31mNameError\u001b[0m: name 'b' is not defined"
     ]
    }
   ],
   "source": [
    "# we have alreay save a .py file as \"variables.py\"\n",
    "\n",
    "from variables import a\n",
    "\n",
    "print(\"Variable 'a' imported from file1\", a)\n",
    "print(b)"
   ]
  },
  {
   "cell_type": "markdown",
   "id": "14abfb53",
   "metadata": {},
   "source": [
    "#### JSON variable in Python\n",
    "JavaScript Object Notation (JSON) is `a standard text-based format for representing structured data based on JavaScript object syntax.` It is commonly used for transmitting data in web applications (e.g., sending some data from the server to the client, so it can be displayed on a web page, or vice versa).\n",
    "\n",
    "Usually in JSON data is represented in the form of key-value pairs and before transmitting into other applications it is converted into a string format using json.dumps()."
   ]
  },
  {
   "cell_type": "code",
   "execution_count": 5,
   "id": "eb3ecb32",
   "metadata": {},
   "outputs": [
    {
     "name": "stdout",
     "output_type": "stream",
     "text": [
      "<class 'str'>\n"
     ]
    }
   ],
   "source": [
    "import json\n",
    "data_set = {\"a\":[1,2,3,5], \"b\":[5,7,2,8]}\n",
    "data = json.dumps(data_set)\n",
    "print(type(data))"
   ]
  },
  {
   "cell_type": "markdown",
   "id": "d6b10a4e",
   "metadata": {},
   "source": [
    "### Class Variables in Python\n",
    "\n",
    "`Class Variables are those that are defined inside a class and outside a method. These class variables are also known as static variables. These class variables can be used anywhere in the class and its methods, and by declaring the variable as global it can be used even outside of the class also.`\n",
    "\n",
    "\n",
    "Unless the variable is not declared as private it is considered as public"
   ]
  },
  {
   "cell_type": "code",
   "execution_count": 1,
   "id": "b257459a",
   "metadata": {},
   "outputs": [
    {
     "name": "stdout",
     "output_type": "stream",
     "text": [
      "Hello Python \n",
      " Welcome\n"
     ]
    }
   ],
   "source": [
    "class Class1:\n",
    "    class_var1 = \"Hello Python\"\n",
    "    static_var2 = \"Welcome\"\n",
    "    \n",
    "\n",
    "obj = Class1()\n",
    "\n",
    "print(obj.class_var1, \"\\n\", obj.static_var2)"
   ]
  },
  {
   "cell_type": "markdown",
   "id": "bceff98a",
   "metadata": {},
   "source": [
    "We can access the class variables using the instance of the class. To use these class variables inside any method in the class we can use the instance of the class such as self.class_var1."
   ]
  },
  {
   "cell_type": "code",
   "execution_count": 6,
   "id": "06b27fbc",
   "metadata": {},
   "outputs": [
    {
     "name": "stdout",
     "output_type": "stream",
     "text": [
      "Hello Python\n"
     ]
    }
   ],
   "source": [
    "class Class1:\n",
    "    class_var1 = \"Hello Python\"\n",
    "    static_var2 = \"Welcome\"\n",
    "    \n",
    "    def func(self):\n",
    "        print(self.class_var1)\n",
    "        \n",
    "\n",
    "class1_instance = Class1()\n",
    "\n",
    "class1_instance.func()\n"
   ]
  },
  {
   "cell_type": "markdown",
   "id": "426bf502",
   "metadata": {},
   "source": [
    "### Instance Variables in Python\n",
    "\n",
    "\n",
    "`Instance variables are created in a constructor such as __init__. Instance variables are created when an object is instantiated, and are accessible to all the constructors, methods, or blocks in the class.`\n",
    "\n",
    "\n",
    "These instance variables are completely different from one object instance to other because they have different values for each object instance."
   ]
  },
  {
   "cell_type": "code",
   "execution_count": 10,
   "id": "eb80ac29",
   "metadata": {},
   "outputs": [
    {
     "name": "stdout",
     "output_type": "stream",
     "text": [
      "Hello\n"
     ]
    }
   ],
   "source": [
    "class Class1:\n",
    "    def __init__(self, inst_var):\n",
    "        print(inst_var)\n",
    "        \n",
    "        \n",
    "instance = Class1(\"Hello\")\n"
   ]
  },
  {
   "cell_type": "markdown",
   "id": "306c92ac",
   "metadata": {},
   "source": [
    "`Instance variables usually reserve memory for data that the class needs. It has many copies so every object has its own personal copy of the instance variable.`\n",
    "\n",
    "`To use the instance variable in other methods of the class we need to instantiate the variables using the self keyword in the __init__ constructor.`"
   ]
  },
  {
   "cell_type": "code",
   "execution_count": 11,
   "id": "23a8d033",
   "metadata": {},
   "outputs": [
    {
     "name": "stdout",
     "output_type": "stream",
     "text": [
      "Hello\n",
      "Welcome\n"
     ]
    }
   ],
   "source": [
    "class Class1:\n",
    "    def __init__(self, inst_var):\n",
    "        self.inst_var = inst_var\n",
    "        \n",
    "    def func(self):\n",
    "        print(self.inst_var)\n",
    "        \n",
    "        \n",
    "instance1 = Class1(\"Hello\")\n",
    "instance2 = Class1(\"Welcome\")\n",
    "\n",
    "instance1.func()\n",
    "instance2.func()"
   ]
  },
  {
   "cell_type": "markdown",
   "id": "2f270f83",
   "metadata": {},
   "source": [
    "### Environment Variables using Python\n",
    "\n",
    "`An environment variable is a dynamic-name value that can affect the way running processes will behave on a computer. They are part of the environment in which a process runs.`\n",
    "\n",
    "`The environment variables help communicate to programs about how the machine is set up and sometimes to control the behavior of the programs.`\n",
    "\n",
    "For example, the PATH variable in environment variables helps the machine to look at the location of the executable programs. If we put our program in the environment variables we will be able to access it from any directory.\n",
    "\n",
    "`In python, we can use the os module to get the environment variables present in the system or we can even perform operations to add some environment variables. `\n",
    "\n",
    "`os.getenv('HOME') return the root directory, where os.environ returns all the environment variables present in the system.`"
   ]
  },
  {
   "cell_type": "code",
   "execution_count": 13,
   "id": "c3433231",
   "metadata": {},
   "outputs": [
    {
     "name": "stdout",
     "output_type": "stream",
     "text": [
      "None\n"
     ]
    }
   ],
   "source": [
    "import os\n",
    "\n",
    "a = os.getenv(\"Home\")\n",
    "print(a)"
   ]
  },
  {
   "cell_type": "code",
   "execution_count": 14,
   "id": "b25f29b1",
   "metadata": {},
   "outputs": [
    {
     "name": "stdout",
     "output_type": "stream",
     "text": [
      "environ({'ALLUSERSPROFILE': 'C:\\\\ProgramData', 'APPDATA': 'C:\\\\Users\\\\ankit.shukla\\\\AppData\\\\Roaming', 'COMMONPROGRAMFILES': 'C:\\\\Program Files\\\\Common Files', 'COMMONPROGRAMFILES(X86)': 'C:\\\\Program Files (x86)\\\\Common Files', 'COMMONPROGRAMW6432': 'C:\\\\Program Files\\\\Common Files', 'COMPUTERNAME': 'PUN-LAP-SHUKLA', 'COMSPEC': 'C:\\\\Windows\\\\system32\\\\cmd.exe', 'DRIVERDATA': 'C:\\\\Windows\\\\System32\\\\Drivers\\\\DriverData', 'FPS_BROWSER_APP_PROFILE_STRING': 'Internet Explorer', 'FPS_BROWSER_USER_PROFILE_STRING': 'Default', 'HOMEDRIVE': 'C:', 'HOMEPATH': '\\\\Users\\\\ankit.shukla', 'LOCALAPPDATA': 'C:\\\\Users\\\\ankit.shukla\\\\AppData\\\\Local', 'LOGONSERVER': '\\\\\\\\CHN-DC', 'NUMBER_OF_PROCESSORS': '8', 'ONEDRIVE': 'C:\\\\Users\\\\ankit.shukla\\\\OneDrive', 'OS': 'Windows_NT', 'PATH': 'C:\\\\Windows\\\\system32;C:\\\\Windows;C:\\\\Windows\\\\System32\\\\Wbem;C:\\\\Windows\\\\System32\\\\WindowsPowerShell\\\\v1.0\\\\;C:\\\\Windows\\\\System32\\\\OpenSSH\\\\;C:\\\\Users\\\\ankit.shukla\\\\AppData\\\\Local\\\\Programs\\\\Python\\\\Python39\\\\Scripts\\\\;C:\\\\Users\\\\ankit.shukla\\\\AppData\\\\Local\\\\Programs\\\\Python\\\\Python39\\\\;C:\\\\Users\\\\ankit.shukla\\\\AppData\\\\Local\\\\Microsoft\\\\WindowsApps;C:\\\\Users\\\\ankit.shukla\\\\AppData\\\\Local\\\\Programs\\\\Microsoft VS Code\\\\bin;E:\\\\Git\\\\cmd', 'PATHEXT': '.COM;.EXE;.BAT;.CMD;.VBS;.VBE;.JS;.JSE;.WSF;.WSH;.MSC', 'PROCESSOR_ARCHITECTURE': 'AMD64', 'PROCESSOR_IDENTIFIER': 'Intel64 Family 6 Model 140 Stepping 1, GenuineIntel', 'PROCESSOR_LEVEL': '6', 'PROCESSOR_REVISION': '8c01', 'PROGRAMDATA': 'C:\\\\ProgramData', 'PROGRAMFILES': 'C:\\\\Program Files', 'PROGRAMFILES(X86)': 'C:\\\\Program Files (x86)', 'PROGRAMW6432': 'C:\\\\Program Files', 'PROMPT': '$P$G', 'PSMODULEPATH': 'C:\\\\Program Files\\\\WindowsPowerShell\\\\Modules;C:\\\\Windows\\\\system32\\\\WindowsPowerShell\\\\v1.0\\\\Modules', 'PUBLIC': 'C:\\\\Users\\\\Public', 'SESSIONNAME': 'Console', 'SYSTEMDRIVE': 'C:', 'SYSTEMROOT': 'C:\\\\Windows', 'TEMP': 'C:\\\\Users\\\\ANKIT~1.SHU\\\\AppData\\\\Local\\\\Temp\\\\9', 'TMP': 'C:\\\\Users\\\\ANKIT~1.SHU\\\\AppData\\\\Local\\\\Temp\\\\9', 'USERDNSDOMAIN': 'AD.MSYSTECHNOLOGIES.COM', 'USERDOMAIN': 'Msyst', 'USERDOMAIN_ROAMINGPROFILE': 'Msyst', 'USERNAME': 'ankit.shukla', 'USERPROFILE': 'C:\\\\Users\\\\ankit.shukla', 'WINDIR': 'C:\\\\Windows', 'ZES_ENABLE_SYSMAN': '1', 'PYDEVD_USE_FRAME_EVAL': 'NO', 'JPY_INTERRUPT_EVENT': '5628', 'IPY_INTERRUPT_EVENT': '5628', 'JPY_PARENT_PID': '5388', 'TERM': 'xterm-color', 'CLICOLOR': '1', 'PAGER': 'cat', 'GIT_PAGER': 'cat', 'MPLBACKEND': 'module://matplotlib_inline.backend_inline'})\n"
     ]
    }
   ],
   "source": [
    "print(os.environ)"
   ]
  },
  {
   "cell_type": "markdown",
   "id": "d930fcfb",
   "metadata": {},
   "source": [
    "#### Datatypes in Python\n",
    "\n",
    "`Data types define the type of data that is being stored in the memory. These are defined such that memory allocation and wastage are reduced while storing the data. Unlike the other programming language, we do not have to define the data type while creating variables, because based on the type of data being stored python allocates the data type to it.`"
   ]
  },
  {
   "cell_type": "markdown",
   "id": "4fa2b92c",
   "metadata": {},
   "source": [
    "### Integer Datatype\n",
    "\n",
    "The integer data type has four forms of data representation. They are:-\n",
    "\n",
    "#### 1.  Decimal:- \n",
    "Integers with base-10 are considered decimal integers. The digits are in the range of 0 – 9."
   ]
  },
  {
   "cell_type": "code",
   "execution_count": 15,
   "id": "6e57e05e",
   "metadata": {},
   "outputs": [
    {
     "data": {
      "text/plain": [
       "(10, 12, 5, 999, 45)"
      ]
     },
     "execution_count": 15,
     "metadata": {},
     "output_type": "execute_result"
    }
   ],
   "source": [
    "# integers in ecimal format\n",
    "\n",
    "10, 12, 5, 999, 45"
   ]
  },
  {
   "cell_type": "markdown",
   "id": "95a38356",
   "metadata": {},
   "source": [
    "#### 2. Binary:-\n",
    "`Any Integer with base-2 is known as a Binary number and there are represented using only two values 0 and 1. Computer convert programs typed in high level to low level i.e., into binary format, since the computer can understand only binary values.`"
   ]
  },
  {
   "cell_type": "markdown",
   "id": "bb617d38",
   "metadata": {},
   "source": [
    "few number in Binary format\n",
    "\n",
    "5 - 101\n",
    "\n",
    "34 - 100010"
   ]
  },
  {
   "cell_type": "code",
   "execution_count": 20,
   "id": "7b3131f5",
   "metadata": {},
   "outputs": [
    {
     "data": {
      "text/plain": [
       "'0b101'"
      ]
     },
     "execution_count": 20,
     "metadata": {},
     "output_type": "execute_result"
    }
   ],
   "source": [
    "bin(5)"
   ]
  },
  {
   "cell_type": "code",
   "execution_count": 22,
   "id": "3bde87ff",
   "metadata": {},
   "outputs": [
    {
     "data": {
      "text/plain": [
       "'0b100010'"
      ]
     },
     "execution_count": 22,
     "metadata": {},
     "output_type": "execute_result"
    }
   ],
   "source": [
    "bin(34)"
   ]
  },
  {
   "cell_type": "markdown",
   "id": "2f334fce",
   "metadata": {},
   "source": [
    "#### 3. Octal:- \n",
    "\n",
    "`Integers with base-8 are known as Octal numbers. The octal numbers are represented using the digits in the range of 0 – 7.`"
   ]
  },
  {
   "cell_type": "markdown",
   "id": "d32c0a90",
   "metadata": {},
   "source": [
    "decimal numbers in Octal representation\n",
    "\n",
    "3 - 0o3\n",
    "\n",
    "23 - 0o27"
   ]
  },
  {
   "cell_type": "code",
   "execution_count": 18,
   "id": "28b2d229",
   "metadata": {},
   "outputs": [
    {
     "data": {
      "text/plain": [
       "'0o3'"
      ]
     },
     "execution_count": 18,
     "metadata": {},
     "output_type": "execute_result"
    }
   ],
   "source": [
    "oct(3)"
   ]
  },
  {
   "cell_type": "code",
   "execution_count": 19,
   "id": "845f8ebe",
   "metadata": {},
   "outputs": [
    {
     "data": {
      "text/plain": [
       "'0o27'"
      ]
     },
     "execution_count": 19,
     "metadata": {},
     "output_type": "execute_result"
    }
   ],
   "source": [
    "oct(23)"
   ]
  },
  {
   "cell_type": "markdown",
   "id": "ae9e9385",
   "metadata": {},
   "source": [
    "#### 4. Hexa decimal:- \n",
    "Integers with base-16 is known as Hexadecimal numbers. The hexadecimal number is represented using 0-9, A-F. The letter A to F can be either small or capital or a combination of both because python is case-insensitive in this case"
   ]
  },
  {
   "cell_type": "markdown",
   "id": "700a0aaf",
   "metadata": {},
   "source": [
    "decimal numbers in hexadecimal representation\n",
    "\n",
    "65 - 0x41\n",
    "\n",
    "99 - 0x63\n",
    "\n"
   ]
  },
  {
   "cell_type": "code",
   "execution_count": 16,
   "id": "3186140e",
   "metadata": {},
   "outputs": [
    {
     "data": {
      "text/plain": [
       "'0x41'"
      ]
     },
     "execution_count": 16,
     "metadata": {},
     "output_type": "execute_result"
    }
   ],
   "source": [
    "hex(65)"
   ]
  },
  {
   "cell_type": "code",
   "execution_count": 17,
   "id": "f27d06c9",
   "metadata": {},
   "outputs": [
    {
     "data": {
      "text/plain": [
       "'0x63'"
      ]
     },
     "execution_count": 17,
     "metadata": {},
     "output_type": "execute_result"
    }
   ],
   "source": [
    "hex(99)"
   ]
  },
  {
   "cell_type": "markdown",
   "id": "ca9c0afb",
   "metadata": {},
   "source": [
    "### Integer Base Conversion in Python\n",
    "\n",
    "\n",
    "`Python provides inbuilt methods for converting any integer number into other kinds of representation. Such as:-`\n",
    "\n",
    "\n",
    "* Decimal to Binary and Binary to Decimal \n",
    "* Decimal to Octal and Octal to Decimal\n",
    "* Decimal to Hexadecimal and Hexadecimal to Decimal"
   ]
  },
  {
   "cell_type": "code",
   "execution_count": 23,
   "id": "aa59e17e",
   "metadata": {},
   "outputs": [
    {
     "name": "stdout",
     "output_type": "stream",
     "text": [
      "dec to hex :  0x1c7\n",
      "dec to oct :  0o707\n",
      "dec to bin :  0b111000111\n"
     ]
    }
   ],
   "source": [
    "a = 455\n",
    "b = hex(a)\n",
    "c = oct(a)\n",
    "d = bin(a)\n",
    "\n",
    "print(\"dec to hex : \", b)\n",
    "print(\"dec to oct : \", c)\n",
    "print(\"dec to bin : \", d)"
   ]
  },
  {
   "cell_type": "markdown",
   "id": "b1c2b7ae",
   "metadata": {},
   "source": [
    "`It is also possible to convert the hexadecimal or binary or octal into the decimal format, such as:-`\n",
    "\n",
    "* Binary to Decimal\n",
    "* Octal to Decimal\n",
    "* Hexadecimal to Decimal"
   ]
  },
  {
   "cell_type": "code",
   "execution_count": 25,
   "id": "dd9326ea",
   "metadata": {},
   "outputs": [
    {
     "name": "stdout",
     "output_type": "stream",
     "text": [
      "hex to dec : 219726\n",
      "oct to dec : 1871\n",
      "bin to dec : 51\n"
     ]
    }
   ],
   "source": [
    "a = '0b110011'\n",
    "b = '0x35a4e'\n",
    "c = '0o3517'\n",
    "\n",
    "# hex to dec\n",
    "h2d = int(b, 16)\n",
    "\n",
    "# oct to dec\n",
    "o2d = int(c, 8)\n",
    "\n",
    "# bin to dec\n",
    "b2d = int(a, 2)\n",
    "\n",
    "print(\"hex to dec :\", h2d)\n",
    "print(\"oct to dec :\", o2d)\n",
    "print(\"bin to dec :\", b2d)"
   ]
  },
  {
   "cell_type": "markdown",
   "id": "ac6bdaa9",
   "metadata": {},
   "source": [
    "#### Float Datatype\n",
    "\n",
    "`Floating-point data types are those numbers that have a fractional part in them ( represented with a  decimal value ) are considered as float data types. Thus Floating-point variable can hold any real number, that is it can support variable values before and after the decimal point. These Floating point numbers can be used to perform scientific calculations and make approximations.`"
   ]
  },
  {
   "cell_type": "code",
   "execution_count": 26,
   "id": "3db6e412",
   "metadata": {},
   "outputs": [
    {
     "name": "stdout",
     "output_type": "stream",
     "text": [
      "<class 'float'>\n"
     ]
    }
   ],
   "source": [
    "# example of float data types\n",
    "\n",
    "# 3.5, 12.5, 12.3\n",
    "\n",
    "a = 34.4\n",
    "print(type(a))"
   ]
  },
  {
   "cell_type": "markdown",
   "id": "ae33f83f",
   "metadata": {},
   "source": [
    "`The floating data type can also help save memory while storing exponential values. The exponential value of a number is equal to the number being multiplied to itself for a particular number of times and is represented with a constant ‘e’.`\n",
    "\n",
    "`When a particular number is very big it can be stored using a floating data type that can store them in an exponential format which helps us save memory.`"
   ]
  },
  {
   "cell_type": "code",
   "execution_count": 27,
   "id": "a3b27aa6",
   "metadata": {},
   "outputs": [
    {
     "name": "stdout",
     "output_type": "stream",
     "text": [
      "a is : 120000.0\n",
      "b is : 1200000\n"
     ]
    }
   ],
   "source": [
    "a = 1.2e5\n",
    "b = 1200000\n",
    "\n",
    "print(\"a is :\", a)\n",
    "print(\"b is :\", b)"
   ]
  },
  {
   "cell_type": "markdown",
   "id": "bb261fdf",
   "metadata": {},
   "source": [
    "From the above sample code, we can visualize the benefits of storing the data in exponential form, In real-time when we store large values such as 1.2e67, 1.2e240, etc., a good amount of memory will be saved."
   ]
  },
  {
   "cell_type": "markdown",
   "id": "bab902f9",
   "metadata": {},
   "source": [
    "### Bytes Data Type\n",
    "\n",
    "`Bytes data type is used to store the sequence of values that lie between 0 and 255, values other than these cannot be added into the bytes object.`\n",
    "\n",
    "#### The properties of the Bytes data type are:-\n",
    "\n",
    "\n",
    "* Immutable, once created we cannot update the elements in the object\n",
    "\n",
    "* Ordered, indexing, slicing operations can be performed\n",
    "\n",
    "* Accepts only Integer values between 0 – 255, strings and values outside specified range are not allowed\n",
    "\n",
    "* Duplicate elements are allowed\n",
    "\n",
    "`To declare a bytes data type we can use bytes(), which converts the sequence into bytes object.`"
   ]
  },
  {
   "cell_type": "code",
   "execution_count": 37,
   "id": "b6d32116",
   "metadata": {},
   "outputs": [
    {
     "name": "stdout",
     "output_type": "stream",
     "text": [
      "b'\\x01\\x02\\x03'\n"
     ]
    }
   ],
   "source": [
    "a = (1,2,3)\n",
    "a = bytes(a)\n",
    "print(a)"
   ]
  },
  {
   "cell_type": "code",
   "execution_count": 38,
   "id": "827f044c",
   "metadata": {},
   "outputs": [
    {
     "name": "stdout",
     "output_type": "stream",
     "text": [
      "<class 'bytes'>\n"
     ]
    }
   ],
   "source": [
    "print(type(a))"
   ]
  },
  {
   "cell_type": "code",
   "execution_count": 40,
   "id": "80e97a1b",
   "metadata": {},
   "outputs": [
    {
     "name": "stdout",
     "output_type": "stream",
     "text": [
      "1\n",
      "2\n",
      "3\n"
     ]
    }
   ],
   "source": [
    "for i in a:\n",
    "    print(i)"
   ]
  },
  {
   "cell_type": "code",
   "execution_count": 41,
   "id": "722d6b3b",
   "metadata": {},
   "outputs": [
    {
     "data": {
      "text/plain": [
       "3"
      ]
     },
     "execution_count": 41,
     "metadata": {},
     "output_type": "execute_result"
    }
   ],
   "source": [
    "a[2]"
   ]
  },
  {
   "cell_type": "code",
   "execution_count": 42,
   "id": "dea2e0c0",
   "metadata": {},
   "outputs": [
    {
     "ename": "TypeError",
     "evalue": "'bytes' object does not support item assignment",
     "output_type": "error",
     "traceback": [
      "\u001b[1;31m---------------------------------------------------------------------------\u001b[0m",
      "\u001b[1;31mTypeError\u001b[0m                                 Traceback (most recent call last)",
      "Input \u001b[1;32mIn [42]\u001b[0m, in \u001b[0;36m<cell line: 5>\u001b[1;34m()\u001b[0m\n\u001b[0;32m      2\u001b[0m a \u001b[38;5;241m=\u001b[39m (\u001b[38;5;241m1\u001b[39m,\u001b[38;5;241m2\u001b[39m,\u001b[38;5;241m3\u001b[39m)\n\u001b[0;32m      3\u001b[0m a \u001b[38;5;241m=\u001b[39m \u001b[38;5;28mbytes\u001b[39m(a)\n\u001b[1;32m----> 5\u001b[0m a[\u001b[38;5;241m2\u001b[39m] \u001b[38;5;241m=\u001b[39m \u001b[38;5;241m20\u001b[39m\n",
      "\u001b[1;31mTypeError\u001b[0m: 'bytes' object does not support item assignment"
     ]
    }
   ],
   "source": [
    "# but cann't change because bytes are immutale\n",
    "a = (1,2,3)\n",
    "a = bytes(a)\n",
    "\n",
    "a[2] = 20"
   ]
  },
  {
   "cell_type": "code",
   "execution_count": 32,
   "id": "b0e885ba",
   "metadata": {},
   "outputs": [
    {
     "ename": "TypeError",
     "evalue": "'float' object cannot be interpreted as an integer",
     "output_type": "error",
     "traceback": [
      "\u001b[1;31m---------------------------------------------------------------------------\u001b[0m",
      "\u001b[1;31mTypeError\u001b[0m                                 Traceback (most recent call last)",
      "Input \u001b[1;32mIn [32]\u001b[0m, in \u001b[0;36m<cell line: 2>\u001b[1;34m()\u001b[0m\n\u001b[0;32m      1\u001b[0m b \u001b[38;5;241m=\u001b[39m [\u001b[38;5;241m1\u001b[39m,\u001b[38;5;241m2.3\u001b[39m,\u001b[38;5;241m5\u001b[39m,\u001b[38;5;241m255\u001b[39m]\n\u001b[1;32m----> 2\u001b[0m b \u001b[38;5;241m=\u001b[39m \u001b[38;5;28;43mbytes\u001b[39;49m\u001b[43m(\u001b[49m\u001b[43mb\u001b[49m\u001b[43m)\u001b[49m\n",
      "\u001b[1;31mTypeError\u001b[0m: 'float' object cannot be interpreted as an integer"
     ]
    }
   ],
   "source": [
    "b = [1,2.3,5,255]\n",
    "b = bytes(b)"
   ]
  },
  {
   "cell_type": "markdown",
   "id": "001aa6de",
   "metadata": {},
   "source": [
    "#### Byte-Array Data Type\n",
    "`Byte-Array is an array type that is used to store a sequence of values between 0 and 255 but provides mutability. Thus in bytes-array, we can update the elements even after creating the array.`\n",
    "\n",
    "\n",
    "#### The properties of the Bytes data type are:-\n",
    "\n",
    "* Mutable, even after creating we can update the elements in the object\n",
    "\n",
    "* Ordered, indexing, slicing operations can be performed\n",
    "\n",
    "* Accepts only Integer values between 0 – 255, strings and values outside specified range are not allowed\n",
    "\n",
    "* Duplicate elements are allowed"
   ]
  },
  {
   "cell_type": "code",
   "execution_count": 33,
   "id": "a9f119f2",
   "metadata": {},
   "outputs": [
    {
     "name": "stdout",
     "output_type": "stream",
     "text": [
      "bytearray(b'\\n\\x14\\x1e2')\n"
     ]
    }
   ],
   "source": [
    "a = (10, 20, 30, 50)\n",
    "\n",
    "b = bytearray(a)\n",
    "\n",
    "print(b)"
   ]
  },
  {
   "cell_type": "code",
   "execution_count": 34,
   "id": "f3d2ea7a",
   "metadata": {},
   "outputs": [
    {
     "data": {
      "text/plain": [
       "bytearray"
      ]
     },
     "execution_count": 34,
     "metadata": {},
     "output_type": "execute_result"
    }
   ],
   "source": [
    "type(b)"
   ]
  },
  {
   "cell_type": "markdown",
   "id": "4bc60c4b",
   "metadata": {},
   "source": [
    "We can add the elements into Byte-array since it is mutable. We can replace the value with another value using the index."
   ]
  },
  {
   "cell_type": "code",
   "execution_count": 35,
   "id": "688de0af",
   "metadata": {},
   "outputs": [
    {
     "name": "stdout",
     "output_type": "stream",
     "text": [
      "bytearray(b'\\n\\x14\\x1e\\x04')\n"
     ]
    }
   ],
   "source": [
    "b[3] = 4\n",
    "print(b)"
   ]
  },
  {
   "cell_type": "code",
   "execution_count": 36,
   "id": "218dfa75",
   "metadata": {},
   "outputs": [
    {
     "name": "stdout",
     "output_type": "stream",
     "text": [
      "10\n",
      "20\n",
      "30\n",
      "4\n"
     ]
    }
   ],
   "source": [
    "for i in b:\n",
    "    print(i)"
   ]
  },
  {
   "cell_type": "markdown",
   "id": "f4a8cb06",
   "metadata": {},
   "source": [
    "#### Boolean Datatype\n",
    "\n",
    "`The boolean data type has two values True or False and one value among them is stored as a single byte. The boolean data type is primarily associated with conditional statements, which allow different actions by changing flow depending on whether a specified condition evaluates to true or false.`"
   ]
  },
  {
   "cell_type": "code",
   "execution_count": 43,
   "id": "870077ba",
   "metadata": {},
   "outputs": [
    {
     "name": "stdout",
     "output_type": "stream",
     "text": [
      "True\n"
     ]
    }
   ],
   "source": [
    "a = True\n",
    "print(a)"
   ]
  },
  {
   "cell_type": "code",
   "execution_count": 45,
   "id": "81e96f0c",
   "metadata": {},
   "outputs": [
    {
     "name": "stdout",
     "output_type": "stream",
     "text": [
      "<class 'bool'>\n"
     ]
    }
   ],
   "source": [
    "print(type(True))"
   ]
  },
  {
   "cell_type": "markdown",
   "id": "803272fe",
   "metadata": {},
   "source": [
    "* True is considered as value ‘1’\n",
    "\n",
    "* False is considered as value ‘0’\n",
    "\n",
    "* Values other than ‘0’ are considered as True, values could be +ve or -ve\n",
    "\n",
    "* Values other than the empty string ( ” ) are considered as True"
   ]
  },
  {
   "cell_type": "code",
   "execution_count": 46,
   "id": "ff84ae23",
   "metadata": {},
   "outputs": [
    {
     "data": {
      "text/plain": [
       "2"
      ]
     },
     "execution_count": 46,
     "metadata": {},
     "output_type": "execute_result"
    }
   ],
   "source": [
    "# in backend True = 1\n",
    "# False = 0\n",
    "\n",
    "True + True"
   ]
  },
  {
   "cell_type": "code",
   "execution_count": 47,
   "id": "c48f725c",
   "metadata": {},
   "outputs": [
    {
     "data": {
      "text/plain": [
       "1"
      ]
     },
     "execution_count": 47,
     "metadata": {},
     "output_type": "execute_result"
    }
   ],
   "source": [
    "True + False"
   ]
  },
  {
   "cell_type": "code",
   "execution_count": 48,
   "id": "64c14cde",
   "metadata": {},
   "outputs": [
    {
     "data": {
      "text/plain": [
       "0"
      ]
     },
     "execution_count": 48,
     "metadata": {},
     "output_type": "execute_result"
    }
   ],
   "source": [
    "False + False"
   ]
  },
  {
   "cell_type": "code",
   "execution_count": 49,
   "id": "74133f9c",
   "metadata": {},
   "outputs": [
    {
     "name": "stdout",
     "output_type": "stream",
     "text": [
      "Hi\n"
     ]
    }
   ],
   "source": [
    "if 32:\n",
    "    print(\"Hi\")"
   ]
  },
  {
   "cell_type": "code",
   "execution_count": 50,
   "id": "7ebe609e",
   "metadata": {},
   "outputs": [
    {
     "name": "stdout",
     "output_type": "stream",
     "text": [
      "Hii\n"
     ]
    }
   ],
   "source": [
    "if \"Hello\":\n",
    "    print(\"Hii\")"
   ]
  },
  {
   "cell_type": "code",
   "execution_count": 51,
   "id": "541886ad",
   "metadata": {},
   "outputs": [],
   "source": [
    "if \"\":\n",
    "    print(\"Hii\")"
   ]
  },
  {
   "cell_type": "markdown",
   "id": "51190cc2",
   "metadata": {},
   "source": [
    "#### String Datatype\n",
    "\n",
    "`String data type in python is an ordered sequence of characters enclosed within single, double or quadruple. The characters in a string can be anything such as numeric, alphanumeric, alphabets, or symbols.`\n",
    "\n",
    "\n",
    "The string is considered an immutable data type in python which means the values once created cannot be updated, it has to be either delete the whole string.\n",
    "\n"
   ]
  },
  {
   "cell_type": "code",
   "execution_count": 61,
   "id": "0cbdaf1f",
   "metadata": {},
   "outputs": [],
   "source": [
    "a = 'HI'\n",
    "b = \"Hello\""
   ]
  },
  {
   "cell_type": "code",
   "execution_count": 62,
   "id": "32598acc",
   "metadata": {},
   "outputs": [
    {
     "name": "stdout",
     "output_type": "stream",
     "text": [
      "<class 'str'>\n"
     ]
    }
   ],
   "source": [
    "print(type(b))"
   ]
  },
  {
   "cell_type": "markdown",
   "id": "815b3bf9",
   "metadata": {},
   "source": [
    "#### Long data type (dropped in python 3)\n",
    "Long stores Integer type with unlimited length. Python 2 has two numeric types int and long but dropped in Python 3.0. Since Python 3.0 use int and Float type instead. Longs and Ints are automatically converted to floats when a float is used in an expression, and with the true-division / operator.\n",
    "\n",
    "\n",
    "### Collection Data Types\n",
    "\n",
    "`All the Fundamental data types such as int, float, bool, complex, the string can hold only a single value. To store a certain collection of values we can use collection data types in python. These collection datatypes consist of:-`\n",
    "\n",
    "* List\n",
    "\n",
    "* Tuple\n",
    "\n",
    "* Set\n",
    "\n",
    "* Frozen-Set\n",
    "\n",
    "* Dictionary\n",
    "\n",
    "### List Datatype\n",
    "\n",
    "`List Datatype is a type that can store multiple values as a single entity. In the list, the values are stored in a particular order. Using this order of storing the values we can retrieve them using their index.`\n",
    "\n",
    "`Lists allow duplicate elements to store in them. Lists are represented using, Square brackets [ ].`\n",
    "\n",
    "#### Properties of List:-\n",
    "\n",
    "* Lists are ordered, we can access the elements using indexes\n",
    "\n",
    "* Lists are mutable, once the element is added we can update them\n",
    "\n",
    "* Lists allow duplicate elements\n",
    "\n"
   ]
  },
  {
   "cell_type": "code",
   "execution_count": 63,
   "id": "162c1aa7",
   "metadata": {},
   "outputs": [
    {
     "name": "stdout",
     "output_type": "stream",
     "text": [
      "[1, 2, 3]\n",
      "<class 'list'>\n"
     ]
    }
   ],
   "source": [
    "a = [1,2,3]\n",
    "print(a)\n",
    "print(type(a))"
   ]
  },
  {
   "cell_type": "markdown",
   "id": "2bf42419",
   "metadata": {},
   "source": [
    "#### Tuple DataType\n",
    "\n",
    "`Tuple Data type is also used to store multiple values as a single entity, same as in Lists the values are ordered and duplicates are also allowed.` \n",
    "\n",
    "#### Properties of Tuple:-\n",
    "* Tuples are ordered, we can access the elements using indexes\n",
    "\n",
    "* Tuples are immutable, once the element is added we cannot remove them\n",
    "\n",
    "* Tuples allow duplicate elements\n",
    "\n",
    "`The only difference between list and tuple is immutability, once the elements are inserted it’s not possible to later update them. Whereas in List the items can be updated. The tuple is indicated using parentheses ( ).`"
   ]
  },
  {
   "cell_type": "code",
   "execution_count": 64,
   "id": "ed1f1101",
   "metadata": {},
   "outputs": [
    {
     "name": "stdout",
     "output_type": "stream",
     "text": [
      "1\n",
      "<class 'type'>\n"
     ]
    }
   ],
   "source": [
    "a = (1,'hi', 3, '45')\n",
    "print(a[0])\n",
    "print(type(tuple))"
   ]
  },
  {
   "cell_type": "markdown",
   "id": "60d7aa48",
   "metadata": {},
   "source": [
    "### Set Data Type\n",
    "\n",
    "`The set data type is used to store a group of entities, without specifying the order of storing them. In Sets, the inserting of duplicate elements is not allowed. Sets are represented using Curly braces { }.`"
   ]
  },
  {
   "cell_type": "code",
   "execution_count": 65,
   "id": "569857b6",
   "metadata": {},
   "outputs": [
    {
     "name": "stdout",
     "output_type": "stream",
     "text": [
      "{1, 3, 'm', '5'}\n"
     ]
    }
   ],
   "source": [
    "a = {1, \"m\", 3, \"5\"}\n",
    "print(a)"
   ]
  },
  {
   "cell_type": "code",
   "execution_count": 67,
   "id": "80a4e876",
   "metadata": {},
   "outputs": [
    {
     "name": "stdout",
     "output_type": "stream",
     "text": [
      "<class 'set'>\n"
     ]
    }
   ],
   "source": [
    "print(type(a))"
   ]
  },
  {
   "cell_type": "markdown",
   "id": "8ae7424d",
   "metadata": {},
   "source": [
    "#### Properties of Sets are:-\n",
    "\n",
    "* Sets are mutable,  that means it allows us to perform updation and deletion of items from the set.\n",
    "* Sets do not have ordered elements\n",
    "* Duplicate elements are not allowed in set, even if try to add the property of set removes them by default\n",
    "\n",
    "In Set to access the elements, indexing is not allowed, since the order is not followed while storing the elements. If we try to access it using an index it throws an error."
   ]
  },
  {
   "cell_type": "code",
   "execution_count": 68,
   "id": "b290702b",
   "metadata": {},
   "outputs": [
    {
     "ename": "TypeError",
     "evalue": "'set' object is not subscriptable",
     "output_type": "error",
     "traceback": [
      "\u001b[1;31m---------------------------------------------------------------------------\u001b[0m",
      "\u001b[1;31mTypeError\u001b[0m                                 Traceback (most recent call last)",
      "Input \u001b[1;32mIn [68]\u001b[0m, in \u001b[0;36m<cell line: 2>\u001b[1;34m()\u001b[0m\n\u001b[0;32m      1\u001b[0m a \u001b[38;5;241m=\u001b[39m {\u001b[38;5;241m1\u001b[39m, \u001b[38;5;124m\"\u001b[39m\u001b[38;5;124mm\u001b[39m\u001b[38;5;124m\"\u001b[39m, \u001b[38;5;241m3\u001b[39m, \u001b[38;5;124m\"\u001b[39m\u001b[38;5;124m5\u001b[39m\u001b[38;5;124m\"\u001b[39m}\n\u001b[1;32m----> 2\u001b[0m \u001b[38;5;28mprint\u001b[39m(\u001b[43ma\u001b[49m\u001b[43m[\u001b[49m\u001b[38;5;241;43m1\u001b[39;49m\u001b[43m]\u001b[49m)\n",
      "\u001b[1;31mTypeError\u001b[0m: 'set' object is not subscriptable"
     ]
    }
   ],
   "source": [
    "a = {1, \"m\", 3, \"5\"}\n",
    "print(a[1])"
   ]
  },
  {
   "cell_type": "markdown",
   "id": "b3d2eb97",
   "metadata": {},
   "source": [
    "To access the set elements we can loop over the set and print each element. But since the set is unordered, while printing the items, the order is not preserved."
   ]
  },
  {
   "cell_type": "code",
   "execution_count": 71,
   "id": "bf711533",
   "metadata": {},
   "outputs": [
    {
     "name": "stdout",
     "output_type": "stream",
     "text": [
      "1\n",
      "3\n",
      "m\n",
      "5\n"
     ]
    }
   ],
   "source": [
    "for i in a:\n",
    "    print(i)"
   ]
  },
  {
   "cell_type": "markdown",
   "id": "2c85a7cf",
   "metadata": {},
   "source": [
    "#### Frozen-Set Data Type\n",
    "\n",
    "`Frozen-Set data type is used to store the collection of elements by removing duplicate elements. Frozen sets are similar to sets, the only difference is mutability. Frozen sets are immutable, the operations such as add, remove are not applicable.`\n",
    "\n",
    "\n",
    "####  Properties of Frozen-set:-\n",
    "\n",
    "* Can insert multiple values into the frozen set\n",
    "* Immutable\n",
    "* Unordered\n",
    "* Duplicate elements are not allowed\n",
    "\n",
    "`Frozen set is declared using the frozenset() function.`"
   ]
  },
  {
   "cell_type": "code",
   "execution_count": 72,
   "id": "22b4f7ae",
   "metadata": {},
   "outputs": [
    {
     "name": "stdout",
     "output_type": "stream",
     "text": [
      "<class 'frozenset'>\n"
     ]
    }
   ],
   "source": [
    "a = {1, 2, '4', 'hi', 45}\n",
    "a = frozenset(a)\n",
    "print(type(a))\n"
   ]
  },
  {
   "cell_type": "markdown",
   "id": "c7d4f5b9",
   "metadata": {},
   "source": [
    "`To access the set elements we can loop over the set and print each element. But since the set is unordered, while printing the items, the order is not preserved.`"
   ]
  },
  {
   "cell_type": "code",
   "execution_count": 73,
   "id": "e1c9aeec",
   "metadata": {},
   "outputs": [
    {
     "name": "stdout",
     "output_type": "stream",
     "text": [
      "1\n",
      "2\n",
      "hi\n",
      "4\n",
      "45\n"
     ]
    }
   ],
   "source": [
    "for i in a:\n",
    "    print(i)"
   ]
  },
  {
   "cell_type": "markdown",
   "id": "d73bff8a",
   "metadata": {},
   "source": [
    "#### Dictionary Data Type\n",
    "\n",
    "`Dictionary Data type stores values in the form of key-value pairs. These key-value pairs are separated by a colon between them.`\n",
    "\n",
    "#### Properties of Dictionary are:-\n",
    "\n",
    "* Dictionary is an uordered data type\n",
    "* They mutable such that we can add or remove the elements from the dictionary \n",
    "* In dictionary duplicates are not allowed\n",
    "\n",
    "\n",
    "For accessing the values of the dictionary we use the dictionary keys."
   ]
  },
  {
   "cell_type": "code",
   "execution_count": 74,
   "id": "84dbc5b9",
   "metadata": {},
   "outputs": [
    {
     "name": "stdout",
     "output_type": "stream",
     "text": [
      "3\n",
      "<class 'dict'>\n"
     ]
    }
   ],
   "source": [
    "dict = {1:2, 'a':3, 6:'a', 'hi':'hello'}\n",
    "print(dict['a'])\n",
    "print(type(dict))"
   ]
  },
  {
   "cell_type": "markdown",
   "id": "c4c9b5c7",
   "metadata": {},
   "source": [
    "#### Range Data Type\n",
    "\n",
    "The range data type is used to represent a sequence of numbers that are in a particular range. If the start number is not mentioned by default it starts printing the values from the zero incrementing by 1 till the specified range."
   ]
  },
  {
   "cell_type": "code",
   "execution_count": 75,
   "id": "c2ce9557",
   "metadata": {},
   "outputs": [
    {
     "name": "stdout",
     "output_type": "stream",
     "text": [
      "<class 'range'>\n"
     ]
    }
   ],
   "source": [
    "a = range(5)\n",
    "print(type(a))"
   ]
  },
  {
   "cell_type": "markdown",
   "id": "9948535a",
   "metadata": {},
   "source": [
    "We can use the range to execute the loop for a particular number of times or we can directly print the number that is in the specified range."
   ]
  },
  {
   "cell_type": "code",
   "execution_count": 76,
   "id": "f5ee4570",
   "metadata": {},
   "outputs": [
    {
     "name": "stdout",
     "output_type": "stream",
     "text": [
      "0\n",
      "1\n",
      "2\n",
      "3\n",
      "4\n"
     ]
    }
   ],
   "source": [
    " for i in range(5):\n",
    "    print(i)"
   ]
  },
  {
   "cell_type": "markdown",
   "id": "76d06444",
   "metadata": {},
   "source": [
    "#### Complex Datatype\n",
    "\n",
    "`Complex Data-types are those whose numbers are stored in the form of  a + bj .`\n",
    "\n",
    "* a is the real part\n",
    "\n",
    "* b is the imaginary part\n",
    "\n",
    "* j is the square root of -1"
   ]
  },
  {
   "cell_type": "code",
   "execution_count": 77,
   "id": "bcf59961",
   "metadata": {},
   "outputs": [],
   "source": [
    "# Examples of complex numbers \n",
    "# 1 + j, 3.0 - 4.5j, 2 + 9j, etc.,"
   ]
  },
  {
   "cell_type": "markdown",
   "id": "593cc3eb",
   "metadata": {},
   "source": [
    "`The real part of the complex number can be represented in any format such as int, float, octal, binary, hexadecimal. But the imaginary part has to be represented only in int or float type, if we try to assign binary or octal or hexadecimal type python interpreter throws an error.`"
   ]
  },
  {
   "cell_type": "code",
   "execution_count": 78,
   "id": "9175c32f",
   "metadata": {},
   "outputs": [
    {
     "name": "stdout",
     "output_type": "stream",
     "text": [
      "<class 'complex'>\n"
     ]
    }
   ],
   "source": [
    "# declaring complex numbers in different representations\n",
    "# over here we declare only the real part in hexa, oct, binary \n",
    "a = 0x3a + 5j\n",
    "print(type(a))"
   ]
  },
  {
   "cell_type": "code",
   "execution_count": 79,
   "id": "14950146",
   "metadata": {},
   "outputs": [
    {
     "name": "stdout",
     "output_type": "stream",
     "text": [
      "<class 'complex'>\n"
     ]
    }
   ],
   "source": [
    "b = 0b01 + 4j\n",
    "print(type(b))"
   ]
  },
  {
   "cell_type": "code",
   "execution_count": 80,
   "id": "5b5198f1",
   "metadata": {},
   "outputs": [
    {
     "name": "stdout",
     "output_type": "stream",
     "text": [
      "<class 'complex'>\n"
     ]
    }
   ],
   "source": [
    "\n",
    "c = 0o72 + 84j \n",
    "print(type(c))"
   ]
  },
  {
   "cell_type": "markdown",
   "id": "3b3f3169",
   "metadata": {},
   "source": [
    "If we try to define the imaginary part of the number in hex, oct, or binary format it throws a syntax error."
   ]
  },
  {
   "cell_type": "code",
   "execution_count": 81,
   "id": "cfc1cc11",
   "metadata": {},
   "outputs": [
    {
     "ename": "SyntaxError",
     "evalue": "invalid syntax (408392885.py, line 1)",
     "output_type": "error",
     "traceback": [
      "\u001b[1;36m  Input \u001b[1;32mIn [81]\u001b[1;36m\u001b[0m\n\u001b[1;33m    a = 0x52f3e + 0x52f3ej\u001b[0m\n\u001b[1;37m                         ^\u001b[0m\n\u001b[1;31mSyntaxError\u001b[0m\u001b[1;31m:\u001b[0m invalid syntax\n"
     ]
    }
   ],
   "source": [
    "a = 0x52f3e + 0x52f3ej"
   ]
  },
  {
   "cell_type": "markdown",
   "id": "0803f085",
   "metadata": {},
   "source": [
    "`We can perform operations such as addition (+), subtraction (-), multiplication (*), the division (/) between complex numbers.`"
   ]
  },
  {
   "cell_type": "code",
   "execution_count": 82,
   "id": "f13bd104",
   "metadata": {},
   "outputs": [
    {
     "name": "stdout",
     "output_type": "stream",
     "text": [
      "(7-3.5j)\n",
      "(3+8.5j)\n",
      "(25-25j)\n",
      "(-0.12500000000000003+0.8749999999999999j)\n"
     ]
    }
   ],
   "source": [
    "a = 5 + 2.5j\n",
    "b = 2 - 6j\n",
    "\n",
    "print(a + b)\n",
    "print(a - b)\n",
    "print(a * b)\n",
    "print(a / b)"
   ]
  },
  {
   "cell_type": "markdown",
   "id": "7a390e8b",
   "metadata": {},
   "source": [
    "#### Note :\n",
    "\n",
    "`There are in-built methods in python to retrieve the real and imaginary parts of the complex number, they are real(), imag(). We don’t have to import the functions to use them.`"
   ]
  },
  {
   "cell_type": "code",
   "execution_count": 85,
   "id": "5e4ef501",
   "metadata": {},
   "outputs": [
    {
     "name": "stdout",
     "output_type": "stream",
     "text": [
      "5.0\n",
      "2.5\n"
     ]
    }
   ],
   "source": [
    "a = 5 + 2.5j\n",
    "print(a.real)\n",
    "print(a.imag)"
   ]
  },
  {
   "cell_type": "markdown",
   "id": "68f0e81c",
   "metadata": {},
   "source": [
    "#### Memory and Allocation for Variables\n",
    "\n",
    "\n",
    "In Python, we can find out the memory address of the variable by using the `id()` function. This returns a base-10 number. In case if the number seems too long we can convert it into hexadecimal, by using the `hex()` function."
   ]
  },
  {
   "cell_type": "code",
   "execution_count": 89,
   "id": "6000eec3",
   "metadata": {},
   "outputs": [
    {
     "name": "stdout",
     "output_type": "stream",
     "text": [
      "1649845299632\n",
      "0x180227169b0\n"
     ]
    }
   ],
   "source": [
    "a = 5\n",
    "print(id(a))\n",
    "print(hex(id(a)))"
   ]
  },
  {
   "cell_type": "markdown",
   "id": "aa55a883",
   "metadata": {},
   "source": [
    "### Multiple references to a single object\n",
    "\n",
    "`When we assign b = a the new variable b does not store the data ‘5’ rather it references the same memory address that a points.\n",
    "\n",
    "Let’s check with an example, in the below code b is assigned to a and when we check the memory address of a and b it shows the same. `"
   ]
  },
  {
   "cell_type": "code",
   "execution_count": 90,
   "id": "8704978a",
   "metadata": {},
   "outputs": [
    {
     "name": "stdout",
     "output_type": "stream",
     "text": [
      "0x180227169b0\n",
      "0x180227169b0\n"
     ]
    }
   ],
   "source": [
    "a = 5\n",
    "b = a\n",
    "print(hex(id(a)))\n",
    "print(hex(id(b)))"
   ]
  },
  {
   "cell_type": "markdown",
   "id": "800ad42f",
   "metadata": {},
   "source": [
    "`This proves that assigning an existing variable to a new variable does not create data stored in a new memory block, rather it points to the same memory block.`\n",
    "\n",
    "### Reference count of a memory block\n",
    "\n",
    "\n",
    "`Reference count determines the number of references that are created to a single memory block. In python, the memory block is maintained by the Python memory manager, when there is no reference for a particular object it directly deletes the data and allocates the memory to a new object.`\n",
    "\n",
    "\n",
    "\n",
    "In the above diagram, a single memory block is referenced by 2 different variables, then the reference count of that particular block is 2.\n",
    "\n",
    "In python, we can find out reference count using the `sys module. sys.getrefcount()` takes the variable as a parameter and determines the reference count of the memory block that is a reference by the variable a."
   ]
  },
  {
   "cell_type": "code",
   "execution_count": 91,
   "id": "962e7c57",
   "metadata": {},
   "outputs": [
    {
     "name": "stdout",
     "output_type": "stream",
     "text": [
      "3\n"
     ]
    }
   ],
   "source": [
    "import sys\n",
    "a=[12.3, 15]\n",
    "b=a\n",
    "print(sys.getrefcount(a))"
   ]
  },
  {
   "cell_type": "markdown",
   "id": "3f68c2c6",
   "metadata": {},
   "source": [
    "`In the above code, we created a variable a and assigned it to a new variable b. When we calculate the reference count the value should be 2. But it returned 3.`\n",
    "\n",
    "`Because when we pass the variable to the function, we are indirectly creating one more reference to the same memory block this makes that count to be incremented by +1. So every time we need to subtract the result by 1.`\n",
    "\n",
    "`To overcome this situation there is one more function from ctypes module. It returns the exact reference count of the memory block and accepts the memory address as the parameter. We need to pass directly the address of the memory block, by using id() function.`"
   ]
  },
  {
   "cell_type": "code",
   "execution_count": 92,
   "id": "5e769811",
   "metadata": {},
   "outputs": [
    {
     "name": "stdout",
     "output_type": "stream",
     "text": [
      "2\n"
     ]
    }
   ],
   "source": [
    "import ctypes\n",
    "a=[12.3, 15]\n",
    "b=a\n",
    "print(ctypes.c_long.from_address(id(a)).value)"
   ]
  },
  {
   "cell_type": "markdown",
   "id": "0a5e4772",
   "metadata": {},
   "source": [
    "### Python how to sys.stdout.write write variables?\n",
    "\n",
    "stdout is used to display output directly to the screen console. When a print function is called, it is first written to `sys.stdout` and then finally to the screen. Multiple `sys.stdout.write` display the output in the same line(without overriding existing line) if used in interactive mode, whereas multiple print statement displays output in a new line."
   ]
  },
  {
   "cell_type": "code",
   "execution_count": 93,
   "id": "1f835511",
   "metadata": {},
   "outputs": [
    {
     "name": "stdout",
     "output_type": "stream",
     "text": [
      "Pythonwife.com"
     ]
    },
    {
     "data": {
      "text/plain": [
       "4"
      ]
     },
     "execution_count": 93,
     "metadata": {},
     "output_type": "execute_result"
    }
   ],
   "source": [
    "import sys\n",
    "\n",
    "sys.stdout.write(\"Python\")\n",
    "sys.stdout.write(\"wife\")\n",
    "sys.stdout.write(\".com\")\n",
    "\n"
   ]
  },
  {
   "cell_type": "markdown",
   "id": "7d9ba6e1",
   "metadata": {},
   "source": [
    "### How to check python is installed environmental variables?\n",
    "\n",
    "`We can check whether python is installed in environment variables or not using the sys module. It returns the list of Path information Python can see from environment variables.`"
   ]
  },
  {
   "cell_type": "code",
   "execution_count": 96,
   "id": "cb4b0c28",
   "metadata": {},
   "outputs": [
    {
     "name": "stdout",
     "output_type": "stream",
     "text": [
      "E:\\Python_world\\pythonwife_com\n",
      "\n",
      "C:\\Users\\ankit.shukla\\AppData\\Local\\Programs\\Python\\Python39\\python39.zip\n",
      "\n",
      "C:\\Users\\ankit.shukla\\AppData\\Local\\Programs\\Python\\Python39\\DLLs\n",
      "\n",
      "C:\\Users\\ankit.shukla\\AppData\\Local\\Programs\\Python\\Python39\\lib\n",
      "\n",
      "C:\\Users\\ankit.shukla\\AppData\\Local\\Programs\\Python\\Python39\n",
      "\n",
      "\n",
      "\n",
      "C:\\Users\\ankit.shukla\\AppData\\Local\\Programs\\Python\\Python39\\lib\\site-packages\n",
      "\n",
      "C:\\Users\\ankit.shukla\\AppData\\Local\\Programs\\Python\\Python39\\lib\\site-packages\\win32\n",
      "\n",
      "C:\\Users\\ankit.shukla\\AppData\\Local\\Programs\\Python\\Python39\\lib\\site-packages\\win32\\lib\n",
      "\n",
      "C:\\Users\\ankit.shukla\\AppData\\Local\\Programs\\Python\\Python39\\lib\\site-packages\\Pythonwin\n",
      "\n"
     ]
    }
   ],
   "source": [
    "import sys, os\n",
    "\n",
    "for i in sys.path:\n",
    "    print(i)\n",
    "    print()"
   ]
  },
  {
   "cell_type": "code",
   "execution_count": 99,
   "id": "cab4518b",
   "metadata": {},
   "outputs": [
    {
     "ename": "KeyError",
     "evalue": "'Pythonpath'",
     "output_type": "error",
     "traceback": [
      "\u001b[1;31m---------------------------------------------------------------------------\u001b[0m",
      "\u001b[1;31mKeyError\u001b[0m                                  Traceback (most recent call last)",
      "Input \u001b[1;32mIn [99]\u001b[0m, in \u001b[0;36m<cell line: 1>\u001b[1;34m()\u001b[0m\n\u001b[1;32m----> 1\u001b[0m \u001b[43mos\u001b[49m\u001b[38;5;241;43m.\u001b[39;49m\u001b[43menviron\u001b[49m\u001b[43m[\u001b[49m\u001b[38;5;124;43m\"\u001b[39;49m\u001b[38;5;124;43mPythonpath\u001b[39;49m\u001b[38;5;124;43m\"\u001b[39;49m\u001b[43m]\u001b[49m\u001b[38;5;241m.\u001b[39msplit(os\u001b[38;5;241m.\u001b[39mpathsep)\n",
      "File \u001b[1;32m~\\AppData\\Local\\Programs\\Python\\Python39\\lib\\os.py:679\u001b[0m, in \u001b[0;36m_Environ.__getitem__\u001b[1;34m(self, key)\u001b[0m\n\u001b[0;32m    676\u001b[0m     value \u001b[38;5;241m=\u001b[39m \u001b[38;5;28mself\u001b[39m\u001b[38;5;241m.\u001b[39m_data[\u001b[38;5;28mself\u001b[39m\u001b[38;5;241m.\u001b[39mencodekey(key)]\n\u001b[0;32m    677\u001b[0m \u001b[38;5;28;01mexcept\u001b[39;00m \u001b[38;5;167;01mKeyError\u001b[39;00m:\n\u001b[0;32m    678\u001b[0m     \u001b[38;5;66;03m# raise KeyError with the original key value\u001b[39;00m\n\u001b[1;32m--> 679\u001b[0m     \u001b[38;5;28;01mraise\u001b[39;00m \u001b[38;5;167;01mKeyError\u001b[39;00m(key) \u001b[38;5;28;01mfrom\u001b[39;00m \u001b[38;5;28mNone\u001b[39m\n\u001b[0;32m    680\u001b[0m \u001b[38;5;28;01mreturn\u001b[39;00m \u001b[38;5;28mself\u001b[39m\u001b[38;5;241m.\u001b[39mdecodevalue(value)\n",
      "\u001b[1;31mKeyError\u001b[0m: 'Pythonpath'"
     ]
    }
   ],
   "source": [
    "os.environ[\"Pythonpath\"].split(os.pathsep)"
   ]
  },
  {
   "cell_type": "markdown",
   "id": "4da0ef3d",
   "metadata": {},
   "source": [
    "#### What does it mean that a data type is hashable in python?\n",
    "\n",
    "An object is said to be hashable `if it has a hash value that remains the same during its lifetime`. In Python, all the immutable datatypes are hashable such as `Tuple, string, int, etc.`, We can check whether a variable of a datatype is hashable or not by passing the variable into hash() method.\n",
    "\n",
    "hash() return a negative hash value of the variable if it is hashable and it remains the same for the lifetime of the variable. `If the data type of the variable is immutable or not hashable it throws an error.`"
   ]
  },
  {
   "cell_type": "code",
   "execution_count": 100,
   "id": "cae0870a",
   "metadata": {},
   "outputs": [
    {
     "name": "stdout",
     "output_type": "stream",
     "text": [
      "529344067295497451\n"
     ]
    }
   ],
   "source": [
    "var = (1,2,3)\n",
    "print(hash(var))"
   ]
  },
  {
   "cell_type": "code",
   "execution_count": 101,
   "id": "8e5b6071",
   "metadata": {},
   "outputs": [
    {
     "name": "stdout",
     "output_type": "stream",
     "text": [
      "4383880069692177441\n"
     ]
    }
   ],
   "source": [
    "print(hash(\"Hello world\"))"
   ]
  },
  {
   "cell_type": "code",
   "execution_count": null,
   "id": "7bd0ab4f",
   "metadata": {},
   "outputs": [],
   "source": []
  },
  {
   "cell_type": "code",
   "execution_count": null,
   "id": "791ae045",
   "metadata": {},
   "outputs": [],
   "source": []
  },
  {
   "cell_type": "code",
   "execution_count": null,
   "id": "2867d38d",
   "metadata": {},
   "outputs": [],
   "source": []
  },
  {
   "cell_type": "code",
   "execution_count": null,
   "id": "7f30a156",
   "metadata": {},
   "outputs": [],
   "source": []
  },
  {
   "cell_type": "code",
   "execution_count": null,
   "id": "bf395716",
   "metadata": {},
   "outputs": [],
   "source": []
  },
  {
   "cell_type": "code",
   "execution_count": null,
   "id": "f41e1f71",
   "metadata": {},
   "outputs": [],
   "source": []
  },
  {
   "cell_type": "code",
   "execution_count": null,
   "id": "bb89044f",
   "metadata": {},
   "outputs": [],
   "source": []
  },
  {
   "cell_type": "code",
   "execution_count": null,
   "id": "2bdb64e1",
   "metadata": {},
   "outputs": [],
   "source": []
  },
  {
   "cell_type": "code",
   "execution_count": 6,
   "id": "79852278",
   "metadata": {},
   "outputs": [
    {
     "name": "stdout",
     "output_type": "stream",
     "text": [
      "None\n",
      "environ({'ALLUSERSPROFILE': 'C:\\\\ProgramData', 'APPDATA': 'C:\\\\Users\\\\ankit.shukla\\\\AppData\\\\Roaming', 'COMMONPROGRAMFILES': 'C:\\\\Program Files\\\\Common Files', 'COMMONPROGRAMFILES(X86)': 'C:\\\\Program Files (x86)\\\\Common Files', 'COMMONPROGRAMW6432': 'C:\\\\Program Files\\\\Common Files', 'COMPUTERNAME': 'PUN-LAP-SHUKLA', 'COMSPEC': 'C:\\\\Windows\\\\system32\\\\cmd.exe', 'DRIVERDATA': 'C:\\\\Windows\\\\System32\\\\Drivers\\\\DriverData', 'FPS_BROWSER_APP_PROFILE_STRING': 'Internet Explorer', 'FPS_BROWSER_USER_PROFILE_STRING': 'Default', 'HOMEDRIVE': 'C:', 'HOMEPATH': '\\\\Users\\\\ankit.shukla', 'LOCALAPPDATA': 'C:\\\\Users\\\\ankit.shukla\\\\AppData\\\\Local', 'LOGONSERVER': '\\\\\\\\CHN-DC', 'NUMBER_OF_PROCESSORS': '8', 'ONEDRIVE': 'C:\\\\Users\\\\ankit.shukla\\\\OneDrive', 'OS': 'Windows_NT', 'PATH': 'C:\\\\Windows\\\\system32;C:\\\\Windows;C:\\\\Windows\\\\System32\\\\Wbem;C:\\\\Windows\\\\System32\\\\WindowsPowerShell\\\\v1.0\\\\;C:\\\\Windows\\\\System32\\\\OpenSSH\\\\;C:\\\\Users\\\\ankit.shukla\\\\AppData\\\\Local\\\\Programs\\\\Python\\\\Python39\\\\Scripts\\\\;C:\\\\Users\\\\ankit.shukla\\\\AppData\\\\Local\\\\Programs\\\\Python\\\\Python39\\\\;C:\\\\Users\\\\ankit.shukla\\\\AppData\\\\Local\\\\Microsoft\\\\WindowsApps;C:\\\\Users\\\\ankit.shukla\\\\AppData\\\\Local\\\\Programs\\\\Microsoft VS Code\\\\bin;E:\\\\Git\\\\cmd', 'PATHEXT': '.COM;.EXE;.BAT;.CMD;.VBS;.VBE;.JS;.JSE;.WSF;.WSH;.MSC', 'PROCESSOR_ARCHITECTURE': 'AMD64', 'PROCESSOR_IDENTIFIER': 'Intel64 Family 6 Model 140 Stepping 1, GenuineIntel', 'PROCESSOR_LEVEL': '6', 'PROCESSOR_REVISION': '8c01', 'PROGRAMDATA': 'C:\\\\ProgramData', 'PROGRAMFILES': 'C:\\\\Program Files', 'PROGRAMFILES(X86)': 'C:\\\\Program Files (x86)', 'PROGRAMW6432': 'C:\\\\Program Files', 'PROMPT': '$P$G', 'PSMODULEPATH': 'C:\\\\Program Files\\\\WindowsPowerShell\\\\Modules;C:\\\\Windows\\\\system32\\\\WindowsPowerShell\\\\v1.0\\\\Modules', 'PUBLIC': 'C:\\\\Users\\\\Public', 'SESSIONNAME': 'Console', 'SYSTEMDRIVE': 'C:', 'SYSTEMROOT': 'C:\\\\Windows', 'TEMP': 'C:\\\\Users\\\\ANKIT~1.SHU\\\\AppData\\\\Local\\\\Temp\\\\8', 'TMP': 'C:\\\\Users\\\\ANKIT~1.SHU\\\\AppData\\\\Local\\\\Temp\\\\8', 'USERDNSDOMAIN': 'AD.MSYSTECHNOLOGIES.COM', 'USERDOMAIN': 'Msyst', 'USERDOMAIN_ROAMINGPROFILE': 'Msyst', 'USERNAME': 'ankit.shukla', 'USERPROFILE': 'C:\\\\Users\\\\ankit.shukla', 'WINDIR': 'C:\\\\Windows', 'ZES_ENABLE_SYSMAN': '1', 'PYDEVD_USE_FRAME_EVAL': 'NO', 'JPY_INTERRUPT_EVENT': '2784', 'IPY_INTERRUPT_EVENT': '2784', 'JPY_PARENT_PID': '2228', 'TERM': 'xterm-color', 'CLICOLOR': '1', 'PAGER': 'cat', 'GIT_PAGER': 'cat', 'MPLBACKEND': 'module://matplotlib_inline.backend_inline'})\n"
     ]
    }
   ],
   "source": [
    "import os\n",
    "\n",
    "a = os.getenv(\"home\")\n",
    "print(a)\n",
    "print(os.environ)"
   ]
  },
  {
   "cell_type": "code",
   "execution_count": 7,
   "id": "de02c760",
   "metadata": {},
   "outputs": [
    {
     "name": "stdout",
     "output_type": "stream",
     "text": [
      "3\n"
     ]
    }
   ],
   "source": [
    "import sys\n",
    "a=[12.3, 15]\n",
    "b=a\n",
    "print(sys.getrefcount(a))"
   ]
  },
  {
   "cell_type": "code",
   "execution_count": 8,
   "id": "e803a843",
   "metadata": {},
   "outputs": [
    {
     "name": "stdout",
     "output_type": "stream",
     "text": [
      "2\n"
     ]
    }
   ],
   "source": [
    "import ctypes\n",
    "a=[12.3, 15]\n",
    "b=a\n",
    "print(ctypes.c_long.from_address(id(a)).value)\n"
   ]
  },
  {
   "cell_type": "code",
   "execution_count": null,
   "id": "02e4d118",
   "metadata": {},
   "outputs": [],
   "source": []
  }
 ],
 "metadata": {
  "kernelspec": {
   "display_name": "Python 3 (ipykernel)",
   "language": "python",
   "name": "python3"
  },
  "language_info": {
   "codemirror_mode": {
    "name": "ipython",
    "version": 3
   },
   "file_extension": ".py",
   "mimetype": "text/x-python",
   "name": "python",
   "nbconvert_exporter": "python",
   "pygments_lexer": "ipython3",
   "version": "3.9.7"
  }
 },
 "nbformat": 4,
 "nbformat_minor": 5
}
